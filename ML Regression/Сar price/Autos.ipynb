{
 "cells": [
  {
   "cell_type": "markdown",
   "metadata": {},
   "source": [
    "# Описание проекта\n",
    "\n",
    "Есть данные об автомобилях с интернет-сервиса объявлений. Необходимо построить модель, которая максимально точно предсказывала бы цену автомобиля. Помимо точности важна также скорость обучения и предсказания.\n",
    "\n",
    "\n",
    "# Используемые библиотеки\n",
    "Pandas, numpy, seaborn, matplotlib, sklearn, lightgbm"
   ]
  },
  {
   "cell_type": "markdown",
   "metadata": {},
   "source": [
    "## План исследования\n",
    "1. Подготовка данных\n",
    "2. Обучение разных моделей с различными гиперпараметрами\n",
    "3. Анализ скорости работы и качества моделей  \n",
    "Общий вывод"
   ]
  },
  {
   "cell_type": "markdown",
   "metadata": {},
   "source": [
    "# 1. Подготовка данных <a id='section1'></a>"
   ]
  },
  {
   "cell_type": "markdown",
   "metadata": {},
   "source": [
    "Импортируем необходимые библиотеки"
   ]
  },
  {
   "cell_type": "code",
   "execution_count": 1,
   "metadata": {},
   "outputs": [],
   "source": [
    "import pandas as pd\n",
    "import numpy as np\n",
    "import seaborn as sns\n",
    "import matplotlib.pyplot as plt\n",
    "import warnings\n",
    "\n",
    "\n",
    "from warnings import simplefilter\n",
    "simplefilter(action='ignore', category=FutureWarning)\n",
    "\n",
    "from sklearn.preprocessing import StandardScaler\n",
    "from sklearn.ensemble import RandomForestRegressor\n",
    "from sklearn.linear_model import LinearRegression\n",
    "import lightgbm as lgb\n",
    "from sklearn.model_selection import train_test_split\n",
    "from sklearn.model_selection import cross_val_score\n",
    "from sklearn.model_selection import GridSearchCV\n",
    "from sklearn.model_selection import RandomizedSearchCV\n",
    "from sklearn.metrics import mean_squared_error"
   ]
  },
  {
   "cell_type": "markdown",
   "metadata": {},
   "source": [
    "Загрузим данные"
   ]
  },
  {
   "cell_type": "code",
   "execution_count": 2,
   "metadata": {},
   "outputs": [
    {
     "name": "stdout",
     "output_type": "stream",
     "text": [
      "<class 'pandas.core.frame.DataFrame'>\n",
      "RangeIndex: 354369 entries, 0 to 354368\n",
      "Data columns (total 16 columns):\n",
      " #   Column             Non-Null Count   Dtype \n",
      "---  ------             --------------   ----- \n",
      " 0   DateCrawled        354369 non-null  object\n",
      " 1   Price              354369 non-null  int64 \n",
      " 2   VehicleType        316879 non-null  object\n",
      " 3   RegistrationYear   354369 non-null  int64 \n",
      " 4   Gearbox            334536 non-null  object\n",
      " 5   Power              354369 non-null  int64 \n",
      " 6   Model              334664 non-null  object\n",
      " 7   Kilometer          354369 non-null  int64 \n",
      " 8   RegistrationMonth  354369 non-null  int64 \n",
      " 9   FuelType           321474 non-null  object\n",
      " 10  Brand              354369 non-null  object\n",
      " 11  NotRepaired        283215 non-null  object\n",
      " 12  DateCreated        354369 non-null  object\n",
      " 13  NumberOfPictures   354369 non-null  int64 \n",
      " 14  PostalCode         354369 non-null  int64 \n",
      " 15  LastSeen           354369 non-null  object\n",
      "dtypes: int64(7), object(9)\n",
      "memory usage: 43.3+ MB\n"
     ]
    },
    {
     "data": {
      "text/html": [
       "<div>\n",
       "<style scoped>\n",
       "    .dataframe tbody tr th:only-of-type {\n",
       "        vertical-align: middle;\n",
       "    }\n",
       "\n",
       "    .dataframe tbody tr th {\n",
       "        vertical-align: top;\n",
       "    }\n",
       "\n",
       "    .dataframe thead th {\n",
       "        text-align: right;\n",
       "    }\n",
       "</style>\n",
       "<table border=\"1\" class=\"dataframe\">\n",
       "  <thead>\n",
       "    <tr style=\"text-align: right;\">\n",
       "      <th></th>\n",
       "      <th>DateCrawled</th>\n",
       "      <th>Price</th>\n",
       "      <th>VehicleType</th>\n",
       "      <th>RegistrationYear</th>\n",
       "      <th>Gearbox</th>\n",
       "      <th>Power</th>\n",
       "      <th>Model</th>\n",
       "      <th>Kilometer</th>\n",
       "      <th>RegistrationMonth</th>\n",
       "      <th>FuelType</th>\n",
       "      <th>Brand</th>\n",
       "      <th>NotRepaired</th>\n",
       "      <th>DateCreated</th>\n",
       "      <th>NumberOfPictures</th>\n",
       "      <th>PostalCode</th>\n",
       "      <th>LastSeen</th>\n",
       "    </tr>\n",
       "  </thead>\n",
       "  <tbody>\n",
       "    <tr>\n",
       "      <th>0</th>\n",
       "      <td>2016-03-24 11:52:17</td>\n",
       "      <td>480</td>\n",
       "      <td>NaN</td>\n",
       "      <td>1993</td>\n",
       "      <td>manual</td>\n",
       "      <td>0</td>\n",
       "      <td>golf</td>\n",
       "      <td>150000</td>\n",
       "      <td>0</td>\n",
       "      <td>petrol</td>\n",
       "      <td>volkswagen</td>\n",
       "      <td>NaN</td>\n",
       "      <td>2016-03-24 00:00:00</td>\n",
       "      <td>0</td>\n",
       "      <td>70435</td>\n",
       "      <td>2016-04-07 03:16:57</td>\n",
       "    </tr>\n",
       "    <tr>\n",
       "      <th>1</th>\n",
       "      <td>2016-03-24 10:58:45</td>\n",
       "      <td>18300</td>\n",
       "      <td>coupe</td>\n",
       "      <td>2011</td>\n",
       "      <td>manual</td>\n",
       "      <td>190</td>\n",
       "      <td>NaN</td>\n",
       "      <td>125000</td>\n",
       "      <td>5</td>\n",
       "      <td>gasoline</td>\n",
       "      <td>audi</td>\n",
       "      <td>yes</td>\n",
       "      <td>2016-03-24 00:00:00</td>\n",
       "      <td>0</td>\n",
       "      <td>66954</td>\n",
       "      <td>2016-04-07 01:46:50</td>\n",
       "    </tr>\n",
       "    <tr>\n",
       "      <th>2</th>\n",
       "      <td>2016-03-14 12:52:21</td>\n",
       "      <td>9800</td>\n",
       "      <td>suv</td>\n",
       "      <td>2004</td>\n",
       "      <td>auto</td>\n",
       "      <td>163</td>\n",
       "      <td>grand</td>\n",
       "      <td>125000</td>\n",
       "      <td>8</td>\n",
       "      <td>gasoline</td>\n",
       "      <td>jeep</td>\n",
       "      <td>NaN</td>\n",
       "      <td>2016-03-14 00:00:00</td>\n",
       "      <td>0</td>\n",
       "      <td>90480</td>\n",
       "      <td>2016-04-05 12:47:46</td>\n",
       "    </tr>\n",
       "    <tr>\n",
       "      <th>3</th>\n",
       "      <td>2016-03-17 16:54:04</td>\n",
       "      <td>1500</td>\n",
       "      <td>small</td>\n",
       "      <td>2001</td>\n",
       "      <td>manual</td>\n",
       "      <td>75</td>\n",
       "      <td>golf</td>\n",
       "      <td>150000</td>\n",
       "      <td>6</td>\n",
       "      <td>petrol</td>\n",
       "      <td>volkswagen</td>\n",
       "      <td>no</td>\n",
       "      <td>2016-03-17 00:00:00</td>\n",
       "      <td>0</td>\n",
       "      <td>91074</td>\n",
       "      <td>2016-03-17 17:40:17</td>\n",
       "    </tr>\n",
       "    <tr>\n",
       "      <th>4</th>\n",
       "      <td>2016-03-31 17:25:20</td>\n",
       "      <td>3600</td>\n",
       "      <td>small</td>\n",
       "      <td>2008</td>\n",
       "      <td>manual</td>\n",
       "      <td>69</td>\n",
       "      <td>fabia</td>\n",
       "      <td>90000</td>\n",
       "      <td>7</td>\n",
       "      <td>gasoline</td>\n",
       "      <td>skoda</td>\n",
       "      <td>no</td>\n",
       "      <td>2016-03-31 00:00:00</td>\n",
       "      <td>0</td>\n",
       "      <td>60437</td>\n",
       "      <td>2016-04-06 10:17:21</td>\n",
       "    </tr>\n",
       "  </tbody>\n",
       "</table>\n",
       "</div>"
      ],
      "text/plain": [
       "           DateCrawled  Price VehicleType  RegistrationYear Gearbox  Power  \\\n",
       "0  2016-03-24 11:52:17    480         NaN              1993  manual      0   \n",
       "1  2016-03-24 10:58:45  18300       coupe              2011  manual    190   \n",
       "2  2016-03-14 12:52:21   9800         suv              2004    auto    163   \n",
       "3  2016-03-17 16:54:04   1500       small              2001  manual     75   \n",
       "4  2016-03-31 17:25:20   3600       small              2008  manual     69   \n",
       "\n",
       "   Model  Kilometer  RegistrationMonth  FuelType       Brand NotRepaired  \\\n",
       "0   golf     150000                  0    petrol  volkswagen         NaN   \n",
       "1    NaN     125000                  5  gasoline        audi         yes   \n",
       "2  grand     125000                  8  gasoline        jeep         NaN   \n",
       "3   golf     150000                  6    petrol  volkswagen          no   \n",
       "4  fabia      90000                  7  gasoline       skoda          no   \n",
       "\n",
       "           DateCreated  NumberOfPictures  PostalCode             LastSeen  \n",
       "0  2016-03-24 00:00:00                 0       70435  2016-04-07 03:16:57  \n",
       "1  2016-03-24 00:00:00                 0       66954  2016-04-07 01:46:50  \n",
       "2  2016-03-14 00:00:00                 0       90480  2016-04-05 12:47:46  \n",
       "3  2016-03-17 00:00:00                 0       91074  2016-03-17 17:40:17  \n",
       "4  2016-03-31 00:00:00                 0       60437  2016-04-06 10:17:21  "
      ]
     },
     "execution_count": 2,
     "metadata": {},
     "output_type": "execute_result"
    }
   ],
   "source": [
    "df = pd.read_csv('autos.csv')\n",
    "\n",
    "df.info()\n",
    "df.head()"
   ]
  },
  {
   "cell_type": "markdown",
   "metadata": {},
   "source": [
    "Есть пропуски в категориальных признаках. Для них будут созданны отдельные колонки при использовании get_dummies."
   ]
  },
  {
   "cell_type": "markdown",
   "metadata": {},
   "source": [
    "Переведем категориальные признаки в тип category."
   ]
  },
  {
   "cell_type": "code",
   "execution_count": 3,
   "metadata": {},
   "outputs": [],
   "source": [
    "df['VehicleType'] = df['VehicleType'].astype('category')\n",
    "df['Gearbox'] = df['Gearbox'].astype('category')\n",
    "df['Model'] = df['Model'].astype('category')\n",
    "df['FuelType'] = df['FuelType'].astype('category')\n",
    "df['Brand'] = df['Brand'].astype('category')\n",
    "df['NotRepaired'] = df['NotRepaired'].astype('category')\n",
    "df['RegistrationMonth'] = df['RegistrationMonth'].astype('category')"
   ]
  },
  {
   "cell_type": "markdown",
   "metadata": {},
   "source": [
    "#### Проверим количественные переменные"
   ]
  },
  {
   "cell_type": "code",
   "execution_count": 4,
   "metadata": {},
   "outputs": [
    {
     "data": {
      "text/html": [
       "<div>\n",
       "<style scoped>\n",
       "    .dataframe tbody tr th:only-of-type {\n",
       "        vertical-align: middle;\n",
       "    }\n",
       "\n",
       "    .dataframe tbody tr th {\n",
       "        vertical-align: top;\n",
       "    }\n",
       "\n",
       "    .dataframe thead th {\n",
       "        text-align: right;\n",
       "    }\n",
       "</style>\n",
       "<table border=\"1\" class=\"dataframe\">\n",
       "  <thead>\n",
       "    <tr style=\"text-align: right;\">\n",
       "      <th></th>\n",
       "      <th>Min</th>\n",
       "      <th>Max</th>\n",
       "      <th>Mean</th>\n",
       "      <th>Median</th>\n",
       "    </tr>\n",
       "  </thead>\n",
       "  <tbody>\n",
       "    <tr>\n",
       "      <th>Price</th>\n",
       "      <td>0</td>\n",
       "      <td>20000</td>\n",
       "      <td>4416.66</td>\n",
       "      <td>2700</td>\n",
       "    </tr>\n",
       "    <tr>\n",
       "      <th>RegistrationYear</th>\n",
       "      <td>1000</td>\n",
       "      <td>9999</td>\n",
       "      <td>2004.23</td>\n",
       "      <td>2003</td>\n",
       "    </tr>\n",
       "    <tr>\n",
       "      <th>Power</th>\n",
       "      <td>0</td>\n",
       "      <td>20000</td>\n",
       "      <td>110.094</td>\n",
       "      <td>105</td>\n",
       "    </tr>\n",
       "    <tr>\n",
       "      <th>Kilometer</th>\n",
       "      <td>5000</td>\n",
       "      <td>150000</td>\n",
       "      <td>128211</td>\n",
       "      <td>150000</td>\n",
       "    </tr>\n",
       "    <tr>\n",
       "      <th>NumberOfPictures</th>\n",
       "      <td>0</td>\n",
       "      <td>0</td>\n",
       "      <td>0</td>\n",
       "      <td>0</td>\n",
       "    </tr>\n",
       "  </tbody>\n",
       "</table>\n",
       "</div>"
      ],
      "text/plain": [
       "                   Min     Max     Mean  Median\n",
       "Price                0   20000  4416.66    2700\n",
       "RegistrationYear  1000    9999  2004.23    2003\n",
       "Power                0   20000  110.094     105\n",
       "Kilometer         5000  150000   128211  150000\n",
       "NumberOfPictures     0       0        0       0"
      ]
     },
     "execution_count": 4,
     "metadata": {},
     "output_type": "execute_result"
    }
   ],
   "source": [
    "numeric = ['Price', 'RegistrationYear', 'Power', 'Kilometer',\n",
    "       'NumberOfPictures']\n",
    "\n",
    "stats = pd.DataFrame(index = numeric, columns=['Min', 'Max', 'Mean', 'Median'])\n",
    "\n",
    "for column in numeric:\n",
    "    stats.loc[column, 'Min'] = df[column].min()\n",
    "    stats.loc[column, 'Max'] = df[column].max()\n",
    "    stats.loc[column, 'Mean'] = df[column].mean()\n",
    "    stats.loc[column, 'Median'] = df[column].median()\n",
    "    \n",
    "stats"
   ]
  },
  {
   "cell_type": "markdown",
   "metadata": {},
   "source": [
    "Выявлены следующие проблемы:<br/> \n",
    "1) Нулевая цена <br/>\n",
    "2) Нулевая мощность и слишком высокая максимальная мощность <br/>\n",
    "3) Ни у одного объявления нет фотографий <br/>\n",
    "4) Аномалии в годе регистрации"
   ]
  },
  {
   "cell_type": "markdown",
   "metadata": {},
   "source": [
    "1) Нулевая цена"
   ]
  },
  {
   "cell_type": "code",
   "execution_count": 5,
   "metadata": {},
   "outputs": [
    {
     "data": {
      "text/plain": [
       "<matplotlib.axes._subplots.AxesSubplot at 0xcc59248>"
      ]
     },
     "execution_count": 5,
     "metadata": {},
     "output_type": "execute_result"
    },
    {
     "data": {
      "image/png": "[encoded data removed]",
      "text/plain": [
       "<Figure size 432x288 with 1 Axes>"
      ]
     },
     "metadata": {
      "needs_background": "light"
     },
     "output_type": "display_data"
    }
   ],
   "source": [
    "df.Price.hist(bins=100)"
   ]
  },
  {
   "cell_type": "markdown",
   "metadata": {},
   "source": [
    "Встречается много машин с подозрительно низкой стоимостью, даже нулевой. Удалим все данные с ценой ниже 50."
   ]
  },
  {
   "cell_type": "code",
   "execution_count": 6,
   "metadata": {},
   "outputs": [],
   "source": [
    "df = df.query('Price > 50')"
   ]
  },
  {
   "cell_type": "markdown",
   "metadata": {},
   "source": [
    "2) Нулевая мощность и слишком высокая максимальная мощность"
   ]
  },
  {
   "cell_type": "code",
   "execution_count": 7,
   "metadata": {},
   "outputs": [
    {
     "data": {
      "text/plain": [
       "<matplotlib.axes._subplots.AxesSubplot at 0xdde8e48>"
      ]
     },
     "execution_count": 7,
     "metadata": {},
     "output_type": "execute_result"
    },
    {
     "data": {
      "image/png": "[encoded data removed]",
      "text/plain": [
       "<Figure size 432x288 with 1 Axes>"
      ]
     },
     "metadata": {
      "needs_background": "light"
     },
     "output_type": "display_data"
    }
   ],
   "source": [
    "df.Power.hist(bins = 30)"
   ]
  },
  {
   "cell_type": "code",
   "execution_count": 8,
   "metadata": {},
   "outputs": [
    {
     "data": {
      "text/plain": [
       "<matplotlib.axes._subplots.AxesSubplot at 0xd454088>"
      ]
     },
     "execution_count": 8,
     "metadata": {},
     "output_type": "execute_result"
    },
    {
     "data": {
      "image/png": "[encoded data removed]",
      "text/plain": [
       "<Figure size 432x288 with 1 Axes>"
      ]
     },
     "metadata": {
      "needs_background": "light"
     },
     "output_type": "display_data"
    }
   ],
   "source": [
    "df.Power.hist(range=(0,100), bins = 100)"
   ]
  },
  {
   "cell_type": "markdown",
   "metadata": {},
   "source": [
    "Большинство значений укладывается в промежуток от 40 до 600. Оставим только такие значения, но без нулевых. "
   ]
  },
  {
   "cell_type": "code",
   "execution_count": 9,
   "metadata": {},
   "outputs": [
    {
     "data": {
      "text/plain": [
       "<matplotlib.axes._subplots.AxesSubplot at 0xddd7d48>"
      ]
     },
     "execution_count": 9,
     "metadata": {},
     "output_type": "execute_result"
    },
    {
     "data": {
      "image/png": "[encoded data removed]",
      "text/plain": [
       "<Figure size 432x288 with 1 Axes>"
      ]
     },
     "metadata": {
      "needs_background": "light"
     },
     "output_type": "display_data"
    }
   ],
   "source": [
    "df = df.query('40 < Power <= 600')\n",
    "df.Power.hist()"
   ]
  },
  {
   "cell_type": "markdown",
   "metadata": {},
   "source": [
    "3) Ни у одного объявления нет фотографий"
   ]
  },
  {
   "cell_type": "markdown",
   "metadata": {},
   "source": [
    "Удалим колонку NumberOfPictures, т.к. она неинформативна. "
   ]
  },
  {
   "cell_type": "code",
   "execution_count": 10,
   "metadata": {},
   "outputs": [],
   "source": [
    "df = df.drop(['NumberOfPictures'], axis=1)"
   ]
  },
  {
   "cell_type": "markdown",
   "metadata": {},
   "source": [
    "4) Аномалии в годе регистрации"
   ]
  },
  {
   "cell_type": "markdown",
   "metadata": {},
   "source": [
    "Самый старый автомобиль в мире выпущен в 1884 году. Предоставленны по объявлениям за 2006 год. Этими годами и ограничимся. "
   ]
  },
  {
   "cell_type": "code",
   "execution_count": 11,
   "metadata": {},
   "outputs": [],
   "source": [
    "df = df.query('1884 <= RegistrationYear <= 2006')"
   ]
  },
  {
   "cell_type": "markdown",
   "metadata": {},
   "source": [
    "#### Проверим категориальные переменные"
   ]
  },
  {
   "cell_type": "markdown",
   "metadata": {},
   "source": [
    "Почтовый индекс — категориальный признак, но его разнообразие слишком велико. Обработать его не представляется возможным. "
   ]
  },
  {
   "cell_type": "code",
   "execution_count": 12,
   "metadata": {},
   "outputs": [],
   "source": [
    "categorical = ['VehicleType', 'Gearbox', 'Model', 'RegistrationMonth', 'FuelType', 'Brand', 'NotRepaired']"
   ]
  },
  {
   "cell_type": "code",
   "execution_count": 13,
   "metadata": {},
   "outputs": [
    {
     "name": "stdout",
     "output_type": "stream",
     "text": [
      "sedan          62677\n",
      "small          50398\n",
      "wagon          41369\n",
      "bus            17413\n",
      "convertible    14299\n",
      "coupe          11129\n",
      "suv             6057\n",
      "other           1889\n",
      "Name: VehicleType, dtype: int64\n",
      "\n",
      "\n",
      "manual    165604\n",
      "auto       39784\n",
      "Name: Gearbox, dtype: int64\n",
      "\n",
      "\n",
      "golf       17627\n",
      "other      15551\n",
      "3er        14173\n",
      "polo        8155\n",
      "corsa       7702\n",
      "           ...  \n",
      "citigo         0\n",
      "b_max          0\n",
      "ceed           0\n",
      "cc             0\n",
      "serie_1        0\n",
      "Name: Model, Length: 250, dtype: int64\n",
      "\n",
      "\n",
      "3     21340\n",
      "6     19423\n",
      "5     17923\n",
      "4     17782\n",
      "7     16864\n",
      "10    16012\n",
      "12    15492\n",
      "0     14913\n",
      "11    14799\n",
      "9     14435\n",
      "1     13919\n",
      "8     13515\n",
      "2     12829\n",
      "Name: RegistrationMonth, dtype: int64\n",
      "\n",
      "\n",
      "petrol      143437\n",
      "gasoline     50314\n",
      "lpg           3952\n",
      "cng            252\n",
      "other           47\n",
      "hybrid          42\n",
      "electric        11\n",
      "Name: FuelType, dtype: int64\n",
      "\n",
      "\n",
      "volkswagen        45194\n",
      "opel              24663\n",
      "bmw               23970\n",
      "mercedes_benz     21568\n",
      "audi              17700\n",
      "ford              14749\n",
      "renault           10701\n",
      "peugeot            6674\n",
      "fiat               4771\n",
      "seat               3606\n",
      "mazda              3584\n",
      "nissan             2785\n",
      "citroen            2562\n",
      "smart              2560\n",
      "toyota             2501\n",
      "volvo              2219\n",
      "skoda              2162\n",
      "mitsubishi         1916\n",
      "honda              1761\n",
      "alfa_romeo         1519\n",
      "hyundai            1366\n",
      "sonstige_autos     1225\n",
      "suzuki             1185\n",
      "mini               1178\n",
      "kia                1083\n",
      "chrysler           1007\n",
      "chevrolet           669\n",
      "porsche             578\n",
      "subaru              530\n",
      "daihatsu            466\n",
      "jeep                456\n",
      "saab                434\n",
      "daewoo              397\n",
      "jaguar              364\n",
      "land_rover          350\n",
      "rover               347\n",
      "lancia              315\n",
      "lada                 79\n",
      "dacia                38\n",
      "trabant              14\n",
      "Name: Brand, dtype: int64\n",
      "\n",
      "\n",
      "no     151283\n",
      "yes     23919\n",
      "Name: NotRepaired, dtype: int64\n",
      "\n",
      "\n"
     ]
    }
   ],
   "source": [
    "for word in categorical:\n",
    "    print(df[word].value_counts())\n",
    "    print()\n",
    "    print()"
   ]
  },
  {
   "cell_type": "markdown",
   "metadata": {},
   "source": [
    "Обнаружена только проблема в месяце регистрации. Месяцев получилось 13. Можно предположить, что нулями просто были заполнены пропуски. Мне кажется, это не повлияет на качество моделей. "
   ]
  },
  {
   "cell_type": "markdown",
   "metadata": {},
   "source": [
    "В данных остались пропуски. Удалять или заполнять их кажется нецелесообразным, т.к. пропущенное значение тоже может влиять на цену. Для пропусков будут созданы отдельные колонки при использовании функции get_dummies."
   ]
  },
  {
   "cell_type": "markdown",
   "metadata": {},
   "source": [
    "#### Удалим дубликаты"
   ]
  },
  {
   "cell_type": "code",
   "execution_count": 14,
   "metadata": {},
   "outputs": [],
   "source": [
    "df = df.drop_duplicates()"
   ]
  },
  {
   "cell_type": "markdown",
   "metadata": {},
   "source": [
    "#### Проверим численные переменные на корреляцию "
   ]
  },
  {
   "cell_type": "code",
   "execution_count": 15,
   "metadata": {},
   "outputs": [
    {
     "data": {
      "text/plain": [
       "array([[<matplotlib.axes._subplots.AxesSubplot object at 0x000000000D693148>,\n",
       "        <matplotlib.axes._subplots.AxesSubplot object at 0x000000000D727C88>,\n",
       "        <matplotlib.axes._subplots.AxesSubplot object at 0x000000000D7613C8>,\n",
       "        <matplotlib.axes._subplots.AxesSubplot object at 0x000000000D796CC8>],\n",
       "       [<matplotlib.axes._subplots.AxesSubplot object at 0x000000000D7CFB88>,\n",
       "        <matplotlib.axes._subplots.AxesSubplot object at 0x000000000D8099C8>,\n",
       "        <matplotlib.axes._subplots.AxesSubplot object at 0x000000000D8438C8>,\n",
       "        <matplotlib.axes._subplots.AxesSubplot object at 0x000000000D87C588>],\n",
       "       [<matplotlib.axes._subplots.AxesSubplot object at 0x000000000D87C808>,\n",
       "        <matplotlib.axes._subplots.AxesSubplot object at 0x000000000DA74748>,\n",
       "        <matplotlib.axes._subplots.AxesSubplot object at 0x000000000DAE9248>,\n",
       "        <matplotlib.axes._subplots.AxesSubplot object at 0x000000000DB1AF08>],\n",
       "       [<matplotlib.axes._subplots.AxesSubplot object at 0x000000000DB56F48>,\n",
       "        <matplotlib.axes._subplots.AxesSubplot object at 0x000000000DB90B88>,\n",
       "        <matplotlib.axes._subplots.AxesSubplot object at 0x000000000DBC9948>,\n",
       "        <matplotlib.axes._subplots.AxesSubplot object at 0x000000000DC01648>]],\n",
       "      dtype=object)"
      ]
     },
     "execution_count": 15,
     "metadata": {},
     "output_type": "execute_result"
    },
    {
     "data": {
      "image/png": "[encoded data removed]",
      "text/plain": [
       "<Figure size 720x720 with 16 Axes>"
      ]
     },
     "metadata": {
      "needs_background": "light"
     },
     "output_type": "display_data"
    }
   ],
   "source": [
    "df_n = df.drop(['DateCrawled', 'VehicleType', 'Gearbox', 'Model', 'RegistrationMonth', 'FuelType', 'Brand',\n",
    "       'NotRepaired', 'DateCreated', 'PostalCode', 'LastSeen'], axis=1)\n",
    "pd.plotting.scatter_matrix(df_n, figsize=(10,10), marker = 'o', hist_kwds = {'bins': 10}, s = 60, alpha = 0.8)"
   ]
  },
  {
   "cell_type": "markdown",
   "metadata": {},
   "source": [
    "Явной корреляции не обнаруженно"
   ]
  },
  {
   "cell_type": "markdown",
   "metadata": {},
   "source": [
    "#### Определим features и target"
   ]
  },
  {
   "cell_type": "code",
   "execution_count": 16,
   "metadata": {},
   "outputs": [],
   "source": [
    "features = df.drop(['DateCrawled', 'Price', 'LastSeen', 'PostalCode', 'DateCreated'], axis=1)\n",
    "target = df['Price']"
   ]
  },
  {
   "cell_type": "markdown",
   "metadata": {},
   "source": [
    "Используем фенкцию get_dummies"
   ]
  },
  {
   "cell_type": "code",
   "execution_count": 17,
   "metadata": {},
   "outputs": [
    {
     "name": "stdout",
     "output_type": "stream",
     "text": [
      "<class 'pandas.core.frame.DataFrame'>\n",
      "Int64Index: 209242 entries, 2 to 354368\n",
      "Data columns (total 10 columns):\n",
      " #   Column             Non-Null Count   Dtype   \n",
      "---  ------             --------------   -----   \n",
      " 0   VehicleType        205227 non-null  category\n",
      " 1   RegistrationYear   209242 non-null  int64   \n",
      " 2   Gearbox            205384 non-null  category\n",
      " 3   Power              209242 non-null  int64   \n",
      " 4   Model              200642 non-null  category\n",
      " 5   Kilometer          209242 non-null  int64   \n",
      " 6   RegistrationMonth  209242 non-null  category\n",
      " 7   FuelType           198051 non-null  category\n",
      " 8   Brand              209242 non-null  category\n",
      " 9   NotRepaired        175198 non-null  category\n",
      "dtypes: category(7), int64(3)\n",
      "memory usage: 8.0 MB\n"
     ]
    }
   ],
   "source": [
    "features.info()"
   ]
  },
  {
   "cell_type": "code",
   "execution_count": 18,
   "metadata": {},
   "outputs": [],
   "source": [
    "features = pd.get_dummies(features, drop_first = True, dummy_na = True)"
   ]
  },
  {
   "cell_type": "markdown",
   "metadata": {},
   "source": [
    "Разделим данные на тренировочные и тестовые"
   ]
  },
  {
   "cell_type": "code",
   "execution_count": 19,
   "metadata": {},
   "outputs": [
    {
     "data": {
      "text/plain": [
       "2         0\n",
       "3         0\n",
       "5         0\n",
       "6         0\n",
       "9         0\n",
       "         ..\n",
       "354358    0\n",
       "354362    0\n",
       "354366    0\n",
       "354367    0\n",
       "354368    0\n",
       "Name: VehicleType_coupe, Length: 209242, dtype: uint8"
      ]
     },
     "execution_count": 19,
     "metadata": {},
     "output_type": "execute_result"
    }
   ],
   "source": [
    "features.VehicleType_coupe"
   ]
  },
  {
   "cell_type": "code",
   "execution_count": 20,
   "metadata": {},
   "outputs": [],
   "source": [
    "features_train, features_test, target_train, target_test = train_test_split(\n",
    "    features, target, test_size=0.25, random_state=1234)"
   ]
  },
  {
   "cell_type": "markdown",
   "metadata": {},
   "source": [
    "#### Вывод:\n",
    "Данные изучены и предобработаны. Определены и подготовлены признаки для обучения моделей."
   ]
  },
  {
   "cell_type": "markdown",
   "metadata": {},
   "source": [
    "# 2. Обучение разных моделей с различными гиперпараметрами <a id='section2'></a>"
   ]
  },
  {
   "cell_type": "markdown",
   "metadata": {},
   "source": [
    "### 2.1 Линейная регрессия"
   ]
  },
  {
   "cell_type": "markdown",
   "metadata": {},
   "source": [
    "Назначим переменную для модели, заренее укажем параметр n_jobs = -1, для ускорения работы."
   ]
  },
  {
   "cell_type": "code",
   "execution_count": 21,
   "metadata": {},
   "outputs": [],
   "source": [
    "model_linear = LinearRegression(n_jobs = -1)"
   ]
  },
  {
   "cell_type": "markdown",
   "metadata": {},
   "source": [
    "Обучим модель"
   ]
  },
  {
   "cell_type": "code",
   "execution_count": 22,
   "metadata": {},
   "outputs": [
    {
     "name": "stdout",
     "output_type": "stream",
     "text": [
      "Wall time: 2.74 s\n"
     ]
    },
    {
     "data": {
      "text/plain": [
       "LinearRegression(copy_X=True, fit_intercept=True, n_jobs=-1, normalize=False)"
      ]
     },
     "execution_count": 22,
     "metadata": {},
     "output_type": "execute_result"
    }
   ],
   "source": [
    "%%time\n",
    "model_linear.fit(features_train, target_train)"
   ]
  },
  {
   "cell_type": "markdown",
   "metadata": {},
   "source": [
    "Рассчитаем RMSE модели"
   ]
  },
  {
   "cell_type": "code",
   "execution_count": 23,
   "metadata": {
    "scrolled": true
   },
   "outputs": [
    {
     "name": "stdout",
     "output_type": "stream",
     "text": [
      "Wall time: 96 ms\n"
     ]
    },
    {
     "data": {
      "text/plain": [
       "1932.3990071032542"
      ]
     },
     "execution_count": 23,
     "metadata": {},
     "output_type": "execute_result"
    }
   ],
   "source": [
    "%%time\n",
    "rmse_linear = (mean_squared_error(target_test, model_linear.predict(features_test))) ** 0.5\n",
    "rmse_linear"
   ]
  },
  {
   "cell_type": "markdown",
   "metadata": {},
   "source": [
    "Линейная регрессия показала RMSE 1932 время обучения 2740 мс и время предсказания 96 мс"
   ]
  },
  {
   "cell_type": "markdown",
   "metadata": {},
   "source": [
    "### 2.2 Случайный лес"
   ]
  },
  {
   "cell_type": "markdown",
   "metadata": {},
   "source": [
    "Сделаем все тоже самое, что и с линейной регрессией, но дополнительно для подбора параметров используем RandomizedSearchCV."
   ]
  },
  {
   "cell_type": "code",
   "execution_count": 24,
   "metadata": {},
   "outputs": [
    {
     "data": {
      "text/plain": [
       "dict_keys(['bootstrap', 'criterion', 'max_depth', 'max_features', 'max_leaf_nodes', 'min_impurity_decrease', 'min_impurity_split', 'min_samples_leaf', 'min_samples_split', 'min_weight_fraction_leaf', 'n_estimators', 'n_jobs', 'oob_score', 'random_state', 'verbose', 'warm_start'])"
      ]
     },
     "execution_count": 24,
     "metadata": {},
     "output_type": "execute_result"
    }
   ],
   "source": [
    "model_RFR = RandomForestRegressor(n_jobs = -1)\n",
    "model_RFR.get_params().keys()"
   ]
  },
  {
   "cell_type": "code",
   "execution_count": 25,
   "metadata": {},
   "outputs": [],
   "source": [
    "parameters_grid = {\n",
    "    'n_estimators' : range(10,100,10),\n",
    "    'min_samples_split' : range(2,10,1),\n",
    "    'min_samples_leaf' : range(2,10,1),\n",
    "    'max_depth' : range(2,30,2),\n",
    "}"
   ]
  },
  {
   "cell_type": "code",
   "execution_count": 26,
   "metadata": {},
   "outputs": [],
   "source": [
    "# %%time\n",
    "# randomized_grid_cv = RandomizedSearchCV(model_RFR, parameters_grid, \n",
    "#                                                     scoring=make_scorer(mean_squared_error,greater_is_better=False),\n",
    "#                                                     n_iter=20                                                    \n",
    "#                                                    )\n",
    "# randomized_grid_cv.fit(features_train, target_train)\n",
    "# randomized_grid_cv.best_params_"
   ]
  },
  {
   "cell_type": "markdown",
   "metadata": {},
   "source": [
    "Wall time: 47min 55s\n",
    "\n",
    "{'n_estimators': 30,\n",
    " 'min_samples_split': 8,\n",
    " 'min_samples_leaf': 4,\n",
    " 'max_depth': 24}"
   ]
  },
  {
   "cell_type": "code",
   "execution_count": 27,
   "metadata": {},
   "outputs": [],
   "source": [
    "model_RFR = RandomForestRegressor(\n",
    "    n_estimators=30,\n",
    "    min_samples_split=8, \n",
    "    min_samples_leaf=4, \n",
    "    max_depth=24, \n",
    "    random_state=1234,\n",
    "    n_jobs = -1\n",
    ")"
   ]
  },
  {
   "cell_type": "code",
   "execution_count": 28,
   "metadata": {},
   "outputs": [
    {
     "name": "stdout",
     "output_type": "stream",
     "text": [
      "Wall time: 47.6 s\n"
     ]
    },
    {
     "data": {
      "text/plain": [
       "RandomForestRegressor(bootstrap=True, criterion='mse', max_depth=24,\n",
       "                      max_features='auto', max_leaf_nodes=None,\n",
       "                      min_impurity_decrease=0.0, min_impurity_split=None,\n",
       "                      min_samples_leaf=4, min_samples_split=8,\n",
       "                      min_weight_fraction_leaf=0.0, n_estimators=30, n_jobs=-1,\n",
       "                      oob_score=False, random_state=1234, verbose=0,\n",
       "                      warm_start=False)"
      ]
     },
     "execution_count": 28,
     "metadata": {},
     "output_type": "execute_result"
    }
   ],
   "source": [
    "%%time\n",
    "model_RFR.fit(features_train, target_train)"
   ]
  },
  {
   "cell_type": "code",
   "execution_count": 29,
   "metadata": {},
   "outputs": [
    {
     "name": "stdout",
     "output_type": "stream",
     "text": [
      "Wall time: 322 ms\n"
     ]
    },
    {
     "data": {
      "text/plain": [
       "1378.9947913697529"
      ]
     },
     "execution_count": 29,
     "metadata": {},
     "output_type": "execute_result"
    }
   ],
   "source": [
    "%%time\n",
    "rmse_RFR = (mean_squared_error(target_test, model_RFR.predict(features_test))) ** 0.5\n",
    "rmse_RFR"
   ]
  },
  {
   "cell_type": "markdown",
   "metadata": {},
   "source": [
    "Модель случайного леса показала RMSE 1379 время обучения 47600 мс и время предсказания 322 мс"
   ]
  },
  {
   "cell_type": "markdown",
   "metadata": {},
   "source": [
    "#### Проверим важность признаков"
   ]
  },
  {
   "cell_type": "markdown",
   "metadata": {},
   "source": [
    "Мне кажется, не совсем верно сравнивать признаки в \"разбитом\" состоянии (например каждая модель автомобиля оценивается как отдельный признак). Важность категориальных признаков стоит сложить. Например, важность всех марок мы складываем и объеденяем в признак Brand."
   ]
  },
  {
   "cell_type": "code",
   "execution_count": 30,
   "metadata": {},
   "outputs": [
    {
     "data": {
      "text/html": [
       "<div>\n",
       "<style scoped>\n",
       "    .dataframe tbody tr th:only-of-type {\n",
       "        vertical-align: middle;\n",
       "    }\n",
       "\n",
       "    .dataframe tbody tr th {\n",
       "        vertical-align: top;\n",
       "    }\n",
       "\n",
       "    .dataframe thead th {\n",
       "        text-align: right;\n",
       "    }\n",
       "</style>\n",
       "<table border=\"1\" class=\"dataframe\">\n",
       "  <thead>\n",
       "    <tr style=\"text-align: right;\">\n",
       "      <th></th>\n",
       "      <th>Feature</th>\n",
       "      <th>Importance</th>\n",
       "    </tr>\n",
       "  </thead>\n",
       "  <tbody>\n",
       "    <tr>\n",
       "      <th>0</th>\n",
       "      <td>Power</td>\n",
       "      <td>0.431209</td>\n",
       "    </tr>\n",
       "    <tr>\n",
       "      <th>1</th>\n",
       "      <td>RegistrationYear</td>\n",
       "      <td>0.288030</td>\n",
       "    </tr>\n",
       "    <tr>\n",
       "      <th>2</th>\n",
       "      <td>Model</td>\n",
       "      <td>0.070669</td>\n",
       "    </tr>\n",
       "    <tr>\n",
       "      <th>3</th>\n",
       "      <td>VehicleType</td>\n",
       "      <td>0.060346</td>\n",
       "    </tr>\n",
       "    <tr>\n",
       "      <th>4</th>\n",
       "      <td>Brand</td>\n",
       "      <td>0.049900</td>\n",
       "    </tr>\n",
       "    <tr>\n",
       "      <th>5</th>\n",
       "      <td>Kilometer</td>\n",
       "      <td>0.043129</td>\n",
       "    </tr>\n",
       "    <tr>\n",
       "      <th>6</th>\n",
       "      <td>NotRepaired</td>\n",
       "      <td>0.027598</td>\n",
       "    </tr>\n",
       "    <tr>\n",
       "      <th>7</th>\n",
       "      <td>RegistrationMonth</td>\n",
       "      <td>0.017173</td>\n",
       "    </tr>\n",
       "    <tr>\n",
       "      <th>8</th>\n",
       "      <td>FuelType</td>\n",
       "      <td>0.007507</td>\n",
       "    </tr>\n",
       "    <tr>\n",
       "      <th>9</th>\n",
       "      <td>Gearbox</td>\n",
       "      <td>0.004438</td>\n",
       "    </tr>\n",
       "  </tbody>\n",
       "</table>\n",
       "</div>"
      ],
      "text/plain": [
       "             Feature  Importance\n",
       "0              Power    0.431209\n",
       "1   RegistrationYear    0.288030\n",
       "2              Model    0.070669\n",
       "3        VehicleType    0.060346\n",
       "4              Brand    0.049900\n",
       "5          Kilometer    0.043129\n",
       "6        NotRepaired    0.027598\n",
       "7  RegistrationMonth    0.017173\n",
       "8           FuelType    0.007507\n",
       "9            Gearbox    0.004438"
      ]
     },
     "execution_count": 30,
     "metadata": {},
     "output_type": "execute_result"
    }
   ],
   "source": [
    "importances = pd.DataFrame(index = features.columns,   # Создадим таблицу с важностью признаков\n",
    "                     columns=['Feature', 'Importance'])\n",
    "importances.Importance = model_RFR.feature_importances_\n",
    "\n",
    "importances.Feature = importances.index\n",
    "\n",
    "def feature_group(feature): # Функция будет оставлять только наименование признака, без его значения \n",
    "    if '_' in feature:      # Например NotRepaired_yes превратит просто в NotRepaired\n",
    "        group = feature[ : feature.find(\"_\")]\n",
    "        return group\n",
    "    else:\n",
    "        return feature\n",
    "\n",
    "importances.Feature = importances.Feature.apply(feature_group) # применим функцию к столбцу Feature\n",
    "\n",
    "importances = importances.groupby(by=['Feature']).sum().sort_values(by='Importance', ascending=False)\n",
    "importances = importances.reset_index()\n",
    "importances"
   ]
  },
  {
   "cell_type": "code",
   "execution_count": 31,
   "metadata": {},
   "outputs": [
    {
     "data": {
      "text/plain": [
       "(-1.1029992469540681,\n",
       " 1.1001428212835271,\n",
       " -1.1030819329533585,\n",
       " 1.126977697486415)"
      ]
     },
     "execution_count": 31,
     "metadata": {},
     "output_type": "execute_result"
    },
    {
     "data": {
      "image/png": "[encoded data removed]",
      "text/plain": [
       "<Figure size 576x576 with 1 Axes>"
      ]
     },
     "metadata": {},
     "output_type": "display_data"
    }
   ],
   "source": [
    "vals = importances['Importance'][0:10] # Исключим NumberOfPictures, т.к. его значение 0\n",
    "labels = importances['Feature'][0:10]\n",
    "fig, ax = plt.subplots(figsize=(8, 8))\n",
    "ax.pie(vals, labels=labels, pctdistance=1)\n",
    "ax.axis(\"equal\")"
   ]
  },
  {
   "cell_type": "markdown",
   "metadata": {},
   "source": [
    "Как видно на диаграмме, для модели случайного леса самыми важными оказались мощность и год регистрации. Интересно, что месяц регистрации оказался более важным, чем тип двигатели или каробки передач. "
   ]
  },
  {
   "cell_type": "markdown",
   "metadata": {},
   "source": [
    "### 2.3 LightGBM"
   ]
  },
  {
   "cell_type": "markdown",
   "metadata": {},
   "source": [
    "Повторим все шаги как с моделью случайного леса"
   ]
  },
  {
   "cell_type": "code",
   "execution_count": 32,
   "metadata": {},
   "outputs": [
    {
     "data": {
      "text/plain": [
       "dict_keys(['boosting_type', 'class_weight', 'colsample_bytree', 'importance_type', 'learning_rate', 'max_depth', 'min_child_samples', 'min_child_weight', 'min_split_gain', 'n_estimators', 'n_jobs', 'num_leaves', 'objective', 'random_state', 'reg_alpha', 'reg_lambda', 'silent', 'subsample', 'subsample_for_bin', 'subsample_freq'])"
      ]
     },
     "execution_count": 32,
     "metadata": {},
     "output_type": "execute_result"
    }
   ],
   "source": [
    "model_LGBM = lgb.LGBMRegressor(n_jobs = -1)\n",
    "model_LGBM.get_params().keys()"
   ]
  },
  {
   "cell_type": "code",
   "execution_count": 33,
   "metadata": {},
   "outputs": [],
   "source": [
    "parameters_grid = {\n",
    "    'max_depth' : range(5, 20, 1),\n",
    "    'num_leaves' : range(70,130,5),\n",
    "    'learning_rate' : np.arange(0.3, 0.9, 0.05),\n",
    "    'n_estimators' : range(80, 120, 5),\n",
    "}"
   ]
  },
  {
   "cell_type": "code",
   "execution_count": 34,
   "metadata": {},
   "outputs": [],
   "source": [
    "# %%time\n",
    "# randomized_grid_cv = RandomizedSearchCV(model_LGBM, parameters_grid, n_iter=50,\n",
    "#                                                     scoring=make_scorer(mean_squared_error,greater_is_better=False))\n",
    "\n",
    "# randomized_grid_cv.fit(features_train, target_train)\n",
    "# randomized_grid_cv.best_params_"
   ]
  },
  {
   "cell_type": "markdown",
   "metadata": {},
   "source": [
    "Wall time: 3min 8s\n",
    "\n",
    "{'num_leaves': 125, 'n_estimators': 115, 'max_depth': 16, 'learning_rate': 0.3}"
   ]
  },
  {
   "cell_type": "code",
   "execution_count": 35,
   "metadata": {},
   "outputs": [],
   "source": [
    "model_LGBM = lgb.LGBMRegressor(random_state=1234, num_leaves = 125, learning_rate = 0.3, max_depth = 16, n_estimators = 115,\n",
    "                              n_jobs = -1)"
   ]
  },
  {
   "cell_type": "code",
   "execution_count": 36,
   "metadata": {
    "scrolled": true
   },
   "outputs": [
    {
     "name": "stdout",
     "output_type": "stream",
     "text": [
      "[1]\ttraining's l2: 6.08071e+06\n",
      "[2]\ttraining's l2: 4.30234e+06\n",
      "[3]\ttraining's l2: 3.35148e+06\n",
      "[4]\ttraining's l2: 2.81148e+06\n",
      "[5]\ttraining's l2: 2.48959e+06\n",
      "[6]\ttraining's l2: 2.28922e+06\n",
      "[7]\ttraining's l2: 2.15113e+06\n",
      "[8]\ttraining's l2: 2.05872e+06\n",
      "[9]\ttraining's l2: 1.98963e+06\n",
      "[10]\ttraining's l2: 1.92185e+06\n",
      "[11]\ttraining's l2: 1.88101e+06\n",
      "[12]\ttraining's l2: 1.84074e+06\n",
      "[13]\ttraining's l2: 1.81568e+06\n",
      "[14]\ttraining's l2: 1.78647e+06\n",
      "[15]\ttraining's l2: 1.76551e+06\n",
      "[16]\ttraining's l2: 1.74864e+06\n",
      "[17]\ttraining's l2: 1.72518e+06\n",
      "[18]\ttraining's l2: 1.71267e+06\n",
      "[19]\ttraining's l2: 1.70276e+06\n",
      "[20]\ttraining's l2: 1.69404e+06\n",
      "[21]\ttraining's l2: 1.68635e+06\n",
      "[22]\ttraining's l2: 1.67693e+06\n",
      "[23]\ttraining's l2: 1.66234e+06\n",
      "[24]\ttraining's l2: 1.65736e+06\n",
      "[25]\ttraining's l2: 1.64454e+06\n",
      "[26]\ttraining's l2: 1.64035e+06\n",
      "[27]\ttraining's l2: 1.63511e+06\n",
      "[28]\ttraining's l2: 1.62537e+06\n",
      "[29]\ttraining's l2: 1.61426e+06\n",
      "[30]\ttraining's l2: 1.60485e+06\n",
      "[31]\ttraining's l2: 1.60169e+06\n",
      "[32]\ttraining's l2: 1.59661e+06\n",
      "[33]\ttraining's l2: 1.58815e+06\n",
      "[34]\ttraining's l2: 1.57801e+06\n",
      "[35]\ttraining's l2: 1.56751e+06\n",
      "[36]\ttraining's l2: 1.55859e+06\n",
      "[37]\ttraining's l2: 1.55032e+06\n",
      "[38]\ttraining's l2: 1.54367e+06\n",
      "[39]\ttraining's l2: 1.53395e+06\n",
      "[40]\ttraining's l2: 1.52983e+06\n",
      "[41]\ttraining's l2: 1.52424e+06\n",
      "[42]\ttraining's l2: 1.52163e+06\n",
      "[43]\ttraining's l2: 1.5156e+06\n",
      "[44]\ttraining's l2: 1.50781e+06\n",
      "[45]\ttraining's l2: 1.49906e+06\n",
      "[46]\ttraining's l2: 1.4929e+06\n",
      "[47]\ttraining's l2: 1.48772e+06\n",
      "[48]\ttraining's l2: 1.48553e+06\n",
      "[49]\ttraining's l2: 1.48206e+06\n",
      "[50]\ttraining's l2: 1.47437e+06\n",
      "[51]\ttraining's l2: 1.46754e+06\n",
      "[52]\ttraining's l2: 1.46106e+06\n",
      "[53]\ttraining's l2: 1.45433e+06\n",
      "[54]\ttraining's l2: 1.44991e+06\n",
      "[55]\ttraining's l2: 1.44587e+06\n",
      "[56]\ttraining's l2: 1.44147e+06\n",
      "[57]\ttraining's l2: 1.43614e+06\n",
      "[58]\ttraining's l2: 1.4306e+06\n",
      "[59]\ttraining's l2: 1.42276e+06\n",
      "[60]\ttraining's l2: 1.41812e+06\n",
      "[61]\ttraining's l2: 1.41236e+06\n",
      "[62]\ttraining's l2: 1.40772e+06\n",
      "[63]\ttraining's l2: 1.40466e+06\n",
      "[64]\ttraining's l2: 1.4029e+06\n",
      "[65]\ttraining's l2: 1.39924e+06\n",
      "[66]\ttraining's l2: 1.39589e+06\n",
      "[67]\ttraining's l2: 1.39164e+06\n",
      "[68]\ttraining's l2: 1.38817e+06\n",
      "[69]\ttraining's l2: 1.38679e+06\n",
      "[70]\ttraining's l2: 1.38011e+06\n",
      "[71]\ttraining's l2: 1.37609e+06\n",
      "[72]\ttraining's l2: 1.37024e+06\n",
      "[73]\ttraining's l2: 1.3657e+06\n",
      "[74]\ttraining's l2: 1.36057e+06\n",
      "[75]\ttraining's l2: 1.357e+06\n",
      "[76]\ttraining's l2: 1.35394e+06\n",
      "[77]\ttraining's l2: 1.3508e+06\n",
      "[78]\ttraining's l2: 1.34729e+06\n",
      "[79]\ttraining's l2: 1.34539e+06\n",
      "[80]\ttraining's l2: 1.34199e+06\n",
      "[81]\ttraining's l2: 1.33741e+06\n",
      "[82]\ttraining's l2: 1.33322e+06\n",
      "[83]\ttraining's l2: 1.33089e+06\n",
      "[84]\ttraining's l2: 1.32676e+06\n",
      "[85]\ttraining's l2: 1.32313e+06\n",
      "[86]\ttraining's l2: 1.32028e+06\n",
      "[87]\ttraining's l2: 1.31623e+06\n",
      "[88]\ttraining's l2: 1.31453e+06\n",
      "[89]\ttraining's l2: 1.31244e+06\n",
      "[90]\ttraining's l2: 1.30874e+06\n",
      "[91]\ttraining's l2: 1.30551e+06\n",
      "[92]\ttraining's l2: 1.30193e+06\n",
      "[93]\ttraining's l2: 1.30064e+06\n",
      "[94]\ttraining's l2: 1.29781e+06\n",
      "[95]\ttraining's l2: 1.29367e+06\n",
      "[96]\ttraining's l2: 1.29148e+06\n",
      "[97]\ttraining's l2: 1.28874e+06\n",
      "[98]\ttraining's l2: 1.2873e+06\n",
      "[99]\ttraining's l2: 1.2853e+06\n",
      "[100]\ttraining's l2: 1.28202e+06\n",
      "[101]\ttraining's l2: 1.27853e+06\n",
      "[102]\ttraining's l2: 1.27531e+06\n",
      "[103]\ttraining's l2: 1.27357e+06\n",
      "[104]\ttraining's l2: 1.27188e+06\n",
      "[105]\ttraining's l2: 1.26688e+06\n",
      "[106]\ttraining's l2: 1.2635e+06\n",
      "[107]\ttraining's l2: 1.26109e+06\n",
      "[108]\ttraining's l2: 1.25881e+06\n",
      "[109]\ttraining's l2: 1.25601e+06\n",
      "[110]\ttraining's l2: 1.25331e+06\n",
      "[111]\ttraining's l2: 1.25025e+06\n",
      "[112]\ttraining's l2: 1.24855e+06\n",
      "[113]\ttraining's l2: 1.24646e+06\n",
      "[114]\ttraining's l2: 1.24307e+06\n",
      "[115]\ttraining's l2: 1.24021e+06\n",
      "Wall time: 2.14 s\n"
     ]
    },
    {
     "data": {
      "text/plain": [
       "LGBMRegressor(boosting_type='gbdt', class_weight=None, colsample_bytree=1.0,\n",
       "              importance_type='split', learning_rate=0.3, max_depth=16,\n",
       "              min_child_samples=20, min_child_weight=0.001, min_split_gain=0.0,\n",
       "              n_estimators=115, n_jobs=-1, num_leaves=125, objective=None,\n",
       "              random_state=1234, reg_alpha=0.0, reg_lambda=0.0, silent=True,\n",
       "              subsample=1.0, subsample_for_bin=200000, subsample_freq=0)"
      ]
     },
     "execution_count": 36,
     "metadata": {},
     "output_type": "execute_result"
    }
   ],
   "source": [
    "%%time\n",
    "model_LGBM.fit(features_train, target_train, eval_set = [(features_train, target_train)])"
   ]
  },
  {
   "cell_type": "code",
   "execution_count": 37,
   "metadata": {},
   "outputs": [
    {
     "name": "stdout",
     "output_type": "stream",
     "text": [
      "Wall time: 456 ms\n"
     ]
    },
    {
     "data": {
      "text/plain": [
       "1351.4496332662789"
      ]
     },
     "execution_count": 37,
     "metadata": {},
     "output_type": "execute_result"
    }
   ],
   "source": [
    "%%time\n",
    "rmse_linear = (mean_squared_error(target_test, model_LGBM.predict(features_test))) ** 0.5\n",
    "rmse_linear"
   ]
  },
  {
   "cell_type": "markdown",
   "metadata": {},
   "source": [
    "LightGBM показал RMSE 1351 время обучения 2140 мс и время предсказания 456 мс"
   ]
  },
  {
   "cell_type": "markdown",
   "metadata": {},
   "source": [
    "#### Проверим важность признаков"
   ]
  },
  {
   "cell_type": "markdown",
   "metadata": {},
   "source": [
    "Сделаем все то же, что и со случайным лесом"
   ]
  },
  {
   "cell_type": "code",
   "execution_count": 38,
   "metadata": {},
   "outputs": [
    {
     "data": {
      "text/html": [
       "<div>\n",
       "<style scoped>\n",
       "    .dataframe tbody tr th:only-of-type {\n",
       "        vertical-align: middle;\n",
       "    }\n",
       "\n",
       "    .dataframe tbody tr th {\n",
       "        vertical-align: top;\n",
       "    }\n",
       "\n",
       "    .dataframe thead th {\n",
       "        text-align: right;\n",
       "    }\n",
       "</style>\n",
       "<table border=\"1\" class=\"dataframe\">\n",
       "  <thead>\n",
       "    <tr style=\"text-align: right;\">\n",
       "      <th></th>\n",
       "      <th>Feature</th>\n",
       "      <th>Importance</th>\n",
       "    </tr>\n",
       "  </thead>\n",
       "  <tbody>\n",
       "    <tr>\n",
       "      <th>0</th>\n",
       "      <td>Power</td>\n",
       "      <td>3405</td>\n",
       "    </tr>\n",
       "    <tr>\n",
       "      <th>1</th>\n",
       "      <td>RegistrationYear</td>\n",
       "      <td>3174</td>\n",
       "    </tr>\n",
       "    <tr>\n",
       "      <th>2</th>\n",
       "      <td>Model</td>\n",
       "      <td>1970</td>\n",
       "    </tr>\n",
       "    <tr>\n",
       "      <th>3</th>\n",
       "      <td>VehicleType</td>\n",
       "      <td>1170</td>\n",
       "    </tr>\n",
       "    <tr>\n",
       "      <th>4</th>\n",
       "      <td>Brand</td>\n",
       "      <td>1090</td>\n",
       "    </tr>\n",
       "    <tr>\n",
       "      <th>5</th>\n",
       "      <td>Kilometer</td>\n",
       "      <td>1061</td>\n",
       "    </tr>\n",
       "    <tr>\n",
       "      <th>6</th>\n",
       "      <td>RegistrationMonth</td>\n",
       "      <td>1014</td>\n",
       "    </tr>\n",
       "    <tr>\n",
       "      <th>7</th>\n",
       "      <td>NotRepaired</td>\n",
       "      <td>472</td>\n",
       "    </tr>\n",
       "    <tr>\n",
       "      <th>8</th>\n",
       "      <td>FuelType</td>\n",
       "      <td>443</td>\n",
       "    </tr>\n",
       "    <tr>\n",
       "      <th>9</th>\n",
       "      <td>Gearbox</td>\n",
       "      <td>361</td>\n",
       "    </tr>\n",
       "  </tbody>\n",
       "</table>\n",
       "</div>"
      ],
      "text/plain": [
       "             Feature  Importance\n",
       "0              Power        3405\n",
       "1   RegistrationYear        3174\n",
       "2              Model        1970\n",
       "3        VehicleType        1170\n",
       "4              Brand        1090\n",
       "5          Kilometer        1061\n",
       "6  RegistrationMonth        1014\n",
       "7        NotRepaired         472\n",
       "8           FuelType         443\n",
       "9            Gearbox         361"
      ]
     },
     "execution_count": 38,
     "metadata": {},
     "output_type": "execute_result"
    }
   ],
   "source": [
    "importances = pd.DataFrame(index = features.columns,\n",
    "                     columns=['Feature', 'Importance'])\n",
    "\n",
    "importances.Importance = model_LGBM.feature_importances_\n",
    "\n",
    "importances.Feature = importances.index\n",
    "\n",
    "importances.Feature = importances.Feature.apply(feature_group)\n",
    "\n",
    "importances = importances.groupby(by=['Feature']).sum().sort_values(by='Importance', ascending=False)\n",
    "importances = importances.reset_index()\n",
    "importances"
   ]
  },
  {
   "cell_type": "code",
   "execution_count": 39,
   "metadata": {},
   "outputs": [
    {
     "data": {
      "text/plain": [
       "(-1.108608814061177, 1.1004099435267227, -1.104028528059828, 1.113185078051034)"
      ]
     },
     "execution_count": 39,
     "metadata": {},
     "output_type": "execute_result"
    },
    {
     "data": {
      "image/png": "[encoded data removed]",
      "text/plain": [
       "<Figure size 576x576 with 1 Axes>"
      ]
     },
     "metadata": {},
     "output_type": "display_data"
    }
   ],
   "source": [
    "vals = importances['Importance'][0:10] # Также исключим NumberOfPictures, т.к. его значение 0\n",
    "labels = importances['Feature'][0:10]\n",
    "fig, ax = plt.subplots(figsize=(8, 8))\n",
    "ax.pie(vals, labels=labels, pctdistance=1)\n",
    "ax.axis(\"equal\")"
   ]
  },
  {
   "cell_type": "markdown",
   "metadata": {},
   "source": [
    "Самыми важными также оказались мощность и год регистрации. Остальные признаки в этот раз преобрили немного больше значимости. "
   ]
  },
  {
   "cell_type": "markdown",
   "metadata": {},
   "source": [
    "#### Вывод:\n",
    "Были подобраны оптимальные параметры для моделей. Наибольшую точность показал LightGBM."
   ]
  },
  {
   "cell_type": "markdown",
   "metadata": {},
   "source": [
    "# 3. Анализ скорости работы и качества моделей <a id='section3'></a>"
   ]
  },
  {
   "cell_type": "markdown",
   "metadata": {},
   "source": [
    "Создадим таблицу с RMSE, а также скоростью обучения и предсказания. "
   ]
  },
  {
   "cell_type": "code",
   "execution_count": 40,
   "metadata": {},
   "outputs": [],
   "source": [
    "result = pd.DataFrame([['Linear', 1932, 2580, 91], ['RandomForest', 1379, 46700, 318], ['LightGBM', 1351, 5290, 462]],\n",
    "                     columns=['Model', 'RMSE', 'fit', 'predict'])"
   ]
  },
  {
   "cell_type": "code",
   "execution_count": 42,
   "metadata": {},
   "outputs": [
    {
     "data": {
      "text/html": [
       "<div>\n",
       "<style scoped>\n",
       "    .dataframe tbody tr th:only-of-type {\n",
       "        vertical-align: middle;\n",
       "    }\n",
       "\n",
       "    .dataframe tbody tr th {\n",
       "        vertical-align: top;\n",
       "    }\n",
       "\n",
       "    .dataframe thead th {\n",
       "        text-align: right;\n",
       "    }\n",
       "</style>\n",
       "<table border=\"1\" class=\"dataframe\">\n",
       "  <thead>\n",
       "    <tr style=\"text-align: right;\">\n",
       "      <th></th>\n",
       "      <th>Model</th>\n",
       "      <th>RMSE</th>\n",
       "      <th>fit</th>\n",
       "      <th>predict</th>\n",
       "    </tr>\n",
       "  </thead>\n",
       "  <tbody>\n",
       "    <tr>\n",
       "      <th>0</th>\n",
       "      <td>Linear</td>\n",
       "      <td>1932</td>\n",
       "      <td>2580</td>\n",
       "      <td>91</td>\n",
       "    </tr>\n",
       "    <tr>\n",
       "      <th>1</th>\n",
       "      <td>RandomForest</td>\n",
       "      <td>1379</td>\n",
       "      <td>46700</td>\n",
       "      <td>318</td>\n",
       "    </tr>\n",
       "    <tr>\n",
       "      <th>2</th>\n",
       "      <td>LightGBM</td>\n",
       "      <td>1351</td>\n",
       "      <td>5290</td>\n",
       "      <td>462</td>\n",
       "    </tr>\n",
       "  </tbody>\n",
       "</table>\n",
       "</div>"
      ],
      "text/plain": [
       "          Model  RMSE    fit  predict\n",
       "0        Linear  1932   2580       91\n",
       "1  RandomForest  1379  46700      318\n",
       "2      LightGBM  1351   5290      462"
      ]
     },
     "execution_count": 42,
     "metadata": {},
     "output_type": "execute_result"
    }
   ],
   "source": [
    "result"
   ]
  },
  {
   "cell_type": "markdown",
   "metadata": {},
   "source": [
    "#### Вывод:\n",
    "Самой быстрой оказалась модель линейной регрессии, но ее качество предсказаний почти в полтора раза ниже, чем у других моделей. \n",
    "\n",
    "Модель случайного леса показала качество предсказаний соизмеримое с LightGBM, но время обучения слишком долгое. \n",
    "\n",
    "LightGBM показал самую высокое качество предсказаний, а также оптимальную скорость обучения. "
   ]
  },
  {
   "cell_type": "markdown",
   "metadata": {},
   "source": [
    "# Общий вывод <a id='section4'></a>"
   ]
  },
  {
   "cell_type": "markdown",
   "metadata": {},
   "source": [
    "Была проведена предобработка данных. Подготовленны признаки для работы с тремя моделями (линейная регрессия, случайный лес и LightGBM).\n",
    "\n",
    "Для моделей подобраны оптимальные параметры. У каждой модели была рассчитана RMSE и зафиксировано время обучения/предсказания.\n",
    "\n",
    "Наилучшее качество предсказания показал LightGBM (RMSE = 1351). Соизмеримое качество достигнуто и моделью случайного леса (RMSE = 1379). Худшие предсказания получены моделью линейной регрессии (RMSE = 1932).\n",
    "\n",
    "Самой быстрой оказалась модель линейной регрессии. Но она не подходит по качеству предсказания. Модель случайного леса, несмотря на хороший показатель RMSE, обучается слишком долго. Более, чем в 10 раз дольше других моделей. \n",
    "\n",
    "Самой оптимальной оказалась модель LightGBM."
   ]
  }
 ],
 "metadata": {
  "kernelspec": {
   "display_name": "Python 3",
   "language": "python",
   "name": "python3"
  },
  "language_info": {
   "codemirror_mode": {
    "name": "ipython",
    "version": 3
   },
   "file_extension": ".py",
   "mimetype": "text/x-python",
   "name": "python",
   "nbconvert_exporter": "python",
   "pygments_lexer": "ipython3",
   "version": "3.7.7"
  }
 },
 "nbformat": 4,
 "nbformat_minor": 2
}
