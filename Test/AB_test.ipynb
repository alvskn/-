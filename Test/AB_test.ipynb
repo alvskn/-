{
 "cells": [
  {
   "cell_type": "markdown",
   "metadata": {},
   "source": [
    "За нулевую гипотезу примем отсутствие разницы в конверсии из двух источников.\n",
    "\n",
    "Параметр alpha выберем 0.05."
   ]
  },
  {
   "cell_type": "markdown",
   "metadata": {},
   "source": [
    "Загрузим необходимые библиотеки и данные"
   ]
  },
  {
   "cell_type": "code",
   "execution_count": 1,
   "metadata": {},
   "outputs": [],
   "source": [
    "import pandas as pd\n",
    "import matplotlib.pyplot as plt\n",
    "import math\n",
    "import numpy as np\n",
    "from scipy import stats as st\n",
    "import statsmodels.api as sm\n",
    "\n",
    "import statsmodels.stats.proportion as proportion\n",
    "import statsmodels.stats.power as power\n",
    "import statsmodels.stats.gof as gof\n",
    "\n",
    "df = pd.read_csv('datasets/visits.csv')"
   ]
  },
  {
   "cell_type": "code",
   "execution_count": 13,
   "metadata": {},
   "outputs": [
    {
     "name": "stdout",
     "output_type": "stream",
     "text": [
      "<class 'pandas.core.frame.DataFrame'>\n",
      "RangeIndex: 17521 entries, 0 to 17520\n",
      "Data columns (total 4 columns):\n",
      " #   Column             Non-Null Count  Dtype \n",
      "---  ------             --------------  ----- \n",
      " 0   uid                17521 non-null  int64 \n",
      " 1   date               17521 non-null  object\n",
      " 2   source             17521 non-null  object\n",
      " 3   is_send_complaint  17521 non-null  int64 \n",
      "dtypes: int64(2), object(2)\n",
      "memory usage: 547.7+ KB\n"
     ]
    },
    {
     "data": {
      "text/html": [
       "<div>\n",
       "<style scoped>\n",
       "    .dataframe tbody tr th:only-of-type {\n",
       "        vertical-align: middle;\n",
       "    }\n",
       "\n",
       "    .dataframe tbody tr th {\n",
       "        vertical-align: top;\n",
       "    }\n",
       "\n",
       "    .dataframe thead th {\n",
       "        text-align: right;\n",
       "    }\n",
       "</style>\n",
       "<table border=\"1\" class=\"dataframe\">\n",
       "  <thead>\n",
       "    <tr style=\"text-align: right;\">\n",
       "      <th></th>\n",
       "      <th>uid</th>\n",
       "      <th>date</th>\n",
       "      <th>source</th>\n",
       "      <th>is_send_complaint</th>\n",
       "    </tr>\n",
       "  </thead>\n",
       "  <tbody>\n",
       "    <tr>\n",
       "      <th>0</th>\n",
       "      <td>6124</td>\n",
       "      <td>2021-04-01 00:01:55</td>\n",
       "      <td>Источник1</td>\n",
       "      <td>0</td>\n",
       "    </tr>\n",
       "    <tr>\n",
       "      <th>1</th>\n",
       "      <td>13047</td>\n",
       "      <td>2021-04-01 00:02:59</td>\n",
       "      <td>Источник2</td>\n",
       "      <td>0</td>\n",
       "    </tr>\n",
       "    <tr>\n",
       "      <th>2</th>\n",
       "      <td>7613</td>\n",
       "      <td>2021-04-01 00:14:34</td>\n",
       "      <td>Источник1</td>\n",
       "      <td>1</td>\n",
       "    </tr>\n",
       "    <tr>\n",
       "      <th>3</th>\n",
       "      <td>7034</td>\n",
       "      <td>2021-04-01 00:16:05</td>\n",
       "      <td>Источник1</td>\n",
       "      <td>0</td>\n",
       "    </tr>\n",
       "    <tr>\n",
       "      <th>4</th>\n",
       "      <td>3810</td>\n",
       "      <td>2021-04-01 00:30:07</td>\n",
       "      <td>Источник1</td>\n",
       "      <td>0</td>\n",
       "    </tr>\n",
       "    <tr>\n",
       "      <th>...</th>\n",
       "      <td>...</td>\n",
       "      <td>...</td>\n",
       "      <td>...</td>\n",
       "      <td>...</td>\n",
       "    </tr>\n",
       "    <tr>\n",
       "      <th>17516</th>\n",
       "      <td>4895</td>\n",
       "      <td>2021-04-29 23:48:44</td>\n",
       "      <td>Источник1</td>\n",
       "      <td>1</td>\n",
       "    </tr>\n",
       "    <tr>\n",
       "      <th>17517</th>\n",
       "      <td>12605</td>\n",
       "      <td>2021-04-29 23:50:48</td>\n",
       "      <td>Источник2</td>\n",
       "      <td>0</td>\n",
       "    </tr>\n",
       "    <tr>\n",
       "      <th>17518</th>\n",
       "      <td>4640</td>\n",
       "      <td>2021-04-29 23:55:37</td>\n",
       "      <td>Источник1</td>\n",
       "      <td>0</td>\n",
       "    </tr>\n",
       "    <tr>\n",
       "      <th>17519</th>\n",
       "      <td>9091</td>\n",
       "      <td>2021-04-29 23:57:30</td>\n",
       "      <td>Источник2</td>\n",
       "      <td>1</td>\n",
       "    </tr>\n",
       "    <tr>\n",
       "      <th>17520</th>\n",
       "      <td>6880</td>\n",
       "      <td>2021-04-29 23:58:34</td>\n",
       "      <td>Источник1</td>\n",
       "      <td>1</td>\n",
       "    </tr>\n",
       "  </tbody>\n",
       "</table>\n",
       "<p>17521 rows × 4 columns</p>\n",
       "</div>"
      ],
      "text/plain": [
       "         uid                 date     source  is_send_complaint\n",
       "0       6124  2021-04-01 00:01:55  Источник1                  0\n",
       "1      13047  2021-04-01 00:02:59  Источник2                  0\n",
       "2       7613  2021-04-01 00:14:34  Источник1                  1\n",
       "3       7034  2021-04-01 00:16:05  Источник1                  0\n",
       "4       3810  2021-04-01 00:30:07  Источник1                  0\n",
       "...      ...                  ...        ...                ...\n",
       "17516   4895  2021-04-29 23:48:44  Источник1                  1\n",
       "17517  12605  2021-04-29 23:50:48  Источник2                  0\n",
       "17518   4640  2021-04-29 23:55:37  Источник1                  0\n",
       "17519   9091  2021-04-29 23:57:30  Источник2                  1\n",
       "17520   6880  2021-04-29 23:58:34  Источник1                  1\n",
       "\n",
       "[17521 rows x 4 columns]"
      ]
     },
     "execution_count": 13,
     "metadata": {},
     "output_type": "execute_result"
    }
   ],
   "source": [
    "df.info()\n",
    "df"
   ]
  },
  {
   "cell_type": "markdown",
   "metadata": {},
   "source": [
    "Данные выглядят нормально, пропусков не обнаруджено.\n",
    "\n",
    "Проверим не дублируются ли uid."
   ]
  },
  {
   "cell_type": "code",
   "execution_count": 3,
   "metadata": {},
   "outputs": [
    {
     "data": {
      "text/plain": [
       "2047     1\n",
       "6790     1\n",
       "10880    1\n",
       "8833     1\n",
       "14978    1\n",
       "        ..\n",
       "13596    1\n",
       "3355     1\n",
       "1306     1\n",
       "7449     1\n",
       "0        1\n",
       "Name: uid, Length: 17521, dtype: int64"
      ]
     },
     "execution_count": 3,
     "metadata": {},
     "output_type": "execute_result"
    }
   ],
   "source": [
    "df.uid.value_counts(sort=True)"
   ]
  },
  {
   "cell_type": "markdown",
   "metadata": {},
   "source": [
    "Подготовим необходимые переменные"
   ]
  },
  {
   "cell_type": "code",
   "execution_count": 4,
   "metadata": {},
   "outputs": [],
   "source": [
    "s1 = df.query('source == \"Источник1\"').is_send_complaint.sum()      #  число успехов Источник 1\n",
    "n1 = df.query('source == \"Источник1\"').is_send_complaint.count()    #  число испытаний Источник 1\n",
    "s2 = df.query('source == \"Источник2\"').is_send_complaint.sum()      #  число успехов Источник 1\n",
    "n2 = df.query('source == \"Источник2\"').is_send_complaint.count()    #  число испытаний Источник 2\n",
    "p1 = s1/n1               #  оценка вероятности успеха Источник 1\n",
    "p2 = s2/n2               #  оценка вероятности успеха Источник 2\n",
    "p = (s1 + s2)/(n1+n2)    #  оценка вероятности успеха оба источника\n",
    "z = (p2-p1)/ ((p*(1-p)*((1/n1)+(1/n2)))**0.5)  #  z-метка"
   ]
  },
  {
   "cell_type": "markdown",
   "metadata": {},
   "source": [
    "Найдем значение p-value с помощью z-теста"
   ]
  },
  {
   "cell_type": "code",
   "execution_count": 5,
   "metadata": {},
   "outputs": [
    {
     "data": {
      "text/plain": [
       "0.09229131320879888"
      ]
     },
     "execution_count": 5,
     "metadata": {},
     "output_type": "execute_result"
    }
   ],
   "source": [
    "z1, p_value = sm.stats.proportions_ztest([s1, s2], [n1, n2])\n",
    "p_value"
   ]
  },
  {
   "cell_type": "markdown",
   "metadata": {},
   "source": [
    "P-value (0.09) больше выбранного значения alpha (0.05). В таком случае мы не можем отклонить нулевую гипотезу. \n",
    "\n",
    "Проверим значение p-value методом хи-квадрат."
   ]
  },
  {
   "cell_type": "code",
   "execution_count": 14,
   "metadata": {},
   "outputs": [
    {
     "data": {
      "text/plain": [
       "0.09229131320879909"
      ]
     },
     "execution_count": 14,
     "metadata": {},
     "output_type": "execute_result"
    }
   ],
   "source": [
    "proportion.proportions_chisquare([s1, s2], [n1, n2])[1]"
   ]
  },
  {
   "cell_type": "markdown",
   "metadata": {},
   "source": [
    "Метод хи-квадрат подтвердил значение p-value."
   ]
  },
  {
   "cell_type": "markdown",
   "metadata": {},
   "source": [
    "Посчитаем статистическую мощность.\n",
    "\n",
    "Сперва подготовим расчет effect_size."
   ]
  },
  {
   "cell_type": "code",
   "execution_count": 15,
   "metadata": {},
   "outputs": [
    {
     "data": {
      "text/plain": [
       "0.02091670015193822"
      ]
     },
     "execution_count": 15,
     "metadata": {},
     "output_type": "execute_result"
    }
   ],
   "source": [
    "effect_size = ((p1 - p2) ** 2 / p1) ** 0.5\n",
    "effect_size"
   ]
  },
  {
   "cell_type": "code",
   "execution_count": 8,
   "metadata": {},
   "outputs": [
    {
     "data": {
      "text/plain": [
       "0.4863843726519206"
      ]
     },
     "execution_count": 8,
     "metadata": {},
     "output_type": "execute_result"
    }
   ],
   "source": [
    "power.GofChisquarePower().solve_power(effect_size=effect_size, nobs=min(n1,n2), alpha=0.05, n_bins=2)"
   ]
  },
  {
   "cell_type": "markdown",
   "metadata": {},
   "source": [
    "Мощность невысокая. Посчитаем размер выборки, необходимый для достижения статистической мощности 0.8."
   ]
  },
  {
   "cell_type": "code",
   "execution_count": 12,
   "metadata": {},
   "outputs": [
    {
     "data": {
      "text/plain": [
       "17939.91039167791"
      ]
     },
     "execution_count": 12,
     "metadata": {},
     "output_type": "execute_result"
    }
   ],
   "source": [
    "power.GofChisquarePower().solve_power(effect_size=effect_size, nobs=None, alpha=0.05, power=0.8, n_bins=2)"
   ]
  },
  {
   "cell_type": "markdown",
   "metadata": {},
   "source": [
    "### Вывод:\n",
    "При выбраном значении alpha (0.05) мы не можем отклонить нулевую гипотезу о равенстве конверсий из двух источников. \n",
    "\n",
    "Также статистическая мощность получилась всего 0.49. \n",
    "\n",
    "Рекомендуется продолжить тест, пока минимальное количество наблюдений в каждой выборке не достигнет 17940. В таком случае удастся достичь статистической мощности 0.8. "
   ]
  }
 ],
 "metadata": {
  "kernelspec": {
   "display_name": "Python 3",
   "language": "python",
   "name": "python3"
  },
  "language_info": {
   "codemirror_mode": {
    "name": "ipython",
    "version": 3
   },
   "file_extension": ".py",
   "mimetype": "text/x-python",
   "name": "python",
   "nbconvert_exporter": "python",
   "pygments_lexer": "ipython3",
   "version": "3.7.7"
  }
 },
 "nbformat": 4,
 "nbformat_minor": 2
}
