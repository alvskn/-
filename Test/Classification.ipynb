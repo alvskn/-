{
 "cells": [
  {
   "cell_type": "markdown",
   "metadata": {},
   "source": [
    "Загрузим необходимые библиотеки"
   ]
  },
  {
   "cell_type": "code",
   "execution_count": 1,
   "metadata": {},
   "outputs": [],
   "source": [
    "import pandas as pd\n",
    "import numpy as np\n",
    "import matplotlib.pyplot as plt\n",
    "import warnings\n",
    "warnings.filterwarnings('ignore')\n",
    "\n",
    "from sklearn.ensemble import RandomForestClassifier\n",
    "from sklearn.linear_model import LogisticRegression\n",
    "import xgboost as xgb\n",
    "\n",
    "from sklearn.model_selection import train_test_split\n",
    "from sklearn.utils import shuffle\n",
    "from sklearn.preprocessing import StandardScaler\n",
    "\n",
    "from sklearn.metrics import classification_report"
   ]
  },
  {
   "cell_type": "markdown",
   "metadata": {},
   "source": [
    "Загрузим и проверим данные"
   ]
  },
  {
   "cell_type": "code",
   "execution_count": 2,
   "metadata": {
    "scrolled": true
   },
   "outputs": [
    {
     "name": "stdout",
     "output_type": "stream",
     "text": [
      "<class 'pandas.core.frame.DataFrame'>\n",
      "RangeIndex: 6000 entries, 0 to 5999\n",
      "Data columns (total 13 columns):\n",
      " #   Column           Non-Null Count  Dtype  \n",
      "---  ------           --------------  -----  \n",
      " 0   defect_category  6000 non-null   int64  \n",
      " 1   var_1            6000 non-null   float64\n",
      " 2   var_2            6000 non-null   int64  \n",
      " 3   var_3            6000 non-null   float64\n",
      " 4   var_4            6000 non-null   int64  \n",
      " 5   var_5            6000 non-null   float64\n",
      " 6   var_6            6000 non-null   int64  \n",
      " 7   var_7            6000 non-null   float64\n",
      " 8   var_8            6000 non-null   int64  \n",
      " 9   var_9            6000 non-null   float64\n",
      " 10  var_10           6000 non-null   int64  \n",
      " 11  var_11           6000 non-null   float64\n",
      " 12  var_12           6000 non-null   float64\n",
      "dtypes: float64(7), int64(6)\n",
      "memory usage: 609.5 KB\n",
      "       defect_category        var_1        var_2        var_3        var_4  \\\n",
      "count      6000.000000  6000.000000  6000.000000  6000.000000  6000.000000   \n",
      "mean          0.803167  6356.146176     0.277833  3420.474853     0.107667   \n",
      "std           0.687873   509.106497     0.447968   272.908445     0.309985   \n",
      "min           0.000000  4353.366793     0.000000  2391.003018     0.000000   \n",
      "25%           0.000000  6012.559865     0.000000  3239.341905     0.000000   \n",
      "50%           1.000000  6354.535009     0.000000  3421.020279     0.000000   \n",
      "75%           1.000000  6704.055350     1.000000  3602.800334     0.000000   \n",
      "max           2.000000  8169.159370     1.000000  4472.353593     1.000000   \n",
      "\n",
      "             var_5        var_6        var_7        var_8        var_9  \\\n",
      "count  6000.000000  6000.000000  6000.000000  6000.000000  6000.000000   \n",
      "mean      0.236558     0.329167     0.224787     0.754500     0.778449   \n",
      "std       0.304849     0.469950     0.086542     0.430419     0.088607   \n",
      "min      -0.974838     0.000000    -0.079677     0.000000     0.415416   \n",
      "25%       0.031547     0.000000     0.166849     1.000000     0.720068   \n",
      "50%       0.239428     0.000000     0.224367     1.000000     0.779070   \n",
      "75%       0.433308     1.000000     0.282022     1.000000     0.837556   \n",
      "max       1.281188     1.000000     0.518510     1.000000     1.058548   \n",
      "\n",
      "            var_10       var_11       var_12  \n",
      "count  6000.000000  6000.000000  6000.000000  \n",
      "mean      0.137000    39.028824   992.525776  \n",
      "std       0.343876     3.136395    78.633166  \n",
      "min       0.000000    25.338598   698.957598  \n",
      "25%       0.000000    36.878375   940.033881  \n",
      "50%       0.000000    39.016244   993.307764  \n",
      "75%       0.000000    41.134346  1046.319167  \n",
      "max       1.000000    50.610822  1295.824419  \n"
     ]
    },
    {
     "data": {
      "text/html": [
       "<div>\n",
       "<style scoped>\n",
       "    .dataframe tbody tr th:only-of-type {\n",
       "        vertical-align: middle;\n",
       "    }\n",
       "\n",
       "    .dataframe tbody tr th {\n",
       "        vertical-align: top;\n",
       "    }\n",
       "\n",
       "    .dataframe thead th {\n",
       "        text-align: right;\n",
       "    }\n",
       "</style>\n",
       "<table border=\"1\" class=\"dataframe\">\n",
       "  <thead>\n",
       "    <tr style=\"text-align: right;\">\n",
       "      <th></th>\n",
       "      <th>defect_category</th>\n",
       "      <th>var_1</th>\n",
       "      <th>var_2</th>\n",
       "      <th>var_3</th>\n",
       "      <th>var_4</th>\n",
       "      <th>var_5</th>\n",
       "      <th>var_6</th>\n",
       "      <th>var_7</th>\n",
       "      <th>var_8</th>\n",
       "      <th>var_9</th>\n",
       "      <th>var_10</th>\n",
       "      <th>var_11</th>\n",
       "      <th>var_12</th>\n",
       "    </tr>\n",
       "  </thead>\n",
       "  <tbody>\n",
       "    <tr>\n",
       "      <th>0</th>\n",
       "      <td>1</td>\n",
       "      <td>6953.060560</td>\n",
       "      <td>0</td>\n",
       "      <td>3604.065994</td>\n",
       "      <td>0</td>\n",
       "      <td>0.403495</td>\n",
       "      <td>0</td>\n",
       "      <td>0.197050</td>\n",
       "      <td>1</td>\n",
       "      <td>0.819103</td>\n",
       "      <td>0</td>\n",
       "      <td>38.483621</td>\n",
       "      <td>1071.626315</td>\n",
       "    </tr>\n",
       "    <tr>\n",
       "      <th>1</th>\n",
       "      <td>1</td>\n",
       "      <td>7042.991473</td>\n",
       "      <td>0</td>\n",
       "      <td>3162.456833</td>\n",
       "      <td>0</td>\n",
       "      <td>0.543089</td>\n",
       "      <td>0</td>\n",
       "      <td>0.155076</td>\n",
       "      <td>1</td>\n",
       "      <td>0.795849</td>\n",
       "      <td>0</td>\n",
       "      <td>35.865654</td>\n",
       "      <td>1126.933978</td>\n",
       "    </tr>\n",
       "    <tr>\n",
       "      <th>2</th>\n",
       "      <td>1</td>\n",
       "      <td>5929.240308</td>\n",
       "      <td>0</td>\n",
       "      <td>3494.332481</td>\n",
       "      <td>0</td>\n",
       "      <td>-0.271669</td>\n",
       "      <td>0</td>\n",
       "      <td>0.226166</td>\n",
       "      <td>1</td>\n",
       "      <td>0.815661</td>\n",
       "      <td>0</td>\n",
       "      <td>39.483151</td>\n",
       "      <td>1017.375909</td>\n",
       "    </tr>\n",
       "    <tr>\n",
       "      <th>3</th>\n",
       "      <td>1</td>\n",
       "      <td>6492.669356</td>\n",
       "      <td>0</td>\n",
       "      <td>3914.969447</td>\n",
       "      <td>0</td>\n",
       "      <td>0.615971</td>\n",
       "      <td>0</td>\n",
       "      <td>0.134270</td>\n",
       "      <td>1</td>\n",
       "      <td>0.701073</td>\n",
       "      <td>0</td>\n",
       "      <td>37.846423</td>\n",
       "      <td>916.186422</td>\n",
       "    </tr>\n",
       "    <tr>\n",
       "      <th>4</th>\n",
       "      <td>0</td>\n",
       "      <td>6482.830756</td>\n",
       "      <td>0</td>\n",
       "      <td>3462.504037</td>\n",
       "      <td>0</td>\n",
       "      <td>0.243473</td>\n",
       "      <td>0</td>\n",
       "      <td>0.259252</td>\n",
       "      <td>1</td>\n",
       "      <td>0.771909</td>\n",
       "      <td>0</td>\n",
       "      <td>37.728373</td>\n",
       "      <td>1043.746807</td>\n",
       "    </tr>\n",
       "  </tbody>\n",
       "</table>\n",
       "</div>"
      ],
      "text/plain": [
       "   defect_category        var_1  var_2        var_3  var_4     var_5  var_6  \\\n",
       "0                1  6953.060560      0  3604.065994      0  0.403495      0   \n",
       "1                1  7042.991473      0  3162.456833      0  0.543089      0   \n",
       "2                1  5929.240308      0  3494.332481      0 -0.271669      0   \n",
       "3                1  6492.669356      0  3914.969447      0  0.615971      0   \n",
       "4                0  6482.830756      0  3462.504037      0  0.243473      0   \n",
       "\n",
       "      var_7  var_8     var_9  var_10     var_11       var_12  \n",
       "0  0.197050      1  0.819103       0  38.483621  1071.626315  \n",
       "1  0.155076      1  0.795849       0  35.865654  1126.933978  \n",
       "2  0.226166      1  0.815661       0  39.483151  1017.375909  \n",
       "3  0.134270      1  0.701073       0  37.846423   916.186422  \n",
       "4  0.259252      1  0.771909       0  37.728373  1043.746807  "
      ]
     },
     "execution_count": 2,
     "metadata": {},
     "output_type": "execute_result"
    }
   ],
   "source": [
    "df = pd.read_csv('datasets/defect_category_data.csv')\n",
    "\n",
    "df.info()\n",
    "print(df.describe())\n",
    "df.head(5)"
   ]
  },
  {
   "cell_type": "markdown",
   "metadata": {},
   "source": [
    "Данные выглядят нормально. Пропусков не обнаружено. Проверим на наличие дубликатов."
   ]
  },
  {
   "cell_type": "code",
   "execution_count": 3,
   "metadata": {},
   "outputs": [
    {
     "data": {
      "text/html": [
       "<div>\n",
       "<style scoped>\n",
       "    .dataframe tbody tr th:only-of-type {\n",
       "        vertical-align: middle;\n",
       "    }\n",
       "\n",
       "    .dataframe tbody tr th {\n",
       "        vertical-align: top;\n",
       "    }\n",
       "\n",
       "    .dataframe thead th {\n",
       "        text-align: right;\n",
       "    }\n",
       "</style>\n",
       "<table border=\"1\" class=\"dataframe\">\n",
       "  <thead>\n",
       "    <tr style=\"text-align: right;\">\n",
       "      <th></th>\n",
       "      <th>defect_category</th>\n",
       "      <th>var_1</th>\n",
       "      <th>var_2</th>\n",
       "      <th>var_3</th>\n",
       "      <th>var_4</th>\n",
       "      <th>var_5</th>\n",
       "      <th>var_6</th>\n",
       "      <th>var_7</th>\n",
       "      <th>var_8</th>\n",
       "      <th>var_9</th>\n",
       "      <th>var_10</th>\n",
       "      <th>var_11</th>\n",
       "      <th>var_12</th>\n",
       "    </tr>\n",
       "  </thead>\n",
       "  <tbody>\n",
       "  </tbody>\n",
       "</table>\n",
       "</div>"
      ],
      "text/plain": [
       "Empty DataFrame\n",
       "Columns: [defect_category, var_1, var_2, var_3, var_4, var_5, var_6, var_7, var_8, var_9, var_10, var_11, var_12]\n",
       "Index: []"
      ]
     },
     "execution_count": 3,
     "metadata": {},
     "output_type": "execute_result"
    }
   ],
   "source": [
    "df[df.duplicated() == True]"
   ]
  },
  {
   "cell_type": "markdown",
   "metadata": {},
   "source": [
    "Дубликатов не обнаружено"
   ]
  },
  {
   "cell_type": "markdown",
   "metadata": {},
   "source": [
    "## Подготовка признаков"
   ]
  },
  {
   "cell_type": "markdown",
   "metadata": {},
   "source": [
    "Приведем категориальные признаки к типу данных category"
   ]
  },
  {
   "cell_type": "code",
   "execution_count": 4,
   "metadata": {},
   "outputs": [
    {
     "name": "stdout",
     "output_type": "stream",
     "text": [
      "<class 'pandas.core.frame.DataFrame'>\n",
      "RangeIndex: 6000 entries, 0 to 5999\n",
      "Data columns (total 13 columns):\n",
      " #   Column           Non-Null Count  Dtype   \n",
      "---  ------           --------------  -----   \n",
      " 0   defect_category  6000 non-null   category\n",
      " 1   var_1            6000 non-null   float64 \n",
      " 2   var_2            6000 non-null   int64   \n",
      " 3   var_3            6000 non-null   float64 \n",
      " 4   var_4            6000 non-null   int64   \n",
      " 5   var_5            6000 non-null   float64 \n",
      " 6   var_6            6000 non-null   int64   \n",
      " 7   var_7            6000 non-null   float64 \n",
      " 8   var_8            6000 non-null   int64   \n",
      " 9   var_9            6000 non-null   float64 \n",
      " 10  var_10           6000 non-null   int64   \n",
      " 11  var_11           6000 non-null   float64 \n",
      " 12  var_12           6000 non-null   float64 \n",
      "dtypes: category(1), float64(7), int64(5)\n",
      "memory usage: 568.6 KB\n"
     ]
    }
   ],
   "source": [
    "df.defect_category = df.defect_category.astype('category')\n",
    "    \n",
    "df.info()"
   ]
  },
  {
   "cell_type": "markdown",
   "metadata": {},
   "source": [
    "Определим таргеты и фичи"
   ]
  },
  {
   "cell_type": "code",
   "execution_count": 5,
   "metadata": {},
   "outputs": [],
   "source": [
    "features = df.drop(['defect_category'], axis=1)\n",
    "target = df['defect_category']"
   ]
  },
  {
   "cell_type": "markdown",
   "metadata": {},
   "source": [
    "Проверим баланс классов в defect_category"
   ]
  },
  {
   "cell_type": "code",
   "execution_count": 6,
   "metadata": {},
   "outputs": [
    {
     "data": {
      "text/plain": [
       "<matplotlib.axes._subplots.AxesSubplot at 0xc3a9288>"
      ]
     },
     "execution_count": 6,
     "metadata": {},
     "output_type": "execute_result"
    },
    {
     "data": {
      "image/png": "[encoded data removed]",
      "text/plain": [
       "<Figure size 432x288 with 1 Axes>"
      ]
     },
     "metadata": {
      "needs_background": "light"
     },
     "output_type": "display_data"
    }
   ],
   "source": [
    "df.defect_category.hist()"
   ]
  },
  {
   "cell_type": "markdown",
   "metadata": {},
   "source": [
    "Сильного дисбаланса не обнаружено"
   ]
  },
  {
   "cell_type": "markdown",
   "metadata": {},
   "source": [
    "#### Разделим данные на тренировочные и тестовые в соотношении 7:3."
   ]
  },
  {
   "cell_type": "code",
   "execution_count": 7,
   "metadata": {},
   "outputs": [
    {
     "name": "stdout",
     "output_type": "stream",
     "text": [
      "(4200, 12)\n",
      "(1800, 12)\n"
     ]
    }
   ],
   "source": [
    "features_train, features_test, target_train, target_test = train_test_split(\n",
    "    features, target, test_size=0.3, random_state=12345)\n",
    "\n",
    "\n",
    "print(features_train.shape)\n",
    "print(features_test.shape)"
   ]
  },
  {
   "cell_type": "markdown",
   "metadata": {},
   "source": [
    "Проверим полученные колонки с признаками"
   ]
  },
  {
   "cell_type": "code",
   "execution_count": 8,
   "metadata": {},
   "outputs": [
    {
     "data": {
      "text/plain": [
       "Index(['var_1', 'var_2', 'var_3', 'var_4', 'var_5', 'var_6', 'var_7', 'var_8',\n",
       "       'var_9', 'var_10', 'var_11', 'var_12'],\n",
       "      dtype='object')"
      ]
     },
     "execution_count": 8,
     "metadata": {},
     "output_type": "execute_result"
    }
   ],
   "source": [
    "features_train.columns"
   ]
  },
  {
   "cell_type": "markdown",
   "metadata": {},
   "source": [
    "Нормализуем признаки"
   ]
  },
  {
   "cell_type": "code",
   "execution_count": 9,
   "metadata": {},
   "outputs": [],
   "source": [
    "sc = StandardScaler()\n",
    "\n",
    "features_train = sc.fit_transform(features_train)\n",
    "features_test = sc.fit_transform(features_test)"
   ]
  },
  {
   "cell_type": "markdown",
   "metadata": {},
   "source": [
    "## Подготовка моделей"
   ]
  },
  {
   "cell_type": "markdown",
   "metadata": {},
   "source": [
    "### Логистическая регрессия"
   ]
  },
  {
   "cell_type": "code",
   "execution_count": 10,
   "metadata": {},
   "outputs": [
    {
     "name": "stdout",
     "output_type": "stream",
     "text": [
      "              precision    recall  f1-score   support\n",
      "\n",
      "           0       0.38      0.00      0.01       646\n",
      "           1       0.49      1.00      0.65       874\n",
      "           2       0.00      0.00      0.00       280\n",
      "\n",
      "    accuracy                           0.49      1800\n",
      "   macro avg       0.29      0.33      0.22      1800\n",
      "weighted avg       0.37      0.49      0.32      1800\n",
      "\n"
     ]
    }
   ],
   "source": [
    "model = LogisticRegression(multi_class='ovr')\n",
    "model.fit(features_train, target_train)\n",
    "predictions = model.predict(features_test)\n",
    "\n",
    "print(classification_report(target_test, predictions))"
   ]
  },
  {
   "cell_type": "markdown",
   "metadata": {},
   "source": [
    "### Случайный лес"
   ]
  },
  {
   "cell_type": "code",
   "execution_count": 11,
   "metadata": {},
   "outputs": [
    {
     "name": "stdout",
     "output_type": "stream",
     "text": [
      "              precision    recall  f1-score   support\n",
      "\n",
      "           0       0.36      0.38      0.37       646\n",
      "           1       0.49      0.59      0.53       874\n",
      "           2       0.12      0.03      0.05       280\n",
      "\n",
      "    accuracy                           0.43      1800\n",
      "   macro avg       0.32      0.33      0.32      1800\n",
      "weighted avg       0.38      0.43      0.40      1800\n",
      "\n",
      "Wall time: 128 ms\n"
     ]
    }
   ],
   "source": [
    "%%time\n",
    "model = RandomForestClassifier()\n",
    "model.fit(features_train, target_train)\n",
    "predictions = model.predict(features_test)\n",
    "\n",
    "print(classification_report(target_test, predictions))"
   ]
  },
  {
   "cell_type": "markdown",
   "metadata": {},
   "source": [
    "### Градиентный бустинг"
   ]
  },
  {
   "cell_type": "code",
   "execution_count": 12,
   "metadata": {},
   "outputs": [],
   "source": [
    "dtrain = xgb.DMatrix(data=features_train, label=target_train)\n",
    "dtest = xgb.DMatrix(data=features_test)"
   ]
  },
  {
   "cell_type": "code",
   "execution_count": 13,
   "metadata": {},
   "outputs": [],
   "source": [
    "params = {\n",
    "    'max_depth': 10,\n",
    "    'objective': 'multi:softmax',\n",
    "    'num_class': 3\n",
    "}"
   ]
  },
  {
   "cell_type": "code",
   "execution_count": 14,
   "metadata": {},
   "outputs": [
    {
     "name": "stdout",
     "output_type": "stream",
     "text": [
      "[19:40:12] WARNING: C:/Users/Administrator/workspace/xgboost-win64_release_1.4.0/src/learner.cc:1095: Starting in XGBoost 1.3.0, the default evaluation metric used with the objective 'multi:softmax' was changed from 'merror' to 'mlogloss'. Explicitly set eval_metric if you'd like to restore the old behavior.\n"
     ]
    }
   ],
   "source": [
    "bst = xgb.train(params, dtrain)\n",
    "\n",
    "predictions = bst.predict(dtest)"
   ]
  },
  {
   "cell_type": "code",
   "execution_count": 15,
   "metadata": {},
   "outputs": [
    {
     "name": "stdout",
     "output_type": "stream",
     "text": [
      "              precision    recall  f1-score   support\n",
      "\n",
      "           0       0.38      0.20      0.26       646\n",
      "           1       0.50      0.81      0.61       874\n",
      "           2       0.12      0.01      0.02       280\n",
      "\n",
      "    accuracy                           0.47      1800\n",
      "   macro avg       0.33      0.34      0.30      1800\n",
      "weighted avg       0.40      0.47      0.40      1800\n",
      "\n"
     ]
    }
   ],
   "source": [
    "print(classification_report(target_test, predictions))"
   ]
  },
  {
   "cell_type": "markdown",
   "metadata": {},
   "source": [
    "### Вывод:\n",
    "Данные были проверены и нормализованны. Также они были разделены на обучающую и тестовую выборки.   \n",
    "Были обучены три модели: логистическая регрессия, случайный лес и градиентный бустинг.   \n",
    "Лучшую метрику (макро-точность 0.33) показала модель градиентного бустинга.  "
   ]
  }
 ],
 "metadata": {
  "kernelspec": {
   "display_name": "Python 3",
   "language": "python",
   "name": "python3"
  },
  "language_info": {
   "codemirror_mode": {
    "name": "ipython",
    "version": 3
   },
   "file_extension": ".py",
   "mimetype": "text/x-python",
   "name": "python",
   "nbconvert_exporter": "python",
   "pygments_lexer": "ipython3",
   "version": "3.7.7"
  }
 },
 "nbformat": 4,
 "nbformat_minor": 2
}
