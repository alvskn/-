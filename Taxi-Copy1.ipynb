{
 "cells": [
  {
   "cell_type": "markdown",
   "metadata": {},
   "source": [
    "## Описание проекта\n",
    "\n",
    "Есть исторические данные по количеству заказов такси в определенном районе. Необходимо спрогнозировать пиковые нагрузки чтобы вовремя привлечь дополнительных водителей. \n",
    "\n",
    "Для решения задачи обучим различные модели, которые будут предсказывать количество заказов такси в следующий час.\n",
    "\n",
    "В качестве метрики выбрана *RMSE*. Итоговое значение на тестовой выборке должно быть не больше 48."
   ]
  },
  {
   "cell_type": "markdown",
   "metadata": {},
   "source": [
    "## План исследования\n",
    "1. Подготовка\n",
    "2. Анализ\n",
    "3. Обучение\n",
    "4. Тестирование\n",
    "Общий вывод"
   ]
  },
  {
   "cell_type": "markdown",
   "metadata": {},
   "source": [
    "# 1. Подготовка <a id='section1'></a>"
   ]
  },
  {
   "cell_type": "markdown",
   "metadata": {},
   "source": [
    "Загрузим необходимые библиотеки"
   ]
  },
  {
   "cell_type": "code",
   "execution_count": 1,
   "metadata": {},
   "outputs": [],
   "source": [
    "import pandas as pd\n",
    "import numpy as np\n",
    "import matplotlib.pyplot as plt\n",
    "import warnings\n",
    "from warnings import simplefilter\n",
    "simplefilter(action='ignore', category=FutureWarning)\n",
    "\n",
    "from sklearn.preprocessing import StandardScaler\n",
    "from sklearn.ensemble import RandomForestRegressor\n",
    "from sklearn.linear_model import LinearRegression\n",
    "import lightgbm as lgb\n",
    "from sklearn.model_selection import train_test_split\n",
    "from sklearn.metrics import mean_squared_error"
   ]
  },
  {
   "cell_type": "markdown",
   "metadata": {},
   "source": [
    "Загрузим данные и выполним ресемплирование"
   ]
  },
  {
   "cell_type": "code",
   "execution_count": 2,
   "metadata": {},
   "outputs": [
    {
     "name": "stdout",
     "output_type": "stream",
     "text": [
      "                     num_orders\n",
      "datetime                       \n",
      "2018-03-01 00:00:00         124\n",
      "2018-03-01 01:00:00          85\n",
      "2018-03-01 02:00:00          71\n",
      "2018-03-01 03:00:00          66\n",
      "2018-03-01 04:00:00          43\n",
      "...                         ...\n",
      "2018-08-31 19:00:00         136\n",
      "2018-08-31 20:00:00         154\n",
      "2018-08-31 21:00:00         159\n",
      "2018-08-31 22:00:00         223\n",
      "2018-08-31 23:00:00         205\n",
      "\n",
      "[4416 rows x 1 columns]\n"
     ]
    },
    {
     "data": {
      "text/plain": [
       "array([[<matplotlib.axes._subplots.AxesSubplot object at 0x000000000C07EDC8>]],\n",
       "      dtype=object)"
      ]
     },
     "execution_count": 2,
     "metadata": {},
     "output_type": "execute_result"
    },
    {
     "data": {
      "image/png": "[encoded data removed]",
      "text/plain": [
       "<Figure size 432x288 with 1 Axes>"
      ]
     },
     "metadata": {
      "needs_background": "light"
     },
     "output_type": "display_data"
    }
   ],
   "source": [
    "df = pd.read_csv('datasets/taxi.csv', index_col=[0], parse_dates=[0])\n",
    "df = df.resample('1H').sum()\n",
    "print(df)\n",
    "df.hist()"
   ]
  },
  {
   "cell_type": "markdown",
   "metadata": {},
   "source": [
    "### Вывод:\n",
    "Данные загружены, ресемплирование выполненно. Распределение выглядит нормально. "
   ]
  },
  {
   "cell_type": "markdown",
   "metadata": {},
   "source": [
    "# 2. Анализ <a id='section2'></a>"
   ]
  },
  {
   "cell_type": "markdown",
   "metadata": {},
   "source": [
    "Создадим необходимые признаки. Заранее зададим rolling_mean_size и max_lag, чтобы в будущем было легче эксперементировать. "
   ]
  },
  {
   "cell_type": "code",
   "execution_count": 3,
   "metadata": {},
   "outputs": [],
   "source": [
    "rolling_mean_size = 3\n",
    "max_lag = 13  # Подобран опытным путем\n",
    "\n",
    "df['month'] = df.index.month\n",
    "df['day'] = df.index.day\n",
    "df['dayofweek'] = df.index.dayofweek\n",
    "df['hour'] = df.index.hour\n",
    "df['rolling_mean'] = df['num_orders'].shift().rolling(rolling_mean_size).mean()\n",
    "\n",
    "for lag in range(1, max_lag + 1):\n",
    "    df['lag_{}'.format(lag)] = df['num_orders'].shift(lag)"
   ]
  },
  {
   "cell_type": "markdown",
   "metadata": {},
   "source": [
    "В заданом периоде были праздничные дни. Это могло повлиять на количество заказов. Создадим колонку для указания праздничных дней. "
   ]
  },
  {
   "cell_type": "code",
   "execution_count": 4,
   "metadata": {},
   "outputs": [],
   "source": [
    "df['holiday'] = 0"
   ]
  },
  {
   "cell_type": "markdown",
   "metadata": {},
   "source": [
    "Обозначим официальные праздничные дни вручную"
   ]
  },
  {
   "cell_type": "code",
   "execution_count": 5,
   "metadata": {},
   "outputs": [],
   "source": [
    "df.loc['2018-03-08 00:00:00' : '2018-03-11 23:00:00', 'holiday'] = 1\n",
    "df.loc['2018-04-29 00:00:00' : '2018-05-02 23:00:00', 'holiday'] = 1\n",
    "df.loc['2018-05-09 00:00:00' : '2018-05-09 23:00:00', 'holiday'] = 1\n",
    "df.loc['2018-06-10 00:00:00' : '2018-06-12 23:00:00', 'holiday'] = 1"
   ]
  },
  {
   "cell_type": "markdown",
   "metadata": {},
   "source": [
    "Поменяем тип категориальных данных"
   ]
  },
  {
   "cell_type": "code",
   "execution_count": 6,
   "metadata": {},
   "outputs": [],
   "source": [
    "df['month'] = df['month'].astype('category')\n",
    "df['day'] = df['day'].astype('category')\n",
    "df['dayofweek'] = df['dayofweek'].astype('category')\n",
    "df['hour'] = df['hour'].astype('category')\n",
    "df['holiday'] = df['holiday'].astype('category')"
   ]
  },
  {
   "cell_type": "markdown",
   "metadata": {},
   "source": [
    "Избавимся от пропусков"
   ]
  },
  {
   "cell_type": "code",
   "execution_count": 7,
   "metadata": {},
   "outputs": [],
   "source": [
    "df = df.dropna()\n",
    "features = df.drop(['num_orders'], axis=1)\n",
    "target = df['num_orders']"
   ]
  },
  {
   "cell_type": "code",
   "execution_count": 8,
   "metadata": {},
   "outputs": [
    {
     "data": {
      "text/html": [
       "<div>\n",
       "<style scoped>\n",
       "    .dataframe tbody tr th:only-of-type {\n",
       "        vertical-align: middle;\n",
       "    }\n",
       "\n",
       "    .dataframe tbody tr th {\n",
       "        vertical-align: top;\n",
       "    }\n",
       "\n",
       "    .dataframe thead th {\n",
       "        text-align: right;\n",
       "    }\n",
       "</style>\n",
       "<table border=\"1\" class=\"dataframe\">\n",
       "  <thead>\n",
       "    <tr style=\"text-align: right;\">\n",
       "      <th></th>\n",
       "      <th>num_orders</th>\n",
       "      <th>month</th>\n",
       "      <th>day</th>\n",
       "      <th>dayofweek</th>\n",
       "      <th>hour</th>\n",
       "      <th>rolling_mean</th>\n",
       "      <th>lag_1</th>\n",
       "      <th>lag_2</th>\n",
       "      <th>lag_3</th>\n",
       "      <th>lag_4</th>\n",
       "      <th>lag_5</th>\n",
       "      <th>lag_6</th>\n",
       "      <th>lag_7</th>\n",
       "      <th>lag_8</th>\n",
       "      <th>lag_9</th>\n",
       "      <th>lag_10</th>\n",
       "      <th>lag_11</th>\n",
       "      <th>lag_12</th>\n",
       "      <th>lag_13</th>\n",
       "      <th>holiday</th>\n",
       "    </tr>\n",
       "    <tr>\n",
       "      <th>datetime</th>\n",
       "      <th></th>\n",
       "      <th></th>\n",
       "      <th></th>\n",
       "      <th></th>\n",
       "      <th></th>\n",
       "      <th></th>\n",
       "      <th></th>\n",
       "      <th></th>\n",
       "      <th></th>\n",
       "      <th></th>\n",
       "      <th></th>\n",
       "      <th></th>\n",
       "      <th></th>\n",
       "      <th></th>\n",
       "      <th></th>\n",
       "      <th></th>\n",
       "      <th></th>\n",
       "      <th></th>\n",
       "      <th></th>\n",
       "      <th></th>\n",
       "    </tr>\n",
       "  </thead>\n",
       "  <tbody>\n",
       "    <tr>\n",
       "      <th>2018-03-01 13:00:00</th>\n",
       "      <td>32</td>\n",
       "      <td>3</td>\n",
       "      <td>1</td>\n",
       "      <td>3</td>\n",
       "      <td>13</td>\n",
       "      <td>63.333333</td>\n",
       "      <td>30.0</td>\n",
       "      <td>96.0</td>\n",
       "      <td>64.0</td>\n",
       "      <td>69.0</td>\n",
       "      <td>34.0</td>\n",
       "      <td>15.0</td>\n",
       "      <td>12.0</td>\n",
       "      <td>6.0</td>\n",
       "      <td>43.0</td>\n",
       "      <td>66.0</td>\n",
       "      <td>71.0</td>\n",
       "      <td>85.0</td>\n",
       "      <td>124.0</td>\n",
       "      <td>0</td>\n",
       "    </tr>\n",
       "    <tr>\n",
       "      <th>2018-03-01 14:00:00</th>\n",
       "      <td>48</td>\n",
       "      <td>3</td>\n",
       "      <td>1</td>\n",
       "      <td>3</td>\n",
       "      <td>14</td>\n",
       "      <td>52.666667</td>\n",
       "      <td>32.0</td>\n",
       "      <td>30.0</td>\n",
       "      <td>96.0</td>\n",
       "      <td>64.0</td>\n",
       "      <td>69.0</td>\n",
       "      <td>34.0</td>\n",
       "      <td>15.0</td>\n",
       "      <td>12.0</td>\n",
       "      <td>6.0</td>\n",
       "      <td>43.0</td>\n",
       "      <td>66.0</td>\n",
       "      <td>71.0</td>\n",
       "      <td>85.0</td>\n",
       "      <td>0</td>\n",
       "    </tr>\n",
       "    <tr>\n",
       "      <th>2018-03-01 15:00:00</th>\n",
       "      <td>66</td>\n",
       "      <td>3</td>\n",
       "      <td>1</td>\n",
       "      <td>3</td>\n",
       "      <td>15</td>\n",
       "      <td>36.666667</td>\n",
       "      <td>48.0</td>\n",
       "      <td>32.0</td>\n",
       "      <td>30.0</td>\n",
       "      <td>96.0</td>\n",
       "      <td>64.0</td>\n",
       "      <td>69.0</td>\n",
       "      <td>34.0</td>\n",
       "      <td>15.0</td>\n",
       "      <td>12.0</td>\n",
       "      <td>6.0</td>\n",
       "      <td>43.0</td>\n",
       "      <td>66.0</td>\n",
       "      <td>71.0</td>\n",
       "      <td>0</td>\n",
       "    </tr>\n",
       "    <tr>\n",
       "      <th>2018-03-01 16:00:00</th>\n",
       "      <td>43</td>\n",
       "      <td>3</td>\n",
       "      <td>1</td>\n",
       "      <td>3</td>\n",
       "      <td>16</td>\n",
       "      <td>48.666667</td>\n",
       "      <td>66.0</td>\n",
       "      <td>48.0</td>\n",
       "      <td>32.0</td>\n",
       "      <td>30.0</td>\n",
       "      <td>96.0</td>\n",
       "      <td>64.0</td>\n",
       "      <td>69.0</td>\n",
       "      <td>34.0</td>\n",
       "      <td>15.0</td>\n",
       "      <td>12.0</td>\n",
       "      <td>6.0</td>\n",
       "      <td>43.0</td>\n",
       "      <td>66.0</td>\n",
       "      <td>0</td>\n",
       "    </tr>\n",
       "    <tr>\n",
       "      <th>2018-03-01 17:00:00</th>\n",
       "      <td>44</td>\n",
       "      <td>3</td>\n",
       "      <td>1</td>\n",
       "      <td>3</td>\n",
       "      <td>17</td>\n",
       "      <td>52.333333</td>\n",
       "      <td>43.0</td>\n",
       "      <td>66.0</td>\n",
       "      <td>48.0</td>\n",
       "      <td>32.0</td>\n",
       "      <td>30.0</td>\n",
       "      <td>96.0</td>\n",
       "      <td>64.0</td>\n",
       "      <td>69.0</td>\n",
       "      <td>34.0</td>\n",
       "      <td>15.0</td>\n",
       "      <td>12.0</td>\n",
       "      <td>6.0</td>\n",
       "      <td>43.0</td>\n",
       "      <td>0</td>\n",
       "    </tr>\n",
       "    <tr>\n",
       "      <th>...</th>\n",
       "      <td>...</td>\n",
       "      <td>...</td>\n",
       "      <td>...</td>\n",
       "      <td>...</td>\n",
       "      <td>...</td>\n",
       "      <td>...</td>\n",
       "      <td>...</td>\n",
       "      <td>...</td>\n",
       "      <td>...</td>\n",
       "      <td>...</td>\n",
       "      <td>...</td>\n",
       "      <td>...</td>\n",
       "      <td>...</td>\n",
       "      <td>...</td>\n",
       "      <td>...</td>\n",
       "      <td>...</td>\n",
       "      <td>...</td>\n",
       "      <td>...</td>\n",
       "      <td>...</td>\n",
       "      <td>...</td>\n",
       "    </tr>\n",
       "    <tr>\n",
       "      <th>2018-08-31 19:00:00</th>\n",
       "      <td>136</td>\n",
       "      <td>8</td>\n",
       "      <td>31</td>\n",
       "      <td>4</td>\n",
       "      <td>19</td>\n",
       "      <td>207.000000</td>\n",
       "      <td>207.0</td>\n",
       "      <td>217.0</td>\n",
       "      <td>197.0</td>\n",
       "      <td>116.0</td>\n",
       "      <td>133.0</td>\n",
       "      <td>166.0</td>\n",
       "      <td>136.0</td>\n",
       "      <td>167.0</td>\n",
       "      <td>191.0</td>\n",
       "      <td>203.0</td>\n",
       "      <td>182.0</td>\n",
       "      <td>46.0</td>\n",
       "      <td>35.0</td>\n",
       "      <td>0</td>\n",
       "    </tr>\n",
       "    <tr>\n",
       "      <th>2018-08-31 20:00:00</th>\n",
       "      <td>154</td>\n",
       "      <td>8</td>\n",
       "      <td>31</td>\n",
       "      <td>4</td>\n",
       "      <td>20</td>\n",
       "      <td>186.666667</td>\n",
       "      <td>136.0</td>\n",
       "      <td>207.0</td>\n",
       "      <td>217.0</td>\n",
       "      <td>197.0</td>\n",
       "      <td>116.0</td>\n",
       "      <td>133.0</td>\n",
       "      <td>166.0</td>\n",
       "      <td>136.0</td>\n",
       "      <td>167.0</td>\n",
       "      <td>191.0</td>\n",
       "      <td>203.0</td>\n",
       "      <td>182.0</td>\n",
       "      <td>46.0</td>\n",
       "      <td>0</td>\n",
       "    </tr>\n",
       "    <tr>\n",
       "      <th>2018-08-31 21:00:00</th>\n",
       "      <td>159</td>\n",
       "      <td>8</td>\n",
       "      <td>31</td>\n",
       "      <td>4</td>\n",
       "      <td>21</td>\n",
       "      <td>165.666667</td>\n",
       "      <td>154.0</td>\n",
       "      <td>136.0</td>\n",
       "      <td>207.0</td>\n",
       "      <td>217.0</td>\n",
       "      <td>197.0</td>\n",
       "      <td>116.0</td>\n",
       "      <td>133.0</td>\n",
       "      <td>166.0</td>\n",
       "      <td>136.0</td>\n",
       "      <td>167.0</td>\n",
       "      <td>191.0</td>\n",
       "      <td>203.0</td>\n",
       "      <td>182.0</td>\n",
       "      <td>0</td>\n",
       "    </tr>\n",
       "    <tr>\n",
       "      <th>2018-08-31 22:00:00</th>\n",
       "      <td>223</td>\n",
       "      <td>8</td>\n",
       "      <td>31</td>\n",
       "      <td>4</td>\n",
       "      <td>22</td>\n",
       "      <td>149.666667</td>\n",
       "      <td>159.0</td>\n",
       "      <td>154.0</td>\n",
       "      <td>136.0</td>\n",
       "      <td>207.0</td>\n",
       "      <td>217.0</td>\n",
       "      <td>197.0</td>\n",
       "      <td>116.0</td>\n",
       "      <td>133.0</td>\n",
       "      <td>166.0</td>\n",
       "      <td>136.0</td>\n",
       "      <td>167.0</td>\n",
       "      <td>191.0</td>\n",
       "      <td>203.0</td>\n",
       "      <td>0</td>\n",
       "    </tr>\n",
       "    <tr>\n",
       "      <th>2018-08-31 23:00:00</th>\n",
       "      <td>205</td>\n",
       "      <td>8</td>\n",
       "      <td>31</td>\n",
       "      <td>4</td>\n",
       "      <td>23</td>\n",
       "      <td>178.666667</td>\n",
       "      <td>223.0</td>\n",
       "      <td>159.0</td>\n",
       "      <td>154.0</td>\n",
       "      <td>136.0</td>\n",
       "      <td>207.0</td>\n",
       "      <td>217.0</td>\n",
       "      <td>197.0</td>\n",
       "      <td>116.0</td>\n",
       "      <td>133.0</td>\n",
       "      <td>166.0</td>\n",
       "      <td>136.0</td>\n",
       "      <td>167.0</td>\n",
       "      <td>191.0</td>\n",
       "      <td>0</td>\n",
       "    </tr>\n",
       "  </tbody>\n",
       "</table>\n",
       "<p>4403 rows × 20 columns</p>\n",
       "</div>"
      ],
      "text/plain": [
       "                     num_orders month day dayofweek hour  rolling_mean  lag_1  \\\n",
       "datetime                                                                        \n",
       "2018-03-01 13:00:00          32     3   1         3   13     63.333333   30.0   \n",
       "2018-03-01 14:00:00          48     3   1         3   14     52.666667   32.0   \n",
       "2018-03-01 15:00:00          66     3   1         3   15     36.666667   48.0   \n",
       "2018-03-01 16:00:00          43     3   1         3   16     48.666667   66.0   \n",
       "2018-03-01 17:00:00          44     3   1         3   17     52.333333   43.0   \n",
       "...                         ...   ...  ..       ...  ...           ...    ...   \n",
       "2018-08-31 19:00:00         136     8  31         4   19    207.000000  207.0   \n",
       "2018-08-31 20:00:00         154     8  31         4   20    186.666667  136.0   \n",
       "2018-08-31 21:00:00         159     8  31         4   21    165.666667  154.0   \n",
       "2018-08-31 22:00:00         223     8  31         4   22    149.666667  159.0   \n",
       "2018-08-31 23:00:00         205     8  31         4   23    178.666667  223.0   \n",
       "\n",
       "                     lag_2  lag_3  lag_4  lag_5  lag_6  lag_7  lag_8  lag_9  \\\n",
       "datetime                                                                      \n",
       "2018-03-01 13:00:00   96.0   64.0   69.0   34.0   15.0   12.0    6.0   43.0   \n",
       "2018-03-01 14:00:00   30.0   96.0   64.0   69.0   34.0   15.0   12.0    6.0   \n",
       "2018-03-01 15:00:00   32.0   30.0   96.0   64.0   69.0   34.0   15.0   12.0   \n",
       "2018-03-01 16:00:00   48.0   32.0   30.0   96.0   64.0   69.0   34.0   15.0   \n",
       "2018-03-01 17:00:00   66.0   48.0   32.0   30.0   96.0   64.0   69.0   34.0   \n",
       "...                    ...    ...    ...    ...    ...    ...    ...    ...   \n",
       "2018-08-31 19:00:00  217.0  197.0  116.0  133.0  166.0  136.0  167.0  191.0   \n",
       "2018-08-31 20:00:00  207.0  217.0  197.0  116.0  133.0  166.0  136.0  167.0   \n",
       "2018-08-31 21:00:00  136.0  207.0  217.0  197.0  116.0  133.0  166.0  136.0   \n",
       "2018-08-31 22:00:00  154.0  136.0  207.0  217.0  197.0  116.0  133.0  166.0   \n",
       "2018-08-31 23:00:00  159.0  154.0  136.0  207.0  217.0  197.0  116.0  133.0   \n",
       "\n",
       "                     lag_10  lag_11  lag_12  lag_13 holiday  \n",
       "datetime                                                     \n",
       "2018-03-01 13:00:00    66.0    71.0    85.0   124.0       0  \n",
       "2018-03-01 14:00:00    43.0    66.0    71.0    85.0       0  \n",
       "2018-03-01 15:00:00     6.0    43.0    66.0    71.0       0  \n",
       "2018-03-01 16:00:00    12.0     6.0    43.0    66.0       0  \n",
       "2018-03-01 17:00:00    15.0    12.0     6.0    43.0       0  \n",
       "...                     ...     ...     ...     ...     ...  \n",
       "2018-08-31 19:00:00   203.0   182.0    46.0    35.0       0  \n",
       "2018-08-31 20:00:00   191.0   203.0   182.0    46.0       0  \n",
       "2018-08-31 21:00:00   167.0   191.0   203.0   182.0       0  \n",
       "2018-08-31 22:00:00   136.0   167.0   191.0   203.0       0  \n",
       "2018-08-31 23:00:00   166.0   136.0   167.0   191.0       0  \n",
       "\n",
       "[4403 rows x 20 columns]"
      ]
     },
     "execution_count": 8,
     "metadata": {},
     "output_type": "execute_result"
    }
   ],
   "source": [
    "df"
   ]
  },
  {
   "cell_type": "markdown",
   "metadata": {},
   "source": [
    "### Вывод:\n",
    "Признаки подготовлены к обучению "
   ]
  },
  {
   "cell_type": "markdown",
   "metadata": {},
   "source": [
    "# 3. Обучение <a id='section3'></a>"
   ]
  },
  {
   "cell_type": "markdown",
   "metadata": {},
   "source": [
    "Разделим данные на обучающие, валидационные и тестовые "
   ]
  },
  {
   "cell_type": "code",
   "execution_count": 9,
   "metadata": {},
   "outputs": [],
   "source": [
    "features_train, features_test, target_train, target_test = train_test_split(\n",
    "    features, target, shuffle=False, test_size=0.1)\n",
    "\n",
    "features_train, features_valid, target_train, target_valid = train_test_split(\n",
    "    features_train, target_train, shuffle=False, test_size=0.2)"
   ]
  },
  {
   "cell_type": "markdown",
   "metadata": {},
   "source": [
    "### Линейная регрессия "
   ]
  },
  {
   "cell_type": "code",
   "execution_count": 10,
   "metadata": {},
   "outputs": [
    {
     "name": "stdout",
     "output_type": "stream",
     "text": [
      "RMSE валидационной выборки:  38.56117368758236\n"
     ]
    }
   ],
   "source": [
    "model_Linear = LinearRegression()\n",
    " \n",
    "model_Linear.fit(features_train, target_train)\n",
    "\n",
    "valid_pred = model_Linear.predict(features_valid)\n",
    "RMSE_Linear = mean_squared_error(valid_pred, target_valid) ** 0.5\n",
    "\n",
    "print(\"RMSE валидационной выборки: \", RMSE_Linear)"
   ]
  },
  {
   "cell_type": "markdown",
   "metadata": {},
   "source": [
    "### Случайный лес"
   ]
  },
  {
   "cell_type": "markdown",
   "metadata": {},
   "source": [
    "Напишем цикл, перебирающий параметры и записывающий их вместе с результатом в таблицу. Цикл закомментирован для экономии времени.\n",
    "\n",
    "*Сейчас для таких задач использую GridSearchCV и RandomizedSearchCV"
   ]
  },
  {
   "cell_type": "code",
   "execution_count": 11,
   "metadata": {},
   "outputs": [],
   "source": [
    "# %%time\n",
    "\n",
    "# tree_parameters = pd.DataFrame(columns=['max_depth', 'min_samples_split', 'min_samples_leaf', 'n_estimators', 'RMSE'])\n",
    "\n",
    "# for depth in range(2, 21, 2):\n",
    "#     for split in range(2, 5):\n",
    "#         for leaf in range(1, 5):\n",
    "#             for estimators in range(90,110,10):\n",
    "#                 model = RandomForestRegressor(min_samples_split=split, min_samples_leaf=leaf, \n",
    "#                                               max_depth=depth, n_estimators=estimators, random_state=12345)\n",
    "#                 model.fit(features_train, target_train)\n",
    "#                 predictions_valid = model.predict(features_valid)\n",
    "\n",
    "#                 RMSE = mean_squared_error(predictions_valid, target_valid) ** 0.5\n",
    "#                 result = pd.DataFrame([[depth, split, leaf, estimators, RMSE]])\n",
    "#                 result.columns = ['max_depth', 'min_samples_split', 'min_samples_leaf', 'n_estimators', 'RMSE']\n",
    "#                 tree_parameters = tree_parameters.append(result)\n",
    "\n",
    "# tree_parameters.sort_values(by=['RMSE']).head(10)"
   ]
  },
  {
   "cell_type": "markdown",
   "metadata": {},
   "source": [
    "Лучшие параметры: max_depth=18, min_samples_leaf=2, min_samples_split=3, n_estimators=90"
   ]
  },
  {
   "cell_type": "code",
   "execution_count": 12,
   "metadata": {},
   "outputs": [
    {
     "name": "stdout",
     "output_type": "stream",
     "text": [
      "RMSE валидационной выборки:  32.23069144515289\n"
     ]
    }
   ],
   "source": [
    "model_RFR = RandomForestRegressor(min_samples_split=3, min_samples_leaf=2, \n",
    "                                              max_depth=18, n_estimators=90, random_state=12345)\n",
    " \n",
    "model_RFR.fit(features_train, target_train)\n",
    "\n",
    "valid_pred = model_RFR.predict(features_valid)\n",
    "RMSE_RFR = mean_squared_error(valid_pred, target_valid) ** 0.5\n",
    "\n",
    "print(\"RMSE валидационной выборки: \", RMSE_RFR)"
   ]
  },
  {
   "cell_type": "markdown",
   "metadata": {},
   "source": [
    "### LGBM"
   ]
  },
  {
   "cell_type": "markdown",
   "metadata": {},
   "source": [
    "Подберем оптимальные параметры через цикл "
   ]
  },
  {
   "cell_type": "code",
   "execution_count": 13,
   "metadata": {},
   "outputs": [],
   "source": [
    "# %%time\n",
    "\n",
    "# LGBM_parameters = pd.DataFrame(columns=['max_depth', 'num_leaves', 'learning_rate', 'n_estimators', 'RMSE'])\n",
    "\n",
    "# for max_depth in range(2, 21, 2):\n",
    "#     for num_leaves in range(70, 130, 10):\n",
    "#         for learning_rate in np.arange(0.3, 0.9, 0.1):\n",
    "#             for n_estimators in range(80, 120, 10):\n",
    "#                 model = lgb.LGBMRegressor(max_depth=max_depth, num_leaves=num_leaves, \n",
    "#                                               learning_rate=learning_rate, n_estimators=n_estimators, random_state=12345)\n",
    "#                 model.fit(features_train, target_train)\n",
    "#                 predictions_valid = model.predict(features_valid)\n",
    "\n",
    "#                 RMSE = mean_squared_error(predictions_valid, target_valid) ** 0.5\n",
    "            \n",
    "#                 result = pd.DataFrame([[max_depth, num_leaves, learning_rate, n_estimators, RMSE]])\n",
    "#                 result.columns = ['max_depth', 'num_leaves', 'learning_rate', 'n_estimators', 'RMSE']\n",
    "#                 LGBM_parameters = LGBM_parameters.append(result)\n",
    "\n",
    "# LGBM_parameters.sort_values(by=['RMSE']).head(10)"
   ]
  },
  {
   "cell_type": "markdown",
   "metadata": {},
   "source": [
    "Лучшие параметры: max_depth=2, num_leaves=70, learning_rate=0.3, n_estimators=80\t"
   ]
  },
  {
   "cell_type": "code",
   "execution_count": 14,
   "metadata": {},
   "outputs": [
    {
     "name": "stdout",
     "output_type": "stream",
     "text": [
      "RMSE валидационной выборки:  33.30323125530132\n"
     ]
    }
   ],
   "source": [
    "model_LGBM = lgb.LGBMRegressor(max_depth=2, num_leaves=70, learning_rate=0.3, n_estimators=80)\n",
    "\n",
    "model_LGBM.fit(features_train, target_train)\n",
    "\n",
    "valid_pred = model_LGBM.predict(features_valid)\n",
    "RMSE_LGBM = mean_squared_error(valid_pred, target_valid) ** 0.5\n",
    "\n",
    "print(\"RMSE валидационной выборки: \", RMSE_LGBM)"
   ]
  },
  {
   "cell_type": "code",
   "execution_count": 15,
   "metadata": {},
   "outputs": [
    {
     "name": "stdout",
     "output_type": "stream",
     "text": [
      "Linear 38.56\n",
      "RFR 32.23\n",
      "LGBM 33.3\n"
     ]
    }
   ],
   "source": [
    "print('Linear', RMSE_Linear.round(2))\n",
    "print('RFR', RMSE_RFR.round(2))\n",
    "print('LGBM', RMSE_LGBM.round(2))"
   ]
  },
  {
   "cell_type": "markdown",
   "metadata": {},
   "source": [
    "### Вывод:\n",
    "Лучший результат на валидационных данных показала модель случайного леса. LGBM не сильно уступает в качестве прогнозов. Хуже всех качество прогнозов у модели линейной регрессии. \n",
    "\n",
    "Тем не менее стоит проверить все модели на тестовых данных. "
   ]
  },
  {
   "cell_type": "markdown",
   "metadata": {},
   "source": [
    "# 4. Тестирование <a id='section4'></a>"
   ]
  },
  {
   "cell_type": "markdown",
   "metadata": {},
   "source": [
    "Необходимо переобучить все модели на обучающих и валидационных данных. Для этого объеденим все данные кроме тестовых. "
   ]
  },
  {
   "cell_type": "code",
   "execution_count": 16,
   "metadata": {},
   "outputs": [],
   "source": [
    "features_full = features_train.append(features_valid)\n",
    "target_full = target_train.append(target_valid)"
   ]
  },
  {
   "cell_type": "markdown",
   "metadata": {},
   "source": [
    "#### Модель линейной регрессии"
   ]
  },
  {
   "cell_type": "code",
   "execution_count": 17,
   "metadata": {},
   "outputs": [
    {
     "data": {
      "text/plain": [
       "52.747947143194715"
      ]
     },
     "execution_count": 17,
     "metadata": {},
     "output_type": "execute_result"
    }
   ],
   "source": [
    "model_Linear = LinearRegression()\n",
    "\n",
    "model_Linear.fit(features_full, target_full)\n",
    "predictions_valid = model_Linear.predict(features_test)\n",
    "\n",
    "mean_squared_error(predictions_valid, target_test) ** 0.5"
   ]
  },
  {
   "cell_type": "markdown",
   "metadata": {},
   "source": [
    "#### Модель случайного леса"
   ]
  },
  {
   "cell_type": "code",
   "execution_count": 18,
   "metadata": {},
   "outputs": [
    {
     "data": {
      "text/plain": [
       "42.323928764731356"
      ]
     },
     "execution_count": 18,
     "metadata": {},
     "output_type": "execute_result"
    }
   ],
   "source": [
    "model_RFR = RandomForestRegressor(min_samples_split=3, min_samples_leaf=2, \n",
    "                                              max_depth=18, n_estimators=90, random_state=12345)\n",
    "model_RFR.fit(features_full, target_full)\n",
    "predictions_valid = model_RFR.predict(features_test)\n",
    "\n",
    "mean_squared_error(predictions_valid, target_test) ** 0.5"
   ]
  },
  {
   "cell_type": "markdown",
   "metadata": {},
   "source": [
    "Проверим важность признаков "
   ]
  },
  {
   "cell_type": "code",
   "execution_count": 19,
   "metadata": {},
   "outputs": [
    {
     "data": {
      "text/html": [
       "<div>\n",
       "<style scoped>\n",
       "    .dataframe tbody tr th:only-of-type {\n",
       "        vertical-align: middle;\n",
       "    }\n",
       "\n",
       "    .dataframe tbody tr th {\n",
       "        vertical-align: top;\n",
       "    }\n",
       "\n",
       "    .dataframe thead th {\n",
       "        text-align: right;\n",
       "    }\n",
       "</style>\n",
       "<table border=\"1\" class=\"dataframe\">\n",
       "  <thead>\n",
       "    <tr style=\"text-align: right;\">\n",
       "      <th></th>\n",
       "      <th>Feature</th>\n",
       "      <th>Importance</th>\n",
       "    </tr>\n",
       "  </thead>\n",
       "  <tbody>\n",
       "    <tr>\n",
       "      <th>0</th>\n",
       "      <td>lag</td>\n",
       "      <td>0.613178</td>\n",
       "    </tr>\n",
       "    <tr>\n",
       "      <th>1</th>\n",
       "      <td>hour</td>\n",
       "      <td>0.239921</td>\n",
       "    </tr>\n",
       "    <tr>\n",
       "      <th>2</th>\n",
       "      <td>month</td>\n",
       "      <td>0.079137</td>\n",
       "    </tr>\n",
       "    <tr>\n",
       "      <th>3</th>\n",
       "      <td>rolling</td>\n",
       "      <td>0.038998</td>\n",
       "    </tr>\n",
       "    <tr>\n",
       "      <th>4</th>\n",
       "      <td>day</td>\n",
       "      <td>0.016597</td>\n",
       "    </tr>\n",
       "    <tr>\n",
       "      <th>5</th>\n",
       "      <td>dayofweek</td>\n",
       "      <td>0.011622</td>\n",
       "    </tr>\n",
       "    <tr>\n",
       "      <th>6</th>\n",
       "      <td>holiday</td>\n",
       "      <td>0.000546</td>\n",
       "    </tr>\n",
       "  </tbody>\n",
       "</table>\n",
       "</div>"
      ],
      "text/plain": [
       "     Feature  Importance\n",
       "0        lag    0.613178\n",
       "1       hour    0.239921\n",
       "2      month    0.079137\n",
       "3    rolling    0.038998\n",
       "4        day    0.016597\n",
       "5  dayofweek    0.011622\n",
       "6    holiday    0.000546"
      ]
     },
     "execution_count": 19,
     "metadata": {},
     "output_type": "execute_result"
    }
   ],
   "source": [
    "importances = pd.DataFrame(index = features.columns,   # Создадим таблицу с важностью признаков\n",
    "                     columns=['Feature', 'Importance'])\n",
    "importances.Importance = model_RFR.feature_importances_\n",
    "\n",
    "importances.Feature = importances.index\n",
    "\n",
    "def feature_group(feature): # Функция будет оставлять только наименование признака, без его значения \n",
    "    if '_' in feature:      # Например lag_8 превратит просто в lag\n",
    "        group = feature[ : feature.find(\"_\")]\n",
    "        return group\n",
    "    else:\n",
    "        return feature\n",
    "\n",
    "importances.Feature = importances.Feature.apply(feature_group) # применим функцию к столбцу Feature\n",
    "\n",
    "importances = importances.groupby(by=['Feature']).sum().sort_values(by='Importance', ascending=False)\n",
    "importances = importances.reset_index()\n",
    "importances"
   ]
  },
  {
   "cell_type": "code",
   "execution_count": 20,
   "metadata": {},
   "outputs": [
    {
     "data": {
      "text/plain": [
       "(-1.1109963799484655,\n",
       " 1.100523637140403,\n",
       " -1.122952275149887,\n",
       " 1.1140245038578098)"
      ]
     },
     "execution_count": 20,
     "metadata": {},
     "output_type": "execute_result"
    },
    {
     "data": {
      "image/png": "[encoded data removed]",
      "text/plain": [
       "<Figure size 576x576 with 1 Axes>"
      ]
     },
     "metadata": {},
     "output_type": "display_data"
    }
   ],
   "source": [
    "vals = importances['Importance']\n",
    "labels = importances['Feature']\n",
    "fig, ax = plt.subplots(figsize=(8, 8))\n",
    "ax.pie(vals, labels=labels, pctdistance=1)\n",
    "ax.axis(\"equal\")"
   ]
  },
  {
   "cell_type": "markdown",
   "metadata": {},
   "source": [
    "#### LGBM"
   ]
  },
  {
   "cell_type": "code",
   "execution_count": 21,
   "metadata": {},
   "outputs": [
    {
     "data": {
      "text/plain": [
       "39.9650729319417"
      ]
     },
     "execution_count": 21,
     "metadata": {},
     "output_type": "execute_result"
    }
   ],
   "source": [
    "model_LGBM = lgb.LGBMRegressor(max_depth=2, num_leaves=70, learning_rate=0.3, n_estimators=80)\n",
    "\n",
    "model_LGBM.fit(features_full, target_full)\n",
    "predictions_valid = model_LGBM.predict(features_test)\n",
    "\n",
    "mean_squared_error(predictions_valid, target_test) ** 0.5"
   ]
  },
  {
   "cell_type": "markdown",
   "metadata": {},
   "source": [
    "Также оценим важность признаков"
   ]
  },
  {
   "cell_type": "code",
   "execution_count": 22,
   "metadata": {},
   "outputs": [
    {
     "data": {
      "text/html": [
       "<div>\n",
       "<style scoped>\n",
       "    .dataframe tbody tr th:only-of-type {\n",
       "        vertical-align: middle;\n",
       "    }\n",
       "\n",
       "    .dataframe tbody tr th {\n",
       "        vertical-align: top;\n",
       "    }\n",
       "\n",
       "    .dataframe thead th {\n",
       "        text-align: right;\n",
       "    }\n",
       "</style>\n",
       "<table border=\"1\" class=\"dataframe\">\n",
       "  <thead>\n",
       "    <tr style=\"text-align: right;\">\n",
       "      <th></th>\n",
       "      <th>Feature</th>\n",
       "      <th>Importance</th>\n",
       "    </tr>\n",
       "  </thead>\n",
       "  <tbody>\n",
       "    <tr>\n",
       "      <th>0</th>\n",
       "      <td>lag</td>\n",
       "      <td>120</td>\n",
       "    </tr>\n",
       "    <tr>\n",
       "      <th>1</th>\n",
       "      <td>hour</td>\n",
       "      <td>59</td>\n",
       "    </tr>\n",
       "    <tr>\n",
       "      <th>2</th>\n",
       "      <td>day</td>\n",
       "      <td>18</td>\n",
       "    </tr>\n",
       "    <tr>\n",
       "      <th>3</th>\n",
       "      <td>rolling</td>\n",
       "      <td>15</td>\n",
       "    </tr>\n",
       "    <tr>\n",
       "      <th>4</th>\n",
       "      <td>month</td>\n",
       "      <td>14</td>\n",
       "    </tr>\n",
       "    <tr>\n",
       "      <th>5</th>\n",
       "      <td>dayofweek</td>\n",
       "      <td>10</td>\n",
       "    </tr>\n",
       "    <tr>\n",
       "      <th>6</th>\n",
       "      <td>holiday</td>\n",
       "      <td>0</td>\n",
       "    </tr>\n",
       "  </tbody>\n",
       "</table>\n",
       "</div>"
      ],
      "text/plain": [
       "     Feature  Importance\n",
       "0        lag         120\n",
       "1       hour          59\n",
       "2        day          18\n",
       "3    rolling          15\n",
       "4      month          14\n",
       "5  dayofweek          10\n",
       "6    holiday           0"
      ]
     },
     "execution_count": 22,
     "metadata": {},
     "output_type": "execute_result"
    }
   ],
   "source": [
    "importances = pd.DataFrame(index = features.columns,\n",
    "                     columns=['Feature', 'Importance'])\n",
    "importances.Importance = model_LGBM.feature_importances_\n",
    "\n",
    "importances.Feature = importances.index\n",
    "\n",
    "importances.Feature = importances.Feature.apply(feature_group) # применим функцию к столбцу Feature\n",
    "\n",
    "importances = importances.groupby(by=['Feature']).sum().sort_values(by='Importance', ascending=False)\n",
    "importances = importances.reset_index()\n",
    "importances"
   ]
  },
  {
   "cell_type": "code",
   "execution_count": 23,
   "metadata": {},
   "outputs": [
    {
     "data": {
      "text/plain": [
       "(-1.1059755558176168,\n",
       " 1.1002845535424652,\n",
       " -1.1060104136036764,\n",
       " 1.1036396670267448)"
      ]
     },
     "execution_count": 23,
     "metadata": {},
     "output_type": "execute_result"
    },
    {
     "data": {
      "image/png": "[encoded data removed]",
      "text/plain": [
       "<Figure size 576x576 with 1 Axes>"
      ]
     },
     "metadata": {},
     "output_type": "display_data"
    }
   ],
   "source": [
    "vals = importances['Importance']\n",
    "labels = importances['Feature']\n",
    "fig, ax = plt.subplots(figsize=(8, 8))\n",
    "ax.pie(vals, labels=labels, pctdistance=1)\n",
    "ax.axis(\"equal\")"
   ]
  },
  {
   "cell_type": "markdown",
   "metadata": {},
   "source": [
    "### Вывод:\n",
    "Все три модели были дообучены на валидационной выборке и проверены на тестовой. Лучшее качество прогнозов показала LGBM (RMSE=39.97). Неплохой результат также показала модель случайного леса (RMSE=42.32). Линейная регрессия не соответствует заданным в задаче критериям (RMSE=52.75 > 48)."
   ]
  },
  {
   "cell_type": "markdown",
   "metadata": {},
   "source": [
    "# Общий вывод <a id='section5'></a>"
   ]
  },
  {
   "cell_type": "markdown",
   "metadata": {},
   "source": [
    "Были подготовлены признаки для обучения. Также обучены три модели с оптимальными гиперпараметрами (линейная регрессия, случайный лес, LGBM).\n",
    "\n",
    "Качество предсказаний на валидационных данных у трех моделей различалось не очень сильно. Было принято решение дообучить модели на валидационных данных и проверить на тестовых. \n",
    "\n",
    "Лучший результат показала LGBM (RMSE=39.97), за ней идет случайный лес (RMSE=42.32). Линейная регрессия не уложилась в заданный критерий (RMSE=52.75 > 48).\n",
    "\n",
    "Анализ важности признаков показал, что случайный лес и LGBM в первую очередь опираются на значения за предыдущие часы (lag), далее на время суток. В обоих моделях праздничные дни почти не влияли на предсказания. "
   ]
  }
 ],
 "metadata": {
  "kernelspec": {
   "display_name": "Python 3",
   "language": "python",
   "name": "python3"
  },
  "language_info": {
   "codemirror_mode": {
    "name": "ipython",
    "version": 3
   },
   "file_extension": ".py",
   "mimetype": "text/x-python",
   "name": "python",
   "nbconvert_exporter": "python",
   "pygments_lexer": "ipython3",
   "version": "3.7.7"
  }
 },
 "nbformat": 4,
 "nbformat_minor": 2
}
