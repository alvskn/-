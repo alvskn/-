{
 "cells": [
  {
   "cell_type": "markdown",
   "metadata": {},
   "source": [
    "# Описание проекта\n",
    "\n",
    "Банку необходимо по данным клиентов предсказать, кто из них в ближайшее время захочет расторгнуть договор.\n",
    "\n",
    "Для этого нужно построить модель классификации со  значением *F1*-меры не менее 0.59.\n",
    "\n",
    "Источник данных: [https://www.kaggle.com/barelydedicated/bank-customer-churn-modeling](https://www.kaggle.com/barelydedicated/bank-customer-churn-modeling)\n",
    "\n",
    "\n",
    "# Используемые библиотеки\n",
    "\n",
    "Pandas, numpy, matplotlib, sklearn"
   ]
  },
  {
   "cell_type": "markdown",
   "metadata": {},
   "source": [
    "## План исследования"
   ]
  },
  {
   "cell_type": "markdown",
   "metadata": {},
   "source": [
    "1. Подготовка данных\n",
    "2. Исследование задачи\n",
    "3. Борьба с дисбалансом\n",
    "4. Тестирование моделей\n",
    "5. Проверка моделей на адекватность\n",
    "6. Общий вывод"
   ]
  },
  {
   "cell_type": "markdown",
   "metadata": {},
   "source": [
    "# 1. Подготовка данных <a id='section1'></a>"
   ]
  },
  {
   "cell_type": "markdown",
   "metadata": {},
   "source": [
    "Загрузим необходимые библиотеки"
   ]
  },
  {
   "cell_type": "code",
   "execution_count": 1,
   "metadata": {},
   "outputs": [],
   "source": [
    "import pandas as pd\n",
    "import numpy as np\n",
    "import matplotlib.pyplot as plt\n",
    "import warnings\n",
    "warnings.filterwarnings('ignore')\n",
    "\n",
    "from sklearn.ensemble import RandomForestClassifier\n",
    "from sklearn.linear_model import LogisticRegression\n",
    "import lightgbm as lgb\n",
    "\n",
    "from sklearn.model_selection import train_test_split\n",
    "from sklearn.metrics import f1_score\n",
    "\n",
    "from sklearn.utils import shuffle\n",
    "\n",
    "from sklearn.model_selection import RandomizedSearchCV\n",
    "\n",
    "from sklearn.metrics import roc_auc_score"
   ]
  },
  {
   "cell_type": "markdown",
   "metadata": {},
   "source": [
    "Загрузим и проверим данные"
   ]
  },
  {
   "cell_type": "code",
   "execution_count": 2,
   "metadata": {},
   "outputs": [
    {
     "name": "stdout",
     "output_type": "stream",
     "text": [
      "<class 'pandas.core.frame.DataFrame'>\n",
      "RangeIndex: 10000 entries, 0 to 9999\n",
      "Data columns (total 14 columns):\n",
      " #   Column           Non-Null Count  Dtype  \n",
      "---  ------           --------------  -----  \n",
      " 0   RowNumber        10000 non-null  int64  \n",
      " 1   CustomerId       10000 non-null  int64  \n",
      " 2   Surname          10000 non-null  object \n",
      " 3   CreditScore      10000 non-null  int64  \n",
      " 4   Geography        10000 non-null  object \n",
      " 5   Gender           10000 non-null  object \n",
      " 6   Age              10000 non-null  int64  \n",
      " 7   Tenure           9091 non-null   float64\n",
      " 8   Balance          10000 non-null  float64\n",
      " 9   NumOfProducts    10000 non-null  int64  \n",
      " 10  HasCrCard        10000 non-null  int64  \n",
      " 11  IsActiveMember   10000 non-null  int64  \n",
      " 12  EstimatedSalary  10000 non-null  float64\n",
      " 13  Exited           10000 non-null  int64  \n",
      "dtypes: float64(3), int64(8), object(3)\n",
      "memory usage: 1.1+ MB\n"
     ]
    },
    {
     "data": {
      "text/html": [
       "<div>\n",
       "<style scoped>\n",
       "    .dataframe tbody tr th:only-of-type {\n",
       "        vertical-align: middle;\n",
       "    }\n",
       "\n",
       "    .dataframe tbody tr th {\n",
       "        vertical-align: top;\n",
       "    }\n",
       "\n",
       "    .dataframe thead th {\n",
       "        text-align: right;\n",
       "    }\n",
       "</style>\n",
       "<table border=\"1\" class=\"dataframe\">\n",
       "  <thead>\n",
       "    <tr style=\"text-align: right;\">\n",
       "      <th></th>\n",
       "      <th>RowNumber</th>\n",
       "      <th>CustomerId</th>\n",
       "      <th>Surname</th>\n",
       "      <th>CreditScore</th>\n",
       "      <th>Geography</th>\n",
       "      <th>Gender</th>\n",
       "      <th>Age</th>\n",
       "      <th>Tenure</th>\n",
       "      <th>Balance</th>\n",
       "      <th>NumOfProducts</th>\n",
       "      <th>HasCrCard</th>\n",
       "      <th>IsActiveMember</th>\n",
       "      <th>EstimatedSalary</th>\n",
       "      <th>Exited</th>\n",
       "    </tr>\n",
       "  </thead>\n",
       "  <tbody>\n",
       "    <tr>\n",
       "      <th>0</th>\n",
       "      <td>1</td>\n",
       "      <td>15634602</td>\n",
       "      <td>Hargrave</td>\n",
       "      <td>619</td>\n",
       "      <td>France</td>\n",
       "      <td>Female</td>\n",
       "      <td>42</td>\n",
       "      <td>2.0</td>\n",
       "      <td>0.00</td>\n",
       "      <td>1</td>\n",
       "      <td>1</td>\n",
       "      <td>1</td>\n",
       "      <td>101348.88</td>\n",
       "      <td>1</td>\n",
       "    </tr>\n",
       "    <tr>\n",
       "      <th>1</th>\n",
       "      <td>2</td>\n",
       "      <td>15647311</td>\n",
       "      <td>Hill</td>\n",
       "      <td>608</td>\n",
       "      <td>Spain</td>\n",
       "      <td>Female</td>\n",
       "      <td>41</td>\n",
       "      <td>1.0</td>\n",
       "      <td>83807.86</td>\n",
       "      <td>1</td>\n",
       "      <td>0</td>\n",
       "      <td>1</td>\n",
       "      <td>112542.58</td>\n",
       "      <td>0</td>\n",
       "    </tr>\n",
       "    <tr>\n",
       "      <th>2</th>\n",
       "      <td>3</td>\n",
       "      <td>15619304</td>\n",
       "      <td>Onio</td>\n",
       "      <td>502</td>\n",
       "      <td>France</td>\n",
       "      <td>Female</td>\n",
       "      <td>42</td>\n",
       "      <td>8.0</td>\n",
       "      <td>159660.80</td>\n",
       "      <td>3</td>\n",
       "      <td>1</td>\n",
       "      <td>0</td>\n",
       "      <td>113931.57</td>\n",
       "      <td>1</td>\n",
       "    </tr>\n",
       "    <tr>\n",
       "      <th>3</th>\n",
       "      <td>4</td>\n",
       "      <td>15701354</td>\n",
       "      <td>Boni</td>\n",
       "      <td>699</td>\n",
       "      <td>France</td>\n",
       "      <td>Female</td>\n",
       "      <td>39</td>\n",
       "      <td>1.0</td>\n",
       "      <td>0.00</td>\n",
       "      <td>2</td>\n",
       "      <td>0</td>\n",
       "      <td>0</td>\n",
       "      <td>93826.63</td>\n",
       "      <td>0</td>\n",
       "    </tr>\n",
       "    <tr>\n",
       "      <th>4</th>\n",
       "      <td>5</td>\n",
       "      <td>15737888</td>\n",
       "      <td>Mitchell</td>\n",
       "      <td>850</td>\n",
       "      <td>Spain</td>\n",
       "      <td>Female</td>\n",
       "      <td>43</td>\n",
       "      <td>2.0</td>\n",
       "      <td>125510.82</td>\n",
       "      <td>1</td>\n",
       "      <td>1</td>\n",
       "      <td>1</td>\n",
       "      <td>79084.10</td>\n",
       "      <td>0</td>\n",
       "    </tr>\n",
       "  </tbody>\n",
       "</table>\n",
       "</div>"
      ],
      "text/plain": [
       "   RowNumber  CustomerId   Surname  CreditScore Geography  Gender  Age  \\\n",
       "0          1    15634602  Hargrave          619    France  Female   42   \n",
       "1          2    15647311      Hill          608     Spain  Female   41   \n",
       "2          3    15619304      Onio          502    France  Female   42   \n",
       "3          4    15701354      Boni          699    France  Female   39   \n",
       "4          5    15737888  Mitchell          850     Spain  Female   43   \n",
       "\n",
       "   Tenure    Balance  NumOfProducts  HasCrCard  IsActiveMember  \\\n",
       "0     2.0       0.00              1          1               1   \n",
       "1     1.0   83807.86              1          0               1   \n",
       "2     8.0  159660.80              3          1               0   \n",
       "3     1.0       0.00              2          0               0   \n",
       "4     2.0  125510.82              1          1               1   \n",
       "\n",
       "   EstimatedSalary  Exited  \n",
       "0        101348.88       1  \n",
       "1        112542.58       0  \n",
       "2        113931.57       1  \n",
       "3         93826.63       0  \n",
       "4         79084.10       0  "
      ]
     },
     "execution_count": 2,
     "metadata": {},
     "output_type": "execute_result"
    }
   ],
   "source": [
    "df = pd.read_csv('Churn.csv')\n",
    "\n",
    "df.info()\n",
    "df.head()"
   ]
  },
  {
   "cell_type": "markdown",
   "metadata": {},
   "source": [
    "Необходимо выполнить следующие действия:\n",
    "* Перевести все числовые значения в int32\n",
    "* Убрать столбец с фамилиями\n",
    "* Перевести категориальные признаки в численные\n",
    "* Заполнить пропуски в Tenure"
   ]
  },
  {
   "cell_type": "markdown",
   "metadata": {},
   "source": [
    "Изменим типы данных"
   ]
  },
  {
   "cell_type": "code",
   "execution_count": 3,
   "metadata": {},
   "outputs": [],
   "source": [
    "columns_to_int32 = ['RowNumber', 'CustomerId', 'CreditScore', 'Age', 'Tenure', 'Balance', \n",
    "                    'NumOfProducts', 'HasCrCard', 'IsActiveMember', 'EstimatedSalary', 'Exited']\n",
    "\n",
    "# Временно заполним пропуски в Tenure минус единицами\n",
    "df['Tenure'] = df['Tenure'].fillna(-1)\n",
    "\n",
    "for column in columns_to_int32:\n",
    "    df[column] =  df[column].astype('int32')"
   ]
  },
  {
   "cell_type": "markdown",
   "metadata": {},
   "source": [
    "Уберем столбец с фамилиями"
   ]
  },
  {
   "cell_type": "code",
   "execution_count": 4,
   "metadata": {},
   "outputs": [],
   "source": [
    "df = df.drop(['Surname'] , axis=1)"
   ]
  },
  {
   "cell_type": "markdown",
   "metadata": {},
   "source": [
    "Переведем категориальные признаки в численные"
   ]
  },
  {
   "cell_type": "code",
   "execution_count": 5,
   "metadata": {},
   "outputs": [
    {
     "data": {
      "text/html": [
       "<div>\n",
       "<style scoped>\n",
       "    .dataframe tbody tr th:only-of-type {\n",
       "        vertical-align: middle;\n",
       "    }\n",
       "\n",
       "    .dataframe tbody tr th {\n",
       "        vertical-align: top;\n",
       "    }\n",
       "\n",
       "    .dataframe thead th {\n",
       "        text-align: right;\n",
       "    }\n",
       "</style>\n",
       "<table border=\"1\" class=\"dataframe\">\n",
       "  <thead>\n",
       "    <tr style=\"text-align: right;\">\n",
       "      <th></th>\n",
       "      <th>RowNumber</th>\n",
       "      <th>CustomerId</th>\n",
       "      <th>CreditScore</th>\n",
       "      <th>Age</th>\n",
       "      <th>Tenure</th>\n",
       "      <th>Balance</th>\n",
       "      <th>NumOfProducts</th>\n",
       "      <th>HasCrCard</th>\n",
       "      <th>IsActiveMember</th>\n",
       "      <th>EstimatedSalary</th>\n",
       "      <th>Exited</th>\n",
       "      <th>Geography_Germany</th>\n",
       "      <th>Geography_Spain</th>\n",
       "      <th>Gender_Male</th>\n",
       "    </tr>\n",
       "  </thead>\n",
       "  <tbody>\n",
       "    <tr>\n",
       "      <th>0</th>\n",
       "      <td>1</td>\n",
       "      <td>15634602</td>\n",
       "      <td>619</td>\n",
       "      <td>42</td>\n",
       "      <td>2</td>\n",
       "      <td>0</td>\n",
       "      <td>1</td>\n",
       "      <td>1</td>\n",
       "      <td>1</td>\n",
       "      <td>101348</td>\n",
       "      <td>1</td>\n",
       "      <td>0</td>\n",
       "      <td>0</td>\n",
       "      <td>0</td>\n",
       "    </tr>\n",
       "    <tr>\n",
       "      <th>1</th>\n",
       "      <td>2</td>\n",
       "      <td>15647311</td>\n",
       "      <td>608</td>\n",
       "      <td>41</td>\n",
       "      <td>1</td>\n",
       "      <td>83807</td>\n",
       "      <td>1</td>\n",
       "      <td>0</td>\n",
       "      <td>1</td>\n",
       "      <td>112542</td>\n",
       "      <td>0</td>\n",
       "      <td>0</td>\n",
       "      <td>1</td>\n",
       "      <td>0</td>\n",
       "    </tr>\n",
       "    <tr>\n",
       "      <th>2</th>\n",
       "      <td>3</td>\n",
       "      <td>15619304</td>\n",
       "      <td>502</td>\n",
       "      <td>42</td>\n",
       "      <td>8</td>\n",
       "      <td>159660</td>\n",
       "      <td>3</td>\n",
       "      <td>1</td>\n",
       "      <td>0</td>\n",
       "      <td>113931</td>\n",
       "      <td>1</td>\n",
       "      <td>0</td>\n",
       "      <td>0</td>\n",
       "      <td>0</td>\n",
       "    </tr>\n",
       "    <tr>\n",
       "      <th>3</th>\n",
       "      <td>4</td>\n",
       "      <td>15701354</td>\n",
       "      <td>699</td>\n",
       "      <td>39</td>\n",
       "      <td>1</td>\n",
       "      <td>0</td>\n",
       "      <td>2</td>\n",
       "      <td>0</td>\n",
       "      <td>0</td>\n",
       "      <td>93826</td>\n",
       "      <td>0</td>\n",
       "      <td>0</td>\n",
       "      <td>0</td>\n",
       "      <td>0</td>\n",
       "    </tr>\n",
       "    <tr>\n",
       "      <th>4</th>\n",
       "      <td>5</td>\n",
       "      <td>15737888</td>\n",
       "      <td>850</td>\n",
       "      <td>43</td>\n",
       "      <td>2</td>\n",
       "      <td>125510</td>\n",
       "      <td>1</td>\n",
       "      <td>1</td>\n",
       "      <td>1</td>\n",
       "      <td>79084</td>\n",
       "      <td>0</td>\n",
       "      <td>0</td>\n",
       "      <td>1</td>\n",
       "      <td>0</td>\n",
       "    </tr>\n",
       "  </tbody>\n",
       "</table>\n",
       "</div>"
      ],
      "text/plain": [
       "   RowNumber  CustomerId  CreditScore  Age  Tenure  Balance  NumOfProducts  \\\n",
       "0          1    15634602          619   42       2        0              1   \n",
       "1          2    15647311          608   41       1    83807              1   \n",
       "2          3    15619304          502   42       8   159660              3   \n",
       "3          4    15701354          699   39       1        0              2   \n",
       "4          5    15737888          850   43       2   125510              1   \n",
       "\n",
       "   HasCrCard  IsActiveMember  EstimatedSalary  Exited  Geography_Germany  \\\n",
       "0          1               1           101348       1                  0   \n",
       "1          0               1           112542       0                  0   \n",
       "2          1               0           113931       1                  0   \n",
       "3          0               0            93826       0                  0   \n",
       "4          1               1            79084       0                  0   \n",
       "\n",
       "   Geography_Spain  Gender_Male  \n",
       "0                0            0  \n",
       "1                1            0  \n",
       "2                0            0  \n",
       "3                0            0  \n",
       "4                1            0  "
      ]
     },
     "execution_count": 5,
     "metadata": {},
     "output_type": "execute_result"
    }
   ],
   "source": [
    "df = pd.get_dummies(df, columns=['Geography', 'Gender'],drop_first=True)\n",
    "df.head()"
   ]
  },
  {
   "cell_type": "markdown",
   "metadata": {},
   "source": [
    "#### Заполним пропуски в Tenure"
   ]
  },
  {
   "cell_type": "code",
   "execution_count": 6,
   "metadata": {},
   "outputs": [],
   "source": [
    "# Отделим заполненные значения\n",
    "df_pos = df.query('Tenure >= 0')"
   ]
  },
  {
   "cell_type": "markdown",
   "metadata": {},
   "source": [
    "Для заполнения напишем функцию, которая для каждого пропуска будет искать людей с такими же полом, возрастом, страной. После этого функция будет находить медиану количества недвижимости в найденых строках и вставлять ее вместо пропуска."
   ]
  },
  {
   "cell_type": "code",
   "execution_count": 7,
   "metadata": {},
   "outputs": [
    {
     "name": "stdout",
     "output_type": "stream",
     "text": [
      "<class 'pandas.core.frame.DataFrame'>\n",
      "RangeIndex: 10000 entries, 0 to 9999\n",
      "Data columns (total 14 columns):\n",
      " #   Column             Non-Null Count  Dtype  \n",
      "---  ------             --------------  -----  \n",
      " 0   RowNumber          10000 non-null  int32  \n",
      " 1   CustomerId         10000 non-null  int32  \n",
      " 2   CreditScore        10000 non-null  int32  \n",
      " 3   Age                10000 non-null  int32  \n",
      " 4   Tenure             9997 non-null   float64\n",
      " 5   Balance            10000 non-null  int32  \n",
      " 6   NumOfProducts      10000 non-null  int32  \n",
      " 7   HasCrCard          10000 non-null  int32  \n",
      " 8   IsActiveMember     10000 non-null  int32  \n",
      " 9   EstimatedSalary    10000 non-null  int32  \n",
      " 10  Exited             10000 non-null  int32  \n",
      " 11  Geography_Germany  10000 non-null  uint8  \n",
      " 12  Geography_Spain    10000 non-null  uint8  \n",
      " 13  Gender_Male        10000 non-null  uint8  \n",
      "dtypes: float64(1), int32(10), uint8(3)\n",
      "memory usage: 498.2 KB\n",
      "Wall time: 1.53 s\n"
     ]
    }
   ],
   "source": [
    "%%time\n",
    "\n",
    "def fill_pass(pas):\n",
    "    for i in range(len(df)):\n",
    "        if df.loc[i, pas] < 0: # Выбирает пропущенные значения\n",
    "\n",
    "            df.loc[i, pas] = (           # Присваиваем пропуску значение\n",
    "                df_pos[\n",
    "                    (df_pos['Age'] == df.loc[i, 'Age']) & \n",
    "                    (df_pos['Geography_Germany'] == df.loc[i, 'Geography_Germany']) & \n",
    "                    (df_pos['Geography_Spain'] == df.loc[i, 'Geography_Spain']) & \n",
    "                    (df_pos['Gender_Male'] == df.loc[i, 'Gender_Male'])\n",
    "                ]\n",
    "                [pas].median()   # Берем медиану искмой характеристики из найденных строк\n",
    "            )\n",
    "\n",
    "# Запускаем функцию \n",
    "fill_pass('Tenure')\n",
    "\n",
    "df.info()"
   ]
  },
  {
   "cell_type": "markdown",
   "metadata": {},
   "source": [
    "Осталось всего 3 пропуска. Удалим строки с пропусками. "
   ]
  },
  {
   "cell_type": "code",
   "execution_count": 8,
   "metadata": {},
   "outputs": [
    {
     "name": "stdout",
     "output_type": "stream",
     "text": [
      "<class 'pandas.core.frame.DataFrame'>\n",
      "Int64Index: 9997 entries, 0 to 9999\n",
      "Data columns (total 14 columns):\n",
      " #   Column             Non-Null Count  Dtype\n",
      "---  ------             --------------  -----\n",
      " 0   RowNumber          9997 non-null   int32\n",
      " 1   CustomerId         9997 non-null   int32\n",
      " 2   CreditScore        9997 non-null   int32\n",
      " 3   Age                9997 non-null   int32\n",
      " 4   Tenure             9997 non-null   int32\n",
      " 5   Balance            9997 non-null   int32\n",
      " 6   NumOfProducts      9997 non-null   int32\n",
      " 7   HasCrCard          9997 non-null   int32\n",
      " 8   IsActiveMember     9997 non-null   int32\n",
      " 9   EstimatedSalary    9997 non-null   int32\n",
      " 10  Exited             9997 non-null   int32\n",
      " 11  Geography_Germany  9997 non-null   uint8\n",
      " 12  Geography_Spain    9997 non-null   uint8\n",
      " 13  Gender_Male        9997 non-null   uint8\n",
      "dtypes: int32(11), uint8(3)\n",
      "memory usage: 536.9 KB\n"
     ]
    }
   ],
   "source": [
    "df = df.dropna()\n",
    "\n",
    "# Округлим данные и поменяем тип\n",
    "df['Tenure'] = df['Tenure'].round().astype('int32')\n",
    "\n",
    "df.info()"
   ]
  },
  {
   "cell_type": "markdown",
   "metadata": {},
   "source": [
    "#### Вывод:\n",
    "Пропуски заполнены, данные приведены к нужным типам, категориальные признаки переведены в численные."
   ]
  },
  {
   "cell_type": "markdown",
   "metadata": {},
   "source": [
    "# 2. Борьба с дисбалансом"
   ]
  },
  {
   "cell_type": "markdown",
   "metadata": {},
   "source": [
    "Проверим баланс классов"
   ]
  },
  {
   "cell_type": "code",
   "execution_count": 9,
   "metadata": {
    "scrolled": true
   },
   "outputs": [
    {
     "data": {
      "text/plain": [
       "<matplotlib.axes._subplots.AxesSubplot at 0x8c24d08>"
      ]
     },
     "execution_count": 9,
     "metadata": {},
     "output_type": "execute_result"
    },
    {
     "data": {
      "image/png": "[encoded data removed]",
      "text/plain": [
       "<Figure size 432x288 with 1 Axes>"
      ]
     },
     "metadata": {
      "needs_background": "light"
     },
     "output_type": "display_data"
    }
   ],
   "source": [
    "df['Exited'].hist()"
   ]
  },
  {
   "cell_type": "markdown",
   "metadata": {},
   "source": [
    "Обнаружен явный дисбаланс. Значения отличаются примерно в 4 раза."
   ]
  },
  {
   "cell_type": "markdown",
   "metadata": {},
   "source": [
    "#### Разделим данные на тренировочные и тестовые в соотношении 7:3."
   ]
  },
  {
   "cell_type": "code",
   "execution_count": 10,
   "metadata": {},
   "outputs": [
    {
     "name": "stdout",
     "output_type": "stream",
     "text": [
      "(6997, 11)\n",
      "(3000, 11)\n"
     ]
    }
   ],
   "source": [
    "features = df.drop(['Exited', 'RowNumber', 'CustomerId'], axis=1)\n",
    "target = df['Exited']\n",
    "\n",
    "\n",
    "features_train, features_test, target_train, target_test = train_test_split(\n",
    "    features, target, test_size=0.3, random_state=12345)\n",
    "\n",
    "\n",
    "print(features_train.shape)\n",
    "print(features_test.shape)"
   ]
  },
  {
   "cell_type": "markdown",
   "metadata": {},
   "source": [
    "Проверим полученные колонки с признаками"
   ]
  },
  {
   "cell_type": "code",
   "execution_count": 11,
   "metadata": {},
   "outputs": [
    {
     "data": {
      "text/plain": [
       "Index(['CreditScore', 'Age', 'Tenure', 'Balance', 'NumOfProducts', 'HasCrCard',\n",
       "       'IsActiveMember', 'EstimatedSalary', 'Geography_Germany',\n",
       "       'Geography_Spain', 'Gender_Male'],\n",
       "      dtype='object')"
      ]
     },
     "execution_count": 11,
     "metadata": {},
     "output_type": "execute_result"
    }
   ],
   "source": [
    "features_train.columns"
   ]
  },
  {
   "cell_type": "markdown",
   "metadata": {},
   "source": [
    "#### Подготовим данные с применением техники downsample"
   ]
  },
  {
   "cell_type": "markdown",
   "metadata": {},
   "source": [
    "Напишем и применим функцию, которая уменьшит количество значений 0 целевого признака в 4 раза"
   ]
  },
  {
   "cell_type": "code",
   "execution_count": 12,
   "metadata": {},
   "outputs": [],
   "source": [
    "def downsample(features, target, fraction):\n",
    "    features_zeros = features[target == 0]\n",
    "    features_ones = features[target == 1]\n",
    "    target_zeros = target[target == 0]\n",
    "    target_ones = target[target == 1]\n",
    "\n",
    "    features_downsampled = pd.concat(\n",
    "        [features_zeros.sample(frac=fraction, random_state=12345)] + [features_ones])\n",
    "    target_downsampled = pd.concat(\n",
    "        [target_zeros.sample(frac=fraction, random_state=12345)] + [target_ones])\n",
    "    \n",
    "    features_downsampled, target_downsampled = shuffle(\n",
    "        features_downsampled, target_downsampled, random_state=12345)\n",
    "    \n",
    "    return features_downsampled, target_downsampled\n",
    "\n",
    "features_downsampled, target_downsampled = downsample(features_train, target_train, 0.25)"
   ]
  },
  {
   "cell_type": "markdown",
   "metadata": {},
   "source": [
    "#### Подготовим данные с применением техники upsample"
   ]
  },
  {
   "cell_type": "markdown",
   "metadata": {},
   "source": [
    "Напишем и применим функцию, которая увеличит количество значений 1 целевого признака в 4 раза"
   ]
  },
  {
   "cell_type": "code",
   "execution_count": 13,
   "metadata": {},
   "outputs": [],
   "source": [
    "def upsample(features, target, repeat):\n",
    "    features_zeros = features[target == 0]\n",
    "    features_ones = features[target == 1]\n",
    "    target_zeros = target[target == 0]\n",
    "    target_ones = target[target == 1]\n",
    "\n",
    "    features_upsampled = pd.concat([features_zeros] + [features_ones] * repeat)\n",
    "    target_upsampled = pd.concat([target_zeros] + [target_ones] * repeat)\n",
    "    \n",
    "    features_upsampled, target_upsampled = shuffle(\n",
    "        features_upsampled, target_upsampled, random_state=12345)\n",
    "    \n",
    "    return features_upsampled, target_upsampled\n",
    "\n",
    "features_upsampled, target_upsampled = upsample(features_train, target_train, 4)"
   ]
  },
  {
   "cell_type": "markdown",
   "metadata": {},
   "source": [
    "### Вывод:\n",
    "Мы получили 3 набора обучающих данных:  \n",
    "1) Стандартный с дисбалансом  \n",
    "2) С применением техники Downsample  \n",
    "3) С применением техники Upsample  \n",
    "\n",
    "Теперь необходимо протестировать все выбранные модели, обученные на различных наборах данных."
   ]
  },
  {
   "cell_type": "markdown",
   "metadata": {},
   "source": [
    "# 3. Подготовка моделей <a id='section2'></a>"
   ]
  },
  {
   "cell_type": "markdown",
   "metadata": {},
   "source": [
    "Создадим таблицу для результатов тестов моделей на разных обучающих данных"
   ]
  },
  {
   "cell_type": "code",
   "execution_count": 14,
   "metadata": {},
   "outputs": [],
   "source": [
    "result = pd.DataFrame([['LogisticRegression', '', '', ''], ['RandomForestClassifier', '', '', ''], \n",
    "                       ['LGBMClassifier', '', '', '']],\n",
    "                     columns=['Model', 'Default data', 'Upsampled', 'Downsampled'])"
   ]
  },
  {
   "cell_type": "markdown",
   "metadata": {},
   "source": [
    "### Логистическая регрессия"
   ]
  },
  {
   "cell_type": "markdown",
   "metadata": {},
   "source": [
    "Подготовим сетку с гиперпараметрами для логистической регрессии"
   ]
  },
  {
   "cell_type": "code",
   "execution_count": 15,
   "metadata": {},
   "outputs": [],
   "source": [
    "parameters_grid = {\n",
    "    'C' : list(np.logspace(-5, 5, num=11, endpoint=True, base=10.0)),\n",
    "    'class_weight' : ['balanced', None],\n",
    "    'solver' : ['newton-cg', 'lbfgs', 'liblinear']\n",
    "}"
   ]
  },
  {
   "cell_type": "markdown",
   "metadata": {},
   "source": [
    "Напишем функцию, которая обучит выбранныую модель (логистическая регрессия, случайный лес, градиентный бустинг) на указанных обучающих данных (исходные, downsampling, upsampling), подберет оптимальные гиперпараметры случайным перебором по сетке и выведет метрику F1 на тестовых данных"
   ]
  },
  {
   "cell_type": "code",
   "execution_count": 16,
   "metadata": {},
   "outputs": [],
   "source": [
    "def test_model(model, features, target, iterations):\n",
    "    \n",
    "    if model == 'lr':\n",
    "        rscv = RandomizedSearchCV(LogisticRegression(), parameters_grid, scoring='f1_micro', n_iter=iterations)\n",
    "        rscv.fit(features, target)\n",
    "        m = LogisticRegression(**rscv.best_params_)\n",
    "    if model == 'rfc':\n",
    "        rscv = RandomizedSearchCV(RandomForestClassifier(), parameters_grid, scoring='f1_micro', n_iter=iterations)\n",
    "        rscv.fit(features, target)\n",
    "        m = RandomForestClassifier(**rscv.best_params_)\n",
    "    if model == 'lgb':\n",
    "        rscv = RandomizedSearchCV(lgb.LGBMClassifier(), parameters_grid, scoring='f1_micro', n_iter=iterations)\n",
    "        rscv.fit(features, target)\n",
    "        m = lgb.LGBMClassifier(**rscv.best_params_)\n",
    "    \n",
    "    m.fit(features, target)\n",
    "    \n",
    "    predictions = m.predict(features_test)\n",
    "    f1 = f1_score(target_test, predictions)\n",
    "    print('F1 = ', f1)\n",
    "    print('Best params:', rscv.best_params_)"
   ]
  },
  {
   "cell_type": "markdown",
   "metadata": {},
   "source": [
    "Применим функцию (логистическая регрессия, исходные данные)"
   ]
  },
  {
   "cell_type": "code",
   "execution_count": 17,
   "metadata": {},
   "outputs": [
    {
     "name": "stdout",
     "output_type": "stream",
     "text": [
      "F1 =  0.28571428571428575\n",
      "Best params: {'solver': 'newton-cg', 'class_weight': None, 'C': 1000.0}\n",
      "Wall time: 43.1 s\n"
     ]
    }
   ],
   "source": [
    "%%time\n",
    "model = LogisticRegression()\n",
    "test_model('lr', features_train, target_train, 100)"
   ]
  },
  {
   "cell_type": "markdown",
   "metadata": {},
   "source": [
    "Запишем результат в таблицу"
   ]
  },
  {
   "cell_type": "code",
   "execution_count": 18,
   "metadata": {},
   "outputs": [],
   "source": [
    "result['Default data'][0] = 0.286"
   ]
  },
  {
   "cell_type": "markdown",
   "metadata": {},
   "source": [
    "Применим функцию (логистическая регрессия, downsampling)"
   ]
  },
  {
   "cell_type": "code",
   "execution_count": 19,
   "metadata": {},
   "outputs": [
    {
     "name": "stdout",
     "output_type": "stream",
     "text": [
      "F1 =  0.5085748078060319\n",
      "Best params: {'solver': 'newton-cg', 'class_weight': 'balanced', 'C': 0.01}\n",
      "Wall time: 29 s\n"
     ]
    }
   ],
   "source": [
    "%%time\n",
    "test_model('lr', features_downsampled, target_downsampled, 100)"
   ]
  },
  {
   "cell_type": "code",
   "execution_count": 20,
   "metadata": {},
   "outputs": [],
   "source": [
    "result['Downsampled'][0] = 0.509"
   ]
  },
  {
   "cell_type": "markdown",
   "metadata": {},
   "source": [
    "Применим функцию (логистическая регрессия, upsampling)"
   ]
  },
  {
   "cell_type": "code",
   "execution_count": 21,
   "metadata": {},
   "outputs": [
    {
     "name": "stdout",
     "output_type": "stream",
     "text": [
      "F1 =  0.5020527859237537\n",
      "Best params: {'solver': 'newton-cg', 'class_weight': None, 'C': 0.001}\n",
      "Wall time: 1min 10s\n"
     ]
    }
   ],
   "source": [
    "%%time\n",
    "test_model('lr', features_upsampled, target_upsampled, 100)"
   ]
  },
  {
   "cell_type": "code",
   "execution_count": 22,
   "metadata": {},
   "outputs": [],
   "source": [
    "result['Upsampled'][0] = 0.502"
   ]
  },
  {
   "cell_type": "markdown",
   "metadata": {},
   "source": [
    "### Случайный лес"
   ]
  },
  {
   "cell_type": "markdown",
   "metadata": {},
   "source": [
    "Подготовим сетку с гиперпараметрами для случайного леса"
   ]
  },
  {
   "cell_type": "code",
   "execution_count": 23,
   "metadata": {},
   "outputs": [],
   "source": [
    "parameters_grid = {\n",
    "    'n_estimators' : range(80,120,10),\n",
    "    'min_samples_split' : range(2,4,1),\n",
    "    'min_samples_leaf' : range(2,4,1),\n",
    "    'max_depth' : range(8,28,2)\n",
    "}"
   ]
  },
  {
   "cell_type": "markdown",
   "metadata": {},
   "source": [
    "Применим функцию (случайный лес, исходные данные)"
   ]
  },
  {
   "cell_type": "code",
   "execution_count": 24,
   "metadata": {},
   "outputs": [
    {
     "name": "stdout",
     "output_type": "stream",
     "text": [
      "F1 =  0.56875\n",
      "Best params: {'n_estimators': 80, 'min_samples_split': 3, 'min_samples_leaf': 2, 'max_depth': 12}\n",
      "Wall time: 4min 9s\n"
     ]
    }
   ],
   "source": [
    "%%time\n",
    "test_model('rfc', features_train, target_train, 100)"
   ]
  },
  {
   "cell_type": "code",
   "execution_count": 25,
   "metadata": {},
   "outputs": [],
   "source": [
    "result['Default data'][1] = 0.569"
   ]
  },
  {
   "cell_type": "markdown",
   "metadata": {},
   "source": [
    "Применим функцию (случайный лес, downsampling)"
   ]
  },
  {
   "cell_type": "code",
   "execution_count": 26,
   "metadata": {},
   "outputs": [
    {
     "name": "stdout",
     "output_type": "stream",
     "text": [
      "F1 =  0.5947712418300652\n",
      "Best params: {'n_estimators': 90, 'min_samples_split': 3, 'min_samples_leaf': 2, 'max_depth': 8}\n",
      "Wall time: 2min 9s\n"
     ]
    }
   ],
   "source": [
    "%%time\n",
    "test_model('rfc', features_downsampled, target_downsampled, 100)"
   ]
  },
  {
   "cell_type": "code",
   "execution_count": 28,
   "metadata": {},
   "outputs": [],
   "source": [
    "result['Downsampled'][1] = 0.595"
   ]
  },
  {
   "cell_type": "markdown",
   "metadata": {},
   "source": [
    "Применим функцию (случайный лес, upsampling)"
   ]
  },
  {
   "cell_type": "code",
   "execution_count": 29,
   "metadata": {},
   "outputs": [
    {
     "name": "stdout",
     "output_type": "stream",
     "text": [
      "F1 =  0.6165540540540541\n",
      "Best params: {'n_estimators': 90, 'min_samples_split': 3, 'min_samples_leaf': 2, 'max_depth': 24}\n",
      "Wall time: 6min 16s\n"
     ]
    }
   ],
   "source": [
    "%%time\n",
    "test_model('rfc', features_upsampled, target_upsampled, 100)"
   ]
  },
  {
   "cell_type": "code",
   "execution_count": 30,
   "metadata": {},
   "outputs": [],
   "source": [
    "result['Upsampled'][1] = 0.617"
   ]
  },
  {
   "cell_type": "markdown",
   "metadata": {},
   "source": [
    "### Градиентный бустинг"
   ]
  },
  {
   "cell_type": "markdown",
   "metadata": {},
   "source": [
    "Подготовим сетку с гиперпараметрами для градиентного бустинга"
   ]
  },
  {
   "cell_type": "code",
   "execution_count": 31,
   "metadata": {},
   "outputs": [],
   "source": [
    "parameters_grid = {\n",
    "    'max_depth' : range(2, 20, 2),\n",
    "    'num_leaves' : range(80,120,10),\n",
    "    'learning_rate' : np.arange(0.4, 0.8, 0.02),\n",
    "    'n_estimators' : range(80, 120, 10),\n",
    "}"
   ]
  },
  {
   "cell_type": "code",
   "execution_count": 32,
   "metadata": {},
   "outputs": [
    {
     "name": "stdout",
     "output_type": "stream",
     "text": [
      "F1 =  0.5911330049261083\n",
      "Best params: {'num_leaves': 80, 'n_estimators': 110, 'max_depth': 2, 'learning_rate': 0.42000000000000004}\n",
      "Wall time: 1min 31s\n"
     ]
    }
   ],
   "source": [
    "%%time\n",
    "test_model('lgb', features_train, target_train, 100)"
   ]
  },
  {
   "cell_type": "code",
   "execution_count": 33,
   "metadata": {},
   "outputs": [],
   "source": [
    "result['Default data'][2] = 0.591"
   ]
  },
  {
   "cell_type": "code",
   "execution_count": 34,
   "metadata": {},
   "outputs": [
    {
     "name": "stdout",
     "output_type": "stream",
     "text": [
      "F1 =  0.5785226567349473\n",
      "Best params: {'num_leaves': 100, 'n_estimators': 110, 'max_depth': 2, 'learning_rate': 0.6000000000000002}\n",
      "Wall time: 1min 5s\n"
     ]
    }
   ],
   "source": [
    "%%time\n",
    "test_model('lgb', features_downsampled, target_downsampled, 100)"
   ]
  },
  {
   "cell_type": "code",
   "execution_count": 35,
   "metadata": {},
   "outputs": [],
   "source": [
    "result['Downsampled'][2] = 0.579"
   ]
  },
  {
   "cell_type": "code",
   "execution_count": 36,
   "metadata": {},
   "outputs": [
    {
     "name": "stdout",
     "output_type": "stream",
     "text": [
      "F1 =  0.5803489439853077\n",
      "Best params: {'num_leaves': 110, 'n_estimators': 90, 'max_depth': 16, 'learning_rate': 0.5600000000000002}\n",
      "Wall time: 1min 40s\n"
     ]
    }
   ],
   "source": [
    "%%time\n",
    "test_model('lgb', features_upsampled, target_upsampled, 100)"
   ]
  },
  {
   "cell_type": "code",
   "execution_count": 37,
   "metadata": {},
   "outputs": [],
   "source": [
    "result['Upsampled'][2] = 0.580"
   ]
  },
  {
   "cell_type": "code",
   "execution_count": 38,
   "metadata": {},
   "outputs": [
    {
     "data": {
      "text/html": [
       "<div>\n",
       "<style scoped>\n",
       "    .dataframe tbody tr th:only-of-type {\n",
       "        vertical-align: middle;\n",
       "    }\n",
       "\n",
       "    .dataframe tbody tr th {\n",
       "        vertical-align: top;\n",
       "    }\n",
       "\n",
       "    .dataframe thead th {\n",
       "        text-align: right;\n",
       "    }\n",
       "</style>\n",
       "<table border=\"1\" class=\"dataframe\">\n",
       "  <thead>\n",
       "    <tr style=\"text-align: right;\">\n",
       "      <th></th>\n",
       "      <th>Model</th>\n",
       "      <th>Default data</th>\n",
       "      <th>Upsampled</th>\n",
       "      <th>Downsampled</th>\n",
       "    </tr>\n",
       "  </thead>\n",
       "  <tbody>\n",
       "    <tr>\n",
       "      <th>0</th>\n",
       "      <td>LogisticRegression</td>\n",
       "      <td>0.286</td>\n",
       "      <td>0.502</td>\n",
       "      <td>0.509</td>\n",
       "    </tr>\n",
       "    <tr>\n",
       "      <th>1</th>\n",
       "      <td>RandomForestClassifier</td>\n",
       "      <td>0.569</td>\n",
       "      <td>0.617</td>\n",
       "      <td>0.595</td>\n",
       "    </tr>\n",
       "    <tr>\n",
       "      <th>2</th>\n",
       "      <td>LGBMClassifier</td>\n",
       "      <td>0.591</td>\n",
       "      <td>0.58</td>\n",
       "      <td>0.579</td>\n",
       "    </tr>\n",
       "  </tbody>\n",
       "</table>\n",
       "</div>"
      ],
      "text/plain": [
       "                    Model Default data Upsampled Downsampled\n",
       "0      LogisticRegression        0.286     0.502       0.509\n",
       "1  RandomForestClassifier        0.569     0.617       0.595\n",
       "2          LGBMClassifier        0.591      0.58       0.579"
      ]
     },
     "execution_count": 38,
     "metadata": {},
     "output_type": "execute_result"
    }
   ],
   "source": [
    "result"
   ]
  },
  {
   "cell_type": "markdown",
   "metadata": {},
   "source": [
    "### Вывод:\n",
    "Из всех моделей требованиям по метрике F1 (> 5.9) удовлетворяют только RandomForestClassifier (upsampling и downsampling) и LGBMClassifier, обученный на изначальных данных. \n",
    "\n",
    "Далее модели RandomForestClassifier (upsampling) и LGBMClassifier (изначальные данные) проверим на адекватность. "
   ]
  },
  {
   "cell_type": "markdown",
   "metadata": {},
   "source": [
    "# 4. Проверка моделей на адекватность"
   ]
  },
  {
   "cell_type": "markdown",
   "metadata": {},
   "source": [
    "Чтобы проверить наши модели на адекватность, нужно сравнить их AUC_ROC, с AUC_ROC при подстановке наиболее популярного значения (в нашем случае 0)."
   ]
  },
  {
   "cell_type": "code",
   "execution_count": 39,
   "metadata": {},
   "outputs": [],
   "source": [
    "# создадим последовательность из нулей по длине равную target_test\n",
    "zeros = target_test * 0"
   ]
  },
  {
   "cell_type": "markdown",
   "metadata": {},
   "source": [
    "Подготовим предсказания вероятностей ухода клиента выбранных моделей"
   ]
  },
  {
   "cell_type": "code",
   "execution_count": 40,
   "metadata": {},
   "outputs": [],
   "source": [
    "rfc = RandomForestClassifier(n_estimators=90, min_samples_split=3, min_samples_leaf=2, max_depth=24)\n",
    "rfc.fit(features_upsampled, target_upsampled)\n",
    "proba_rfc = rfc.predict_proba(features_test)\n",
    "probabilities_one_rfc = proba_rfc[:, 1]\n",
    "\n",
    "lgbmc = lgb.LGBMClassifier(num_leaves=80, n_estimators=110, max_depth=2, learning_rate=0.42000000000000004)\n",
    "lgbmc.fit(features_train, target_train)\n",
    "proba_lgbmc = lgbmc.predict_proba(features_test)\n",
    "probabilities_one_lgbmc = proba_lgbmc[:, 1]"
   ]
  },
  {
   "cell_type": "markdown",
   "metadata": {},
   "source": [
    "Рассчитаем AUC_ROC моделей и AUC_ROC при подстановке нулей"
   ]
  },
  {
   "cell_type": "code",
   "execution_count": 41,
   "metadata": {},
   "outputs": [
    {
     "name": "stdout",
     "output_type": "stream",
     "text": [
      "AUC_ROC модели RFC (Upsampling) = 0.848\n",
      "AUC_ROC модели LGBMC (default data) = 0.862\n",
      "AUC_ROC при нулях = 0.500\n"
     ]
    }
   ],
   "source": [
    "auc_roc = roc_auc_score(target_test, probabilities_one_rfc)\n",
    "print(\"AUC_ROC модели RFC (Upsampling) = {:.3f}\".format(auc_roc))\n",
    "\n",
    "\n",
    "auc_roc = roc_auc_score(target_test, probabilities_one_lgbmc)\n",
    "print(\"AUC_ROC модели LGBMC (default data) = {:.3f}\".format(auc_roc))\n",
    "\n",
    "\n",
    "auc_roc = roc_auc_score(target_test, zeros)\n",
    "print(\"AUC_ROC при нулях = {:.3f}\".format(auc_roc))"
   ]
  },
  {
   "cell_type": "markdown",
   "metadata": {},
   "source": [
    "#### Вывод:\n",
    "Проверка на адекватность показала, что предсказания выбранных моделей значительно точнее подстановки популярного значения. \n",
    "\n",
    "AUC_ROC RFC (Upsampling) = 0.848\n",
    "\n",
    "AUC_ROC LGBMC (default data) = 0.862\n",
    "\n",
    "AUC_ROC при нулях = 0.500"
   ]
  },
  {
   "cell_type": "markdown",
   "metadata": {},
   "source": [
    "# 5. Исследуем важность факторов"
   ]
  },
  {
   "cell_type": "markdown",
   "metadata": {},
   "source": [
    "Для каждой модели создадим табличку с факторами (признаками) и их важностью при предсказании целевого признака.\n",
    "\n",
    "Также напишем функцию, которая объеденит такие признаки как Geography_Spain и Geography_France просто в Geography. Далее важности таких факторов будут просуммированны.\n",
    "\n",
    "Полученные данные представим в виде круговой диаграммы. "
   ]
  },
  {
   "cell_type": "code",
   "execution_count": 42,
   "metadata": {},
   "outputs": [
    {
     "data": {
      "text/plain": [
       "Text(0.5, 1.0, 'Важность факторов для RFR')"
      ]
     },
     "execution_count": 42,
     "metadata": {},
     "output_type": "execute_result"
    },
    {
     "data": {
      "image/png": "[encoded data removed]",
      "text/plain": [
       "<Figure size 720x720 with 1 Axes>"
      ]
     },
     "metadata": {},
     "output_type": "display_data"
    }
   ],
   "source": [
    "importances = pd.DataFrame(columns=['Factor', 'Importance'])\n",
    "importances['Factor'] = features.columns\n",
    "importances['Importance'] = rfc.feature_importances_\n",
    "\n",
    "\n",
    "def feature_group(feature): # Функция будет оставлять только наименование признака, без его значения (Geography) \n",
    "    if '_' in feature:      # Например Geography_Spain превратит просто в Geography\n",
    "        group = feature[ : feature.find(\"_\")]\n",
    "        return group\n",
    "    else:\n",
    "        return feature\n",
    "\n",
    "importances.Factor = importances.Factor.apply(feature_group) # применим функцию к столбцу Factor\n",
    "\n",
    "importances = importances.groupby(by=['Factor']).sum().sort_values(by='Importance', ascending=False)\n",
    "importances = importances.reset_index()\n",
    "\n",
    "\n",
    "plt.figure(figsize=(10,10))\n",
    "plt.pie(importances['Importance'], labels=importances['Factor'], autopct='%.1f')\n",
    "plt.title('Важность факторов для RFR')"
   ]
  },
  {
   "cell_type": "markdown",
   "metadata": {},
   "source": [
    "Сделаем тоже самое для LGBMC"
   ]
  },
  {
   "cell_type": "code",
   "execution_count": 43,
   "metadata": {},
   "outputs": [
    {
     "data": {
      "text/plain": [
       "Text(0.5, 1.0, 'Важность факторов для LGBMC')"
      ]
     },
     "execution_count": 43,
     "metadata": {},
     "output_type": "execute_result"
    },
    {
     "data": {
      "image/png": "[encoded data removed]",
      "text/plain": [
       "<Figure size 720x720 with 1 Axes>"
      ]
     },
     "metadata": {},
     "output_type": "display_data"
    }
   ],
   "source": [
    "importances = pd.DataFrame(columns=['Factor', 'Importance'])\n",
    "importances['Factor'] = features.columns\n",
    "importances['Importance'] = lgbmc.feature_importances_\n",
    "\n",
    "importances.Factor = importances.Factor.apply(feature_group) # применим функцию к столбцу Factor\n",
    "\n",
    "importances = importances.groupby(by=['Factor']).sum().sort_values(by='Importance', ascending=False)\n",
    "importances = importances.reset_index()\n",
    "\n",
    "\n",
    "plt.figure(figsize=(10,10))\n",
    "plt.pie(importances['Importance'], labels=importances['Factor'], autopct='%.1f')\n",
    "plt.title('Важность факторов для LGBMC')"
   ]
  },
  {
   "cell_type": "markdown",
   "metadata": {},
   "source": [
    "### Вывод:\n",
    "Для обеих моделей самыми важными факторами оказались: возраст, баланс, количество продуктов, примерный доход и кредитный рейтинг. Остальные факторы манее значимы, но в сумме могут иметь важность до 19.3 %. "
   ]
  },
  {
   "cell_type": "markdown",
   "metadata": {},
   "source": [
    "# 6. Общий вывод <a id='section6'></a>"
   ]
  },
  {
   "cell_type": "markdown",
   "metadata": {},
   "source": [
    "При изучении данных было обнаружено, что есть пропуски в столбце Tenure (количество недвижимости). Пропуски были заполнены медианами среди похожих клиентов (пол, возраст, страна). Также категориальные признаки были переведены в численные.\n",
    "\n",
    "Полученные данные были разделены на тренировочную и тестовую выборки в соотношении 7/3 соответственно. \n",
    "\n",
    "В целевом признаке был обнаружен дисбаланс. Применены техники upsampling и downsampling. Решено протестировать все модели с различной обработкой дисбаланса.\n",
    "\n",
    "Были протестированны следующие модели с подбором оптимальных параметров:\n",
    "* Логистическая регрессия\n",
    "* Случайный лес\n",
    "* Градиентный бустинг (LGBMC)"
   ]
  },
  {
   "cell_type": "code",
   "execution_count": 44,
   "metadata": {},
   "outputs": [
    {
     "data": {
      "text/html": [
       "<div>\n",
       "<style scoped>\n",
       "    .dataframe tbody tr th:only-of-type {\n",
       "        vertical-align: middle;\n",
       "    }\n",
       "\n",
       "    .dataframe tbody tr th {\n",
       "        vertical-align: top;\n",
       "    }\n",
       "\n",
       "    .dataframe thead th {\n",
       "        text-align: right;\n",
       "    }\n",
       "</style>\n",
       "<table border=\"1\" class=\"dataframe\">\n",
       "  <thead>\n",
       "    <tr style=\"text-align: right;\">\n",
       "      <th></th>\n",
       "      <th>Model</th>\n",
       "      <th>Default data</th>\n",
       "      <th>Upsampled</th>\n",
       "      <th>Downsampled</th>\n",
       "    </tr>\n",
       "  </thead>\n",
       "  <tbody>\n",
       "    <tr>\n",
       "      <th>0</th>\n",
       "      <td>LogisticRegression</td>\n",
       "      <td>0.286</td>\n",
       "      <td>0.502</td>\n",
       "      <td>0.509</td>\n",
       "    </tr>\n",
       "    <tr>\n",
       "      <th>1</th>\n",
       "      <td>RandomForestClassifier</td>\n",
       "      <td>0.569</td>\n",
       "      <td>0.617</td>\n",
       "      <td>0.595</td>\n",
       "    </tr>\n",
       "    <tr>\n",
       "      <th>2</th>\n",
       "      <td>LGBMClassifier</td>\n",
       "      <td>0.591</td>\n",
       "      <td>0.58</td>\n",
       "      <td>0.579</td>\n",
       "    </tr>\n",
       "  </tbody>\n",
       "</table>\n",
       "</div>"
      ],
      "text/plain": [
       "                    Model Default data Upsampled Downsampled\n",
       "0      LogisticRegression        0.286     0.502       0.509\n",
       "1  RandomForestClassifier        0.569     0.617       0.595\n",
       "2          LGBMClassifier        0.591      0.58       0.579"
      ]
     },
     "execution_count": 44,
     "metadata": {},
     "output_type": "execute_result"
    }
   ],
   "source": [
    "result"
   ]
  },
  {
   "cell_type": "markdown",
   "metadata": {},
   "source": [
    "Наиболее точный показала модель случайного леса с применением техники upsample. \n",
    "\n",
    "Значение F1 на тестовой выборке получилось 0.617.\n",
    "\n",
    "Модели RFC (Upsampling) и LGBMC (исходные данные) были проверенны на адекватность, путем сравнения AUC_ROC моделей с AUC_ROC при подстановке нулей. Предсказания моделей получились значительно точнее подстановки популярного значения. \n",
    "\n",
    "AUC_ROC RFC (Upsampling) = 0.848  \n",
    "AUC_ROC LGBMC (default data) = 0.862  \n",
    "AUC_ROC при нулях = 0.500\n",
    "\n",
    "Также была проверена важность признаков. Для обеих моделей самыми важными факторами оказались: возраст, баланс, количество продуктов, примерный доход и кредитный рейтинг."
   ]
  }
 ],
 "metadata": {
  "kernelspec": {
   "display_name": "Python 3",
   "language": "python",
   "name": "python3"
  },
  "language_info": {
   "codemirror_mode": {
    "name": "ipython",
    "version": 3
   },
   "file_extension": ".py",
   "mimetype": "text/x-python",
   "name": "python",
   "nbconvert_exporter": "python",
   "pygments_lexer": "ipython3",
   "version": "3.7.7"
  }
 },
 "nbformat": 4,
 "nbformat_minor": 2
}
