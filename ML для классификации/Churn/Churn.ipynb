{
 "cells": [
  {
   "cell_type": "markdown",
   "metadata": {},
   "source": [
    "# Описание проекта\n",
    "\n",
    "Банку необходимо по данным клиентов предсказать, кто из них в ближайшее время захочет расторгнуть договор.\n",
    "\n",
    "Для этого нужно построить модель классификации со  значением *F1*-меры не менее 0.59.\n",
    "\n",
    "Источник данных: [https://www.kaggle.com/barelydedicated/bank-customer-churn-modeling](https://www.kaggle.com/barelydedicated/bank-customer-churn-modeling)\n",
    "\n",
    "\n",
    "# Используемые библиотеки\n",
    "\n",
    "Pandas, numpy, matplotlib, sklearn"
   ]
  },
  {
   "cell_type": "markdown",
   "metadata": {},
   "source": [
    "## План исследования"
   ]
  },
  {
   "cell_type": "markdown",
   "metadata": {},
   "source": [
    "1. Подготовка данных\n",
    "2. Исследование задачи\n",
    "3. Борьба с дисбалансом\n",
    "4. Тестирование модели\n",
    "5. Проверка модели на адекватность\n",
    "6. Общий вывод"
   ]
  },
  {
   "cell_type": "markdown",
   "metadata": {},
   "source": [
    "# 1. Подготовка данных <a id='section1'></a>"
   ]
  },
  {
   "cell_type": "code",
   "execution_count": 1,
   "metadata": {},
   "outputs": [
    {
     "name": "stderr",
     "output_type": "stream",
     "text": [
      "C:\\ProgramData\\Anaconda3\\lib\\importlib\\_bootstrap.py:219: RuntimeWarning: numpy.ufunc size changed, may indicate binary incompatibility. Expected 192 from C header, got 216 from PyObject\n",
      "  return f(*args, **kwds)\n",
      "C:\\ProgramData\\Anaconda3\\lib\\importlib\\_bootstrap.py:219: RuntimeWarning: numpy.ufunc size changed, may indicate binary incompatibility. Expected 192 from C header, got 216 from PyObject\n",
      "  return f(*args, **kwds)\n",
      "C:\\ProgramData\\Anaconda3\\lib\\importlib\\_bootstrap.py:219: RuntimeWarning: numpy.ufunc size changed, may indicate binary incompatibility. Expected 192 from C header, got 216 from PyObject\n",
      "  return f(*args, **kwds)\n",
      "C:\\ProgramData\\Anaconda3\\lib\\importlib\\_bootstrap.py:219: RuntimeWarning: numpy.ufunc size changed, may indicate binary incompatibility. Expected 192 from C header, got 216 from PyObject\n",
      "  return f(*args, **kwds)\n",
      "C:\\ProgramData\\Anaconda3\\lib\\importlib\\_bootstrap.py:219: RuntimeWarning: numpy.ufunc size changed, may indicate binary incompatibility. Expected 192 from C header, got 216 from PyObject\n",
      "  return f(*args, **kwds)\n",
      "C:\\ProgramData\\Anaconda3\\lib\\importlib\\_bootstrap.py:219: RuntimeWarning: numpy.ufunc size changed, may indicate binary incompatibility. Expected 192 from C header, got 216 from PyObject\n",
      "  return f(*args, **kwds)\n"
     ]
    }
   ],
   "source": [
    "import pandas as pd\n",
    "import numpy as np\n",
    "import matplotlib.pyplot as plt\n",
    "import warnings\n",
    "warnings.filterwarnings('once')\n",
    "\n",
    "from sklearn.tree import DecisionTreeClassifier\n",
    "from sklearn.ensemble import RandomForestClassifier\n",
    "from sklearn.linear_model import LogisticRegression\n",
    "from sklearn.model_selection import train_test_split\n",
    "from sklearn.metrics import f1_score\n",
    "from sklearn.metrics import mean_absolute_error"
   ]
  },
  {
   "cell_type": "code",
   "execution_count": 2,
   "metadata": {},
   "outputs": [
    {
     "name": "stdout",
     "output_type": "stream",
     "text": [
      "<class 'pandas.core.frame.DataFrame'>\n",
      "RangeIndex: 10000 entries, 0 to 9999\n",
      "Data columns (total 14 columns):\n",
      " #   Column           Non-Null Count  Dtype  \n",
      "---  ------           --------------  -----  \n",
      " 0   RowNumber        10000 non-null  int64  \n",
      " 1   CustomerId       10000 non-null  int64  \n",
      " 2   Surname          10000 non-null  object \n",
      " 3   CreditScore      10000 non-null  int64  \n",
      " 4   Geography        10000 non-null  object \n",
      " 5   Gender           10000 non-null  object \n",
      " 6   Age              10000 non-null  int64  \n",
      " 7   Tenure           9091 non-null   float64\n",
      " 8   Balance          10000 non-null  float64\n",
      " 9   NumOfProducts    10000 non-null  int64  \n",
      " 10  HasCrCard        10000 non-null  int64  \n",
      " 11  IsActiveMember   10000 non-null  int64  \n",
      " 12  EstimatedSalary  10000 non-null  float64\n",
      " 13  Exited           10000 non-null  int64  \n",
      "dtypes: float64(3), int64(8), object(3)\n",
      "memory usage: 1.1+ MB\n"
     ]
    },
    {
     "data": {
      "text/html": [
       "<div>\n",
       "<style scoped>\n",
       "    .dataframe tbody tr th:only-of-type {\n",
       "        vertical-align: middle;\n",
       "    }\n",
       "\n",
       "    .dataframe tbody tr th {\n",
       "        vertical-align: top;\n",
       "    }\n",
       "\n",
       "    .dataframe thead th {\n",
       "        text-align: right;\n",
       "    }\n",
       "</style>\n",
       "<table border=\"1\" class=\"dataframe\">\n",
       "  <thead>\n",
       "    <tr style=\"text-align: right;\">\n",
       "      <th></th>\n",
       "      <th>RowNumber</th>\n",
       "      <th>CustomerId</th>\n",
       "      <th>Surname</th>\n",
       "      <th>CreditScore</th>\n",
       "      <th>Geography</th>\n",
       "      <th>Gender</th>\n",
       "      <th>Age</th>\n",
       "      <th>Tenure</th>\n",
       "      <th>Balance</th>\n",
       "      <th>NumOfProducts</th>\n",
       "      <th>HasCrCard</th>\n",
       "      <th>IsActiveMember</th>\n",
       "      <th>EstimatedSalary</th>\n",
       "      <th>Exited</th>\n",
       "    </tr>\n",
       "  </thead>\n",
       "  <tbody>\n",
       "    <tr>\n",
       "      <th>0</th>\n",
       "      <td>1</td>\n",
       "      <td>15634602</td>\n",
       "      <td>Hargrave</td>\n",
       "      <td>619</td>\n",
       "      <td>France</td>\n",
       "      <td>Female</td>\n",
       "      <td>42</td>\n",
       "      <td>2.0</td>\n",
       "      <td>0.00</td>\n",
       "      <td>1</td>\n",
       "      <td>1</td>\n",
       "      <td>1</td>\n",
       "      <td>101348.88</td>\n",
       "      <td>1</td>\n",
       "    </tr>\n",
       "    <tr>\n",
       "      <th>1</th>\n",
       "      <td>2</td>\n",
       "      <td>15647311</td>\n",
       "      <td>Hill</td>\n",
       "      <td>608</td>\n",
       "      <td>Spain</td>\n",
       "      <td>Female</td>\n",
       "      <td>41</td>\n",
       "      <td>1.0</td>\n",
       "      <td>83807.86</td>\n",
       "      <td>1</td>\n",
       "      <td>0</td>\n",
       "      <td>1</td>\n",
       "      <td>112542.58</td>\n",
       "      <td>0</td>\n",
       "    </tr>\n",
       "    <tr>\n",
       "      <th>2</th>\n",
       "      <td>3</td>\n",
       "      <td>15619304</td>\n",
       "      <td>Onio</td>\n",
       "      <td>502</td>\n",
       "      <td>France</td>\n",
       "      <td>Female</td>\n",
       "      <td>42</td>\n",
       "      <td>8.0</td>\n",
       "      <td>159660.80</td>\n",
       "      <td>3</td>\n",
       "      <td>1</td>\n",
       "      <td>0</td>\n",
       "      <td>113931.57</td>\n",
       "      <td>1</td>\n",
       "    </tr>\n",
       "    <tr>\n",
       "      <th>3</th>\n",
       "      <td>4</td>\n",
       "      <td>15701354</td>\n",
       "      <td>Boni</td>\n",
       "      <td>699</td>\n",
       "      <td>France</td>\n",
       "      <td>Female</td>\n",
       "      <td>39</td>\n",
       "      <td>1.0</td>\n",
       "      <td>0.00</td>\n",
       "      <td>2</td>\n",
       "      <td>0</td>\n",
       "      <td>0</td>\n",
       "      <td>93826.63</td>\n",
       "      <td>0</td>\n",
       "    </tr>\n",
       "    <tr>\n",
       "      <th>4</th>\n",
       "      <td>5</td>\n",
       "      <td>15737888</td>\n",
       "      <td>Mitchell</td>\n",
       "      <td>850</td>\n",
       "      <td>Spain</td>\n",
       "      <td>Female</td>\n",
       "      <td>43</td>\n",
       "      <td>2.0</td>\n",
       "      <td>125510.82</td>\n",
       "      <td>1</td>\n",
       "      <td>1</td>\n",
       "      <td>1</td>\n",
       "      <td>79084.10</td>\n",
       "      <td>0</td>\n",
       "    </tr>\n",
       "  </tbody>\n",
       "</table>\n",
       "</div>"
      ],
      "text/plain": [
       "   RowNumber  CustomerId   Surname  CreditScore Geography  Gender  Age  \\\n",
       "0          1    15634602  Hargrave          619    France  Female   42   \n",
       "1          2    15647311      Hill          608     Spain  Female   41   \n",
       "2          3    15619304      Onio          502    France  Female   42   \n",
       "3          4    15701354      Boni          699    France  Female   39   \n",
       "4          5    15737888  Mitchell          850     Spain  Female   43   \n",
       "\n",
       "   Tenure    Balance  NumOfProducts  HasCrCard  IsActiveMember  \\\n",
       "0     2.0       0.00              1          1               1   \n",
       "1     1.0   83807.86              1          0               1   \n",
       "2     8.0  159660.80              3          1               0   \n",
       "3     1.0       0.00              2          0               0   \n",
       "4     2.0  125510.82              1          1               1   \n",
       "\n",
       "   EstimatedSalary  Exited  \n",
       "0        101348.88       1  \n",
       "1        112542.58       0  \n",
       "2        113931.57       1  \n",
       "3         93826.63       0  \n",
       "4         79084.10       0  "
      ]
     },
     "execution_count": 2,
     "metadata": {},
     "output_type": "execute_result"
    }
   ],
   "source": [
    "df = pd.read_csv('Churn.csv')\n",
    "\n",
    "df.info()\n",
    "df.head()"
   ]
  },
  {
   "cell_type": "markdown",
   "metadata": {},
   "source": [
    "Необходимо выполнить следующие действия:\n",
    "* Перевести все числовые значения в int32\n",
    "* Убрать столбец с фамилиями\n",
    "* Перевести категориальные признаки в численные\n",
    "* Заполнить пропуски в Tenure"
   ]
  },
  {
   "cell_type": "markdown",
   "metadata": {},
   "source": [
    "##### Изменим типы данных"
   ]
  },
  {
   "cell_type": "code",
   "execution_count": 3,
   "metadata": {},
   "outputs": [],
   "source": [
    "columns_to_int32 = ['RowNumber', 'CustomerId', 'CreditScore', 'Age', 'Tenure', 'Balance', \n",
    "                    'NumOfProducts', 'HasCrCard', 'IsActiveMember', 'EstimatedSalary', 'Exited']\n",
    "\n",
    "# Временно заполним пропуски в Tenure минус единицами\n",
    "df['Tenure'] = df['Tenure'].fillna(-1)\n",
    "\n",
    "for column in columns_to_int32:\n",
    "    df[column] =  df[column].astype('int32')"
   ]
  },
  {
   "cell_type": "markdown",
   "metadata": {},
   "source": [
    "##### Уберем столбец с фамилиями"
   ]
  },
  {
   "cell_type": "code",
   "execution_count": 4,
   "metadata": {},
   "outputs": [],
   "source": [
    "df = df.drop(['Surname'] , axis=1)"
   ]
  },
  {
   "cell_type": "markdown",
   "metadata": {},
   "source": [
    "##### Переведем категориальные признаки в численные"
   ]
  },
  {
   "cell_type": "code",
   "execution_count": 5,
   "metadata": {},
   "outputs": [
    {
     "data": {
      "text/html": [
       "<div>\n",
       "<style scoped>\n",
       "    .dataframe tbody tr th:only-of-type {\n",
       "        vertical-align: middle;\n",
       "    }\n",
       "\n",
       "    .dataframe tbody tr th {\n",
       "        vertical-align: top;\n",
       "    }\n",
       "\n",
       "    .dataframe thead th {\n",
       "        text-align: right;\n",
       "    }\n",
       "</style>\n",
       "<table border=\"1\" class=\"dataframe\">\n",
       "  <thead>\n",
       "    <tr style=\"text-align: right;\">\n",
       "      <th></th>\n",
       "      <th>RowNumber</th>\n",
       "      <th>CustomerId</th>\n",
       "      <th>CreditScore</th>\n",
       "      <th>Age</th>\n",
       "      <th>Tenure</th>\n",
       "      <th>Balance</th>\n",
       "      <th>NumOfProducts</th>\n",
       "      <th>HasCrCard</th>\n",
       "      <th>IsActiveMember</th>\n",
       "      <th>EstimatedSalary</th>\n",
       "      <th>Exited</th>\n",
       "      <th>Geography_Germany</th>\n",
       "      <th>Geography_Spain</th>\n",
       "      <th>Gender_Male</th>\n",
       "    </tr>\n",
       "  </thead>\n",
       "  <tbody>\n",
       "    <tr>\n",
       "      <th>0</th>\n",
       "      <td>1</td>\n",
       "      <td>15634602</td>\n",
       "      <td>619</td>\n",
       "      <td>42</td>\n",
       "      <td>2</td>\n",
       "      <td>0</td>\n",
       "      <td>1</td>\n",
       "      <td>1</td>\n",
       "      <td>1</td>\n",
       "      <td>101348</td>\n",
       "      <td>1</td>\n",
       "      <td>0</td>\n",
       "      <td>0</td>\n",
       "      <td>0</td>\n",
       "    </tr>\n",
       "    <tr>\n",
       "      <th>1</th>\n",
       "      <td>2</td>\n",
       "      <td>15647311</td>\n",
       "      <td>608</td>\n",
       "      <td>41</td>\n",
       "      <td>1</td>\n",
       "      <td>83807</td>\n",
       "      <td>1</td>\n",
       "      <td>0</td>\n",
       "      <td>1</td>\n",
       "      <td>112542</td>\n",
       "      <td>0</td>\n",
       "      <td>0</td>\n",
       "      <td>1</td>\n",
       "      <td>0</td>\n",
       "    </tr>\n",
       "    <tr>\n",
       "      <th>2</th>\n",
       "      <td>3</td>\n",
       "      <td>15619304</td>\n",
       "      <td>502</td>\n",
       "      <td>42</td>\n",
       "      <td>8</td>\n",
       "      <td>159660</td>\n",
       "      <td>3</td>\n",
       "      <td>1</td>\n",
       "      <td>0</td>\n",
       "      <td>113931</td>\n",
       "      <td>1</td>\n",
       "      <td>0</td>\n",
       "      <td>0</td>\n",
       "      <td>0</td>\n",
       "    </tr>\n",
       "    <tr>\n",
       "      <th>3</th>\n",
       "      <td>4</td>\n",
       "      <td>15701354</td>\n",
       "      <td>699</td>\n",
       "      <td>39</td>\n",
       "      <td>1</td>\n",
       "      <td>0</td>\n",
       "      <td>2</td>\n",
       "      <td>0</td>\n",
       "      <td>0</td>\n",
       "      <td>93826</td>\n",
       "      <td>0</td>\n",
       "      <td>0</td>\n",
       "      <td>0</td>\n",
       "      <td>0</td>\n",
       "    </tr>\n",
       "    <tr>\n",
       "      <th>4</th>\n",
       "      <td>5</td>\n",
       "      <td>15737888</td>\n",
       "      <td>850</td>\n",
       "      <td>43</td>\n",
       "      <td>2</td>\n",
       "      <td>125510</td>\n",
       "      <td>1</td>\n",
       "      <td>1</td>\n",
       "      <td>1</td>\n",
       "      <td>79084</td>\n",
       "      <td>0</td>\n",
       "      <td>0</td>\n",
       "      <td>1</td>\n",
       "      <td>0</td>\n",
       "    </tr>\n",
       "  </tbody>\n",
       "</table>\n",
       "</div>"
      ],
      "text/plain": [
       "   RowNumber  CustomerId  CreditScore  Age  Tenure  Balance  NumOfProducts  \\\n",
       "0          1    15634602          619   42       2        0              1   \n",
       "1          2    15647311          608   41       1    83807              1   \n",
       "2          3    15619304          502   42       8   159660              3   \n",
       "3          4    15701354          699   39       1        0              2   \n",
       "4          5    15737888          850   43       2   125510              1   \n",
       "\n",
       "   HasCrCard  IsActiveMember  EstimatedSalary  Exited  Geography_Germany  \\\n",
       "0          1               1           101348       1                  0   \n",
       "1          0               1           112542       0                  0   \n",
       "2          1               0           113931       1                  0   \n",
       "3          0               0            93826       0                  0   \n",
       "4          1               1            79084       0                  0   \n",
       "\n",
       "   Geography_Spain  Gender_Male  \n",
       "0                0            0  \n",
       "1                1            0  \n",
       "2                0            0  \n",
       "3                0            0  \n",
       "4                1            0  "
      ]
     },
     "execution_count": 5,
     "metadata": {},
     "output_type": "execute_result"
    }
   ],
   "source": [
    "df = pd.get_dummies(df, columns=['Geography', 'Gender'],drop_first=True)\n",
    "df.head()"
   ]
  },
  {
   "cell_type": "markdown",
   "metadata": {},
   "source": [
    "##### Заполним пропуски в Tenure"
   ]
  },
  {
   "cell_type": "code",
   "execution_count": 6,
   "metadata": {},
   "outputs": [],
   "source": [
    "# Отделим заполненные значения\n",
    "df_pos = df.query('Tenure >= 0')"
   ]
  },
  {
   "cell_type": "markdown",
   "metadata": {},
   "source": [
    "Для заполнения напишем функцию, которая для каждого пропуска будет искать людей с такими же полом, возрастом, страной. После этого функция будет находить медиану количества недвижимости в найденых строках и вставлять ее вместо пропуска."
   ]
  },
  {
   "cell_type": "code",
   "execution_count": 7,
   "metadata": {},
   "outputs": [
    {
     "name": "stdout",
     "output_type": "stream",
     "text": [
      "<class 'pandas.core.frame.DataFrame'>\n",
      "RangeIndex: 10000 entries, 0 to 9999\n",
      "Data columns (total 14 columns):\n",
      " #   Column             Non-Null Count  Dtype  \n",
      "---  ------             --------------  -----  \n",
      " 0   RowNumber          10000 non-null  int32  \n",
      " 1   CustomerId         10000 non-null  int32  \n",
      " 2   CreditScore        10000 non-null  int32  \n",
      " 3   Age                10000 non-null  int32  \n",
      " 4   Tenure             9997 non-null   float64\n",
      " 5   Balance            10000 non-null  int32  \n",
      " 6   NumOfProducts      10000 non-null  int32  \n",
      " 7   HasCrCard          10000 non-null  int32  \n",
      " 8   IsActiveMember     10000 non-null  int32  \n",
      " 9   EstimatedSalary    10000 non-null  int32  \n",
      " 10  Exited             10000 non-null  int32  \n",
      " 11  Geography_Germany  10000 non-null  uint8  \n",
      " 12  Geography_Spain    10000 non-null  uint8  \n",
      " 13  Gender_Male        10000 non-null  uint8  \n",
      "dtypes: float64(1), int32(10), uint8(3)\n",
      "memory usage: 498.2 KB\n"
     ]
    }
   ],
   "source": [
    "def fill_pass(pas):\n",
    "    for i in range(len(df)):\n",
    "        if df.loc[i, pas] < 0: # Выбирает пропущенные значения\n",
    "\n",
    "            df.loc[i, pas] = (           # Присваиваем пропуску значение\n",
    "                df_pos[\n",
    "                    (df_pos['Age'] == df.loc[i, 'Age']) & \n",
    "                    (df_pos['Geography_Germany'] == df.loc[i, 'Geography_Germany']) & \n",
    "                    (df_pos['Geography_Spain'] == df.loc[i, 'Geography_Spain']) & \n",
    "                    (df_pos['Gender_Male'] == df.loc[i, 'Gender_Male'])\n",
    "                ]\n",
    "                [pas].median()   # Берем медиану искмой характеристики из найденных строк\n",
    "            )\n",
    "\n",
    "# Запускаем функцию \n",
    "fill_pass('Tenure')\n",
    "\n",
    "df.info()"
   ]
  },
  {
   "cell_type": "markdown",
   "metadata": {},
   "source": [
    "Осталось всего 3 пропуска. Удалим строки с пропусками. "
   ]
  },
  {
   "cell_type": "code",
   "execution_count": 8,
   "metadata": {},
   "outputs": [
    {
     "name": "stdout",
     "output_type": "stream",
     "text": [
      "<class 'pandas.core.frame.DataFrame'>\n",
      "Int64Index: 9997 entries, 0 to 9999\n",
      "Data columns (total 14 columns):\n",
      " #   Column             Non-Null Count  Dtype\n",
      "---  ------             --------------  -----\n",
      " 0   RowNumber          9997 non-null   int32\n",
      " 1   CustomerId         9997 non-null   int32\n",
      " 2   CreditScore        9997 non-null   int32\n",
      " 3   Age                9997 non-null   int32\n",
      " 4   Tenure             9997 non-null   int32\n",
      " 5   Balance            9997 non-null   int32\n",
      " 6   NumOfProducts      9997 non-null   int32\n",
      " 7   HasCrCard          9997 non-null   int32\n",
      " 8   IsActiveMember     9997 non-null   int32\n",
      " 9   EstimatedSalary    9997 non-null   int32\n",
      " 10  Exited             9997 non-null   int32\n",
      " 11  Geography_Germany  9997 non-null   uint8\n",
      " 12  Geography_Spain    9997 non-null   uint8\n",
      " 13  Gender_Male        9997 non-null   uint8\n",
      "dtypes: int32(11), uint8(3)\n",
      "memory usage: 536.9 KB\n"
     ]
    }
   ],
   "source": [
    "df = df.dropna()\n",
    "\n",
    "# Округлим данные и поменяем тип\n",
    "df['Tenure'] = df['Tenure'].round().astype('int32')\n",
    "\n",
    "df.info()"
   ]
  },
  {
   "cell_type": "markdown",
   "metadata": {},
   "source": [
    "#### Вывод:\n",
    "Пропуски заполнены, данные приведены к нужным типам, категориальные признаки переведены в численные."
   ]
  },
  {
   "cell_type": "markdown",
   "metadata": {},
   "source": [
    "# 2. Исследование задачи <a id='section2'></a>"
   ]
  },
  {
   "cell_type": "markdown",
   "metadata": {},
   "source": [
    "Проверим баланс классов"
   ]
  },
  {
   "cell_type": "code",
   "execution_count": 9,
   "metadata": {
    "scrolled": true
   },
   "outputs": [
    {
     "data": {
      "text/plain": [
       "<matplotlib.axes._subplots.AxesSubplot at 0xc19c688>"
      ]
     },
     "execution_count": 9,
     "metadata": {},
     "output_type": "execute_result"
    },
    {
     "data": {
      "image/png": "[encoded data removed]",
      "text/plain": [
       "<Figure size 432x288 with 1 Axes>"
      ]
     },
     "metadata": {
      "needs_background": "light"
     },
     "output_type": "display_data"
    }
   ],
   "source": [
    "df['Exited'].hist()"
   ]
  },
  {
   "cell_type": "markdown",
   "metadata": {},
   "source": [
    "Обнаружен явный дисбаланс. Значения отличаются примерно в 4 раза. В дальнейшем с ним нужно будет бороться. Пока выберем переспективную модель. "
   ]
  },
  {
   "cell_type": "markdown",
   "metadata": {},
   "source": [
    "#### Разделим данные на тренировочные, валидационные и тестовые в соотношении 0.6, 0.2, 0.2."
   ]
  },
  {
   "cell_type": "code",
   "execution_count": 10,
   "metadata": {},
   "outputs": [
    {
     "name": "stdout",
     "output_type": "stream",
     "text": [
      "(5997, 11)\n",
      "(2000, 11)\n",
      "(2000, 11)\n"
     ]
    }
   ],
   "source": [
    "features = df.drop(['Exited', 'RowNumber', 'CustomerId'], axis=1)\n",
    "target = df['Exited']\n",
    "\n",
    "\n",
    "features_train, features_test, target_train, target_test = train_test_split(\n",
    "    features, target, test_size=0.2, random_state=12345)\n",
    "\n",
    "features_train, features_valid, target_train, target_valid = train_test_split(\n",
    "    features_train, target_train, test_size=0.25, random_state=12345)\n",
    "\n",
    "print(features_train.shape)\n",
    "print(features_valid.shape)\n",
    "print(features_test.shape)"
   ]
  },
  {
   "cell_type": "code",
   "execution_count": 11,
   "metadata": {},
   "outputs": [
    {
     "data": {
      "text/plain": [
       "Index(['CreditScore', 'Age', 'Tenure', 'Balance', 'NumOfProducts', 'HasCrCard',\n",
       "       'IsActiveMember', 'EstimatedSalary', 'Geography_Germany',\n",
       "       'Geography_Spain', 'Gender_Male'],\n",
       "      dtype='object')"
      ]
     },
     "execution_count": 11,
     "metadata": {},
     "output_type": "execute_result"
    }
   ],
   "source": [
    "features_train.columns"
   ]
  },
  {
   "cell_type": "markdown",
   "metadata": {},
   "source": [
    "#### Дерево решений"
   ]
  },
  {
   "cell_type": "code",
   "execution_count": 12,
   "metadata": {},
   "outputs": [
    {
     "data": {
      "text/html": [
       "<div>\n",
       "<style scoped>\n",
       "    .dataframe tbody tr th:only-of-type {\n",
       "        vertical-align: middle;\n",
       "    }\n",
       "\n",
       "    .dataframe tbody tr th {\n",
       "        vertical-align: top;\n",
       "    }\n",
       "\n",
       "    .dataframe thead th {\n",
       "        text-align: right;\n",
       "    }\n",
       "</style>\n",
       "<table border=\"1\" class=\"dataframe\">\n",
       "  <thead>\n",
       "    <tr style=\"text-align: right;\">\n",
       "      <th></th>\n",
       "      <th>max_depth</th>\n",
       "      <th>min_samples_split</th>\n",
       "      <th>min_samples_leaf</th>\n",
       "      <th>f1</th>\n",
       "    </tr>\n",
       "  </thead>\n",
       "  <tbody>\n",
       "    <tr>\n",
       "      <th>0</th>\n",
       "      <td>8</td>\n",
       "      <td>4</td>\n",
       "      <td>4</td>\n",
       "      <td>0.600289</td>\n",
       "    </tr>\n",
       "    <tr>\n",
       "      <th>0</th>\n",
       "      <td>8</td>\n",
       "      <td>3</td>\n",
       "      <td>4</td>\n",
       "      <td>0.600289</td>\n",
       "    </tr>\n",
       "    <tr>\n",
       "      <th>0</th>\n",
       "      <td>8</td>\n",
       "      <td>2</td>\n",
       "      <td>4</td>\n",
       "      <td>0.600289</td>\n",
       "    </tr>\n",
       "    <tr>\n",
       "      <th>0</th>\n",
       "      <td>6</td>\n",
       "      <td>4</td>\n",
       "      <td>4</td>\n",
       "      <td>0.593607</td>\n",
       "    </tr>\n",
       "    <tr>\n",
       "      <th>0</th>\n",
       "      <td>6</td>\n",
       "      <td>2</td>\n",
       "      <td>4</td>\n",
       "      <td>0.593607</td>\n",
       "    </tr>\n",
       "  </tbody>\n",
       "</table>\n",
       "</div>"
      ],
      "text/plain": [
       "  max_depth min_samples_split min_samples_leaf        f1\n",
       "0         8                 4                4  0.600289\n",
       "0         8                 3                4  0.600289\n",
       "0         8                 2                4  0.600289\n",
       "0         6                 4                4  0.593607\n",
       "0         6                 2                4  0.593607"
      ]
     },
     "execution_count": 12,
     "metadata": {},
     "output_type": "execute_result"
    }
   ],
   "source": [
    "# Напишем цикл, перебирающий параметры и записывающий их вместе с результатом в таблицу\n",
    "\n",
    "tree_parameters = pd.DataFrame(columns=['max_depth', 'min_samples_split', 'min_samples_leaf', 'f1'])\n",
    "\n",
    "for depth in range(2, 21, 2):\n",
    "    for split in range(2, 5):\n",
    "        for leaf in range(1, 5):\n",
    "            model = DecisionTreeClassifier(min_samples_split=split, min_samples_leaf=leaf, max_depth=depth, random_state=12345)\n",
    "            model.fit(features_train, target_train)\n",
    "            predictions_valid = model.predict(features_valid)\n",
    "\n",
    "            f1 = f1_score(target_valid, predictions_valid)\n",
    "            \n",
    "            result = pd.DataFrame([[depth, split, leaf, f1]])\n",
    "            result.columns = ['max_depth', 'min_samples_split', 'min_samples_leaf', 'f1']\n",
    "            tree_parameters = tree_parameters.append(result)\n",
    "\n",
    "tree_parameters.sort_values(by=['f1'], ascending=False).head()"
   ]
  },
  {
   "cell_type": "markdown",
   "metadata": {},
   "source": [
    "Наибольший показатель F1 равный 0.598 получен при параметрах дерева max_depth=8, min_samples_split=2, min_samples_leaf=4"
   ]
  },
  {
   "cell_type": "markdown",
   "metadata": {},
   "source": [
    "#### Случайный лес"
   ]
  },
  {
   "cell_type": "markdown",
   "metadata": {},
   "source": [
    "Следующая ячейка закомментирована, чтобы не тратить повторно время на ее вычисление."
   ]
  },
  {
   "cell_type": "code",
   "execution_count": 13,
   "metadata": {},
   "outputs": [],
   "source": [
    "# forest_parameters = pd.DataFrame(\n",
    "#     columns=['max_depth', 'min_samples_split', 'min_samples_leaf', 'n_estimators', 'f1'])\n",
    "\n",
    "# for estim in range(10, 101, 10):\n",
    "#     for depth in range(2, 21, 2):\n",
    "#         for split in range(2, 5):\n",
    "#             for leaf in range(1, 5):\n",
    "#                 model = RandomForestClassifier(\n",
    "#                     n_estimators=estim,\n",
    "#                     min_samples_split=split, \n",
    "#                     min_samples_leaf=leaf, \n",
    "#                     max_depth=depth, \n",
    "#                     random_state=12345)\n",
    "                \n",
    "#                 model.fit(features_train, target_train)\n",
    "#                 predictions_valid = model.predict(features_valid)\n",
    "\n",
    "#                 f1 = f1_score(target_valid, predictions_valid)\n",
    "            \n",
    "#                 result = pd.DataFrame([[depth, split, leaf, estim, f1]])\n",
    "#                 result.columns = ['max_depth', 'min_samples_split', 'min_samples_leaf', 'n_estimators', 'f1']\n",
    "#                 forest_parameters = forest_parameters.append(result)"
   ]
  },
  {
   "cell_type": "code",
   "execution_count": 14,
   "metadata": {},
   "outputs": [],
   "source": [
    "# forest_parameters.sort_values(by=['f1'], ascending=False).head()"
   ]
  },
  {
   "cell_type": "markdown",
   "metadata": {},
   "source": [
    "Наибольший показатель F1 равный 0.619 получен при параметрах леса max_depth=16, min_samples_split=4, min_samples_leaf=1, n_estimators=60"
   ]
  },
  {
   "cell_type": "markdown",
   "metadata": {},
   "source": [
    "#### Логистическая регрессия"
   ]
  },
  {
   "cell_type": "code",
   "execution_count": 15,
   "metadata": {},
   "outputs": [
    {
     "name": "stdout",
     "output_type": "stream",
     "text": [
      "C = 10^(-4.0) : 0.09565217391304347\n",
      "C = 10^(-3.5) : 0.10322580645161289\n",
      "C = 10^(-3.0) : 0.11063829787234042\n",
      "C = 10^(-2.5) : 0.11063829787234042\n",
      "C = 10^(-2.0) : 0.11063829787234042\n",
      "C = 10^(-1.5) : 0.11063829787234042\n",
      "C = 10^(-1.0) : 0.11063829787234042\n",
      "C = 10^(-0.5) : 0.11040339702760085\n",
      "C = 10^(0.0) : 0.11063829787234042\n",
      "C = 10^(0.5) : 0.11063829787234042\n",
      "C = 10^(1.0) : 0.11063829787234042\n",
      "C = 10^(1.5) : 0.11063829787234042\n",
      "C = 10^(2.0) : 0.11063829787234042\n",
      "C = 10^(2.5) : 0.11063829787234042\n",
      "C = 10^(3.0) : 0.11063829787234042\n",
      "C = 10^(3.5) : 0.11063829787234042\n",
      "C = 10^(4.0) : 0.11063829787234042\n"
     ]
    }
   ],
   "source": [
    "# Составим список возведений 10 в степени от -4 до 4, с шагом в 0,5\n",
    "exp = np.logspace(-4, 4, num=17, endpoint=True, base=10.0)\n",
    "\n",
    "for e in exp:\n",
    "    model = LogisticRegression(C=e, solver='liblinear', random_state=12345)\n",
    "    model.fit(features_train, target_train)\n",
    "    \n",
    "    predictions_valid = model.predict(features_valid)\n",
    "\n",
    "    f1 = f1_score(target_valid, predictions_valid)\n",
    "    print(\"C = 10^(\",np.log10(e), \") : \", f1, sep='')"
   ]
  },
  {
   "cell_type": "markdown",
   "metadata": {},
   "source": [
    "Наибольший показатель F1 равный 0.114 получен при параметре С=0.01"
   ]
  },
  {
   "cell_type": "markdown",
   "metadata": {},
   "source": [
    "#### Вывод:\n",
    "Самое высокое значение F1 равное 0.619 получила модель случайного леса. Параметры модели:\n",
    "\n",
    "max_depth = 16\n",
    "\n",
    "min_samples_split = 4\n",
    "\n",
    "min_samples_leaf = 1\n",
    "\n",
    "n_estimators = 60\n",
    "\n",
    "Далее будем проверять ее при отсутствии дисбаланса. "
   ]
  },
  {
   "cell_type": "markdown",
   "metadata": {},
   "source": [
    "# 3. Борьба с дисбалансом <a id='section3'></a>"
   ]
  },
  {
   "cell_type": "markdown",
   "metadata": {},
   "source": [
    "#### Сбалансируем веса параметром class_weight"
   ]
  },
  {
   "cell_type": "code",
   "execution_count": 16,
   "metadata": {
    "scrolled": true
   },
   "outputs": [
    {
     "name": "stdout",
     "output_type": "stream",
     "text": [
      "0.6312769010043042\n"
     ]
    }
   ],
   "source": [
    "model = RandomForestClassifier(\n",
    "    n_estimators=60,\n",
    "    min_samples_split=4, \n",
    "    min_samples_leaf=1, \n",
    "    max_depth=16, \n",
    "    random_state=12345,\n",
    "    class_weight='balanced')\n",
    "\n",
    "model.fit(features_train, target_train)\n",
    "    \n",
    "predictions_valid = model.predict(features_valid)\n",
    "\n",
    "f1 = f1_score(target_valid, predictions_valid)\n",
    "print(f1)"
   ]
  },
  {
   "cell_type": "markdown",
   "metadata": {},
   "source": [
    "После добавления парамета class_weight='balanced' значение F1 немного уменьшилось.\n",
    "Далее попробуем устранить дисбаланс методами upsampling и downsampling."
   ]
  },
  {
   "cell_type": "markdown",
   "metadata": {},
   "source": [
    "#### Исслудуем важность факторов <a id='answer2'></a>"
   ]
  },
  {
   "cell_type": "code",
   "execution_count": 17,
   "metadata": {},
   "outputs": [
    {
     "data": {
      "text/plain": [
       "Text(0.5, 1.0, 'Важность факторов')"
      ]
     },
     "execution_count": 17,
     "metadata": {},
     "output_type": "execute_result"
    },
    {
     "data": {
      "image/png": "[encoded data removed]",
      "text/plain": [
       "<Figure size 720x720 with 1 Axes>"
      ]
     },
     "metadata": {},
     "output_type": "display_data"
    }
   ],
   "source": [
    "importances = pd.DataFrame(columns=['factor', 'importance'])\n",
    "importances['factor'] = features.columns\n",
    "importances['importance'] = model.feature_importances_\n",
    "importances = importances.sort_values(by='importance', ascending=False)\n",
    "\n",
    "plt.figure(figsize=(10,10))\n",
    "plt.pie(importances['importance'], labels=importances['factor'], autopct='%.1f')\n",
    "plt.title('Важность факторов')"
   ]
  },
  {
   "cell_type": "markdown",
   "metadata": {},
   "source": [
    "Исследование показало, что самыми важными факторами являются возраст, баланс на счете, количество продуктов, кредитная история и предполагаемый доход. Самые малозначимые факторы: страна проживания, пол и наличие кредитной карты. Количество недвижимости не в списке самых важных факторов, но отказываться от него все-таки нельзя. "
   ]
  },
  {
   "cell_type": "markdown",
   "metadata": {},
   "source": [
    "#### Используем метод upsampling"
   ]
  },
  {
   "cell_type": "code",
   "execution_count": 18,
   "metadata": {},
   "outputs": [
    {
     "name": "stdout",
     "output_type": "stream",
     "text": [
      "F1: 0.6243523316062175\n",
      "Balanced F1: 0.6367137355584083\n"
     ]
    }
   ],
   "source": [
    "from sklearn.utils import shuffle\n",
    "\n",
    "def upsample(features, target, repeat):\n",
    "    features_zeros = features[target == 0]\n",
    "    features_ones = features[target == 1]\n",
    "    target_zeros = target[target == 0]\n",
    "    target_ones = target[target == 1]\n",
    "\n",
    "    features_upsampled = pd.concat([features_zeros] + [features_ones] * repeat)\n",
    "    target_upsampled = pd.concat([target_zeros] + [target_ones] * repeat)\n",
    "    \n",
    "    features_upsampled, target_upsampled = shuffle(\n",
    "        features_upsampled, target_upsampled, random_state=12345)\n",
    "    \n",
    "    return features_upsampled, target_upsampled\n",
    "\n",
    "features_upsampled, target_upsampled = upsample(features_train, target_train, 4)\n",
    "\n",
    "model = RandomForestClassifier(\n",
    "    n_estimators=60,\n",
    "    min_samples_split=4, \n",
    "    min_samples_leaf=1, \n",
    "    max_depth=16, \n",
    "    random_state=12345)\n",
    "\n",
    "model.fit(features_upsampled, target_upsampled)\n",
    "predicted_valid = model.predict(features_valid)\n",
    "print(\"F1:\", f1_score(target_valid, predicted_valid))\n",
    "\n",
    "model = RandomForestClassifier(\n",
    "    n_estimators=60,\n",
    "    min_samples_split=4, \n",
    "    min_samples_leaf=1, \n",
    "    max_depth=16, \n",
    "    random_state=12345,\n",
    "    class_weight='balanced')\n",
    "\n",
    "model.fit(features_upsampled, target_upsampled)\n",
    "predicted_valid = model.predict(features_valid)\n",
    "print(\"Balanced F1:\", f1_score(target_valid, predicted_valid))"
   ]
  },
  {
   "cell_type": "markdown",
   "metadata": {},
   "source": [
    "Методом upsampling удалось достичь значения F1 0.637"
   ]
  },
  {
   "cell_type": "markdown",
   "metadata": {},
   "source": [
    "#### Используем метод downsampling"
   ]
  },
  {
   "cell_type": "code",
   "execution_count": 19,
   "metadata": {},
   "outputs": [],
   "source": [
    "def downsample(features, target, fraction):\n",
    "    features_zeros = features[target == 0]\n",
    "    features_ones = features[target == 1]\n",
    "    target_zeros = target[target == 0]\n",
    "    target_ones = target[target == 1]\n",
    "\n",
    "    features_downsampled = pd.concat(\n",
    "        [features_zeros.sample(frac=fraction, random_state=12345)] + [features_ones])\n",
    "    target_downsampled = pd.concat(\n",
    "        [target_zeros.sample(frac=fraction, random_state=12345)] + [target_ones])\n",
    "    \n",
    "    features_downsampled, target_downsampled = shuffle(\n",
    "        features_downsampled, target_downsampled, random_state=12345)\n",
    "    \n",
    "    return features_downsampled, target_downsampled"
   ]
  },
  {
   "cell_type": "code",
   "execution_count": 20,
   "metadata": {},
   "outputs": [],
   "source": [
    "features_downsampled, target_downsampled = downsample(features_train, target_train, 0.25)"
   ]
  },
  {
   "cell_type": "code",
   "execution_count": 21,
   "metadata": {},
   "outputs": [
    {
     "name": "stdout",
     "output_type": "stream",
     "text": [
      "F1: 0.5771324863883848\n",
      "Balanced F1: 0.578853046594982\n"
     ]
    }
   ],
   "source": [
    "model = RandomForestClassifier(\n",
    "    n_estimators=60,\n",
    "    min_samples_split=4, \n",
    "    min_samples_leaf=1, \n",
    "    max_depth=16, \n",
    "    random_state=12345)\n",
    "\n",
    "model.fit(features_downsampled, target_downsampled)\n",
    "predicted_valid = model.predict(features_valid)\n",
    "print(\"F1:\", f1_score(target_valid, predicted_valid))\n",
    "\n",
    "model = RandomForestClassifier(\n",
    "    n_estimators=60,\n",
    "    min_samples_split=4, \n",
    "    min_samples_leaf=1, \n",
    "    max_depth=16, \n",
    "    random_state=12345,\n",
    "    class_weight='balanced')\n",
    "\n",
    "model.fit(features_downsampled, target_downsampled)\n",
    "predicted_valid = model.predict(features_valid)\n",
    "print(\"Balanced F1:\", f1_score(target_valid, predicted_valid))"
   ]
  },
  {
   "cell_type": "markdown",
   "metadata": {},
   "source": [
    "#### Подберем значение порога для метода upsampling"
   ]
  },
  {
   "cell_type": "code",
   "execution_count": 22,
   "metadata": {},
   "outputs": [
    {
     "data": {
      "text/plain": [
       "RandomForestClassifier(bootstrap=True, class_weight='balanced',\n",
       "                       criterion='gini', max_depth=16, max_features='auto',\n",
       "                       max_leaf_nodes=None, min_impurity_decrease=0.0,\n",
       "                       min_impurity_split=None, min_samples_leaf=1,\n",
       "                       min_samples_split=4, min_weight_fraction_leaf=0.0,\n",
       "                       n_estimators=60, n_jobs=None, oob_score=False,\n",
       "                       random_state=12345, verbose=0, warm_start=False)"
      ]
     },
     "execution_count": 22,
     "metadata": {},
     "output_type": "execute_result"
    }
   ],
   "source": [
    "model = RandomForestClassifier(\n",
    "    n_estimators=60,\n",
    "    min_samples_split=4, \n",
    "    min_samples_leaf=1, \n",
    "    max_depth=16, \n",
    "    random_state=12345,\n",
    "    class_weight='balanced')\n",
    "\n",
    "model.fit(features_upsampled, target_upsampled)"
   ]
  },
  {
   "cell_type": "code",
   "execution_count": 23,
   "metadata": {},
   "outputs": [],
   "source": [
    "probabilities_valid = model.predict_proba(features_valid)\n",
    "probabilities_one_valid = probabilities_valid[:, 1]"
   ]
  },
  {
   "cell_type": "code",
   "execution_count": 24,
   "metadata": {},
   "outputs": [
    {
     "name": "stdout",
     "output_type": "stream",
     "text": [
      "Порог = 0.30 | F1 = 0.561\n",
      "Порог = 0.31 | F1 = 0.569\n",
      "Порог = 0.32 | F1 = 0.577\n",
      "Порог = 0.33 | F1 = 0.587\n",
      "Порог = 0.34 | F1 = 0.595\n",
      "Порог = 0.35 | F1 = 0.604\n",
      "Порог = 0.36 | F1 = 0.603\n",
      "Порог = 0.37 | F1 = 0.606\n",
      "Порог = 0.38 | F1 = 0.615\n",
      "Порог = 0.39 | F1 = 0.615\n",
      "Порог = 0.40 | F1 = 0.619\n",
      "Порог = 0.41 | F1 = 0.620\n",
      "Порог = 0.42 | F1 = 0.619\n",
      "Порог = 0.43 | F1 = 0.618\n",
      "Порог = 0.44 | F1 = 0.618\n",
      "Порог = 0.45 | F1 = 0.615\n",
      "Порог = 0.46 | F1 = 0.621\n",
      "Порог = 0.47 | F1 = 0.621\n",
      "Порог = 0.48 | F1 = 0.623\n",
      "Порог = 0.49 | F1 = 0.632\n",
      "Порог = 0.50 | F1 = 0.637\n",
      "Порог = 0.51 | F1 = 0.629\n",
      "Порог = 0.52 | F1 = 0.633\n",
      "Порог = 0.53 | F1 = 0.635\n",
      "Порог = 0.54 | F1 = 0.632\n",
      "Порог = 0.55 | F1 = 0.632\n",
      "Порог = 0.56 | F1 = 0.626\n",
      "Порог = 0.57 | F1 = 0.625\n",
      "Порог = 0.58 | F1 = 0.627\n",
      "Порог = 0.59 | F1 = 0.618\n",
      "Порог = 0.60 | F1 = 0.615\n",
      "Порог = 0.61 | F1 = 0.612\n",
      "Порог = 0.62 | F1 = 0.606\n",
      "Порог = 0.63 | F1 = 0.596\n",
      "Порог = 0.64 | F1 = 0.586\n",
      "Порог = 0.65 | F1 = 0.578\n",
      "Порог = 0.66 | F1 = 0.571\n",
      "Порог = 0.67 | F1 = 0.562\n",
      "Порог = 0.68 | F1 = 0.558\n",
      "Порог = 0.69 | F1 = 0.550\n"
     ]
    }
   ],
   "source": [
    "for threshold in np.arange(0.3, 0.7, 0.01):\n",
    "    predicted_valid = probabilities_one_valid > threshold\n",
    "\n",
    "    f1 = f1_score(target_valid, predicted_valid)\n",
    "\n",
    "    print(\"Порог = {:.2f} | F1 = {:.3f}\".format(\n",
    "        threshold, f1))"
   ]
  },
  {
   "cell_type": "markdown",
   "metadata": {},
   "source": [
    "Оптимальное значение порога 0.48"
   ]
  },
  {
   "cell_type": "markdown",
   "metadata": {},
   "source": [
    "#### Подберем значение порога для логистической регрессии при использовании метода upsampling"
   ]
  },
  {
   "cell_type": "markdown",
   "metadata": {},
   "source": [
    "На всякий случай. Вдруг логистическая регрессия тоже хорошо себя покажет. "
   ]
  },
  {
   "cell_type": "code",
   "execution_count": 25,
   "metadata": {},
   "outputs": [
    {
     "name": "stdout",
     "output_type": "stream",
     "text": [
      "Порог = 0.30 | F1 = 0.359\n",
      "Порог = 0.31 | F1 = 0.360\n",
      "Порог = 0.32 | F1 = 0.363\n",
      "Порог = 0.33 | F1 = 0.368\n",
      "Порог = 0.34 | F1 = 0.375\n",
      "Порог = 0.35 | F1 = 0.381\n",
      "Порог = 0.36 | F1 = 0.386\n",
      "Порог = 0.37 | F1 = 0.388\n",
      "Порог = 0.38 | F1 = 0.388\n",
      "Порог = 0.39 | F1 = 0.395\n",
      "Порог = 0.40 | F1 = 0.402\n",
      "Порог = 0.41 | F1 = 0.406\n",
      "Порог = 0.42 | F1 = 0.409\n",
      "Порог = 0.43 | F1 = 0.418\n",
      "Порог = 0.44 | F1 = 0.421\n",
      "Порог = 0.45 | F1 = 0.429\n",
      "Порог = 0.46 | F1 = 0.431\n",
      "Порог = 0.47 | F1 = 0.430\n",
      "Порог = 0.48 | F1 = 0.438\n",
      "Порог = 0.49 | F1 = 0.438\n",
      "Порог = 0.50 | F1 = 0.436\n",
      "Порог = 0.51 | F1 = 0.446\n",
      "Порог = 0.52 | F1 = 0.450\n",
      "Порог = 0.53 | F1 = 0.446\n",
      "Порог = 0.54 | F1 = 0.453\n",
      "Порог = 0.55 | F1 = 0.455\n",
      "Порог = 0.56 | F1 = 0.456\n",
      "Порог = 0.57 | F1 = 0.459\n",
      "Порог = 0.58 | F1 = 0.456\n",
      "Порог = 0.59 | F1 = 0.443\n",
      "Порог = 0.60 | F1 = 0.424\n",
      "Порог = 0.61 | F1 = 0.411\n",
      "Порог = 0.62 | F1 = 0.405\n",
      "Порог = 0.63 | F1 = 0.398\n",
      "Порог = 0.64 | F1 = 0.388\n",
      "Порог = 0.65 | F1 = 0.370\n",
      "Порог = 0.66 | F1 = 0.364\n",
      "Порог = 0.67 | F1 = 0.347\n",
      "Порог = 0.68 | F1 = 0.326\n",
      "Порог = 0.69 | F1 = 0.300\n"
     ]
    }
   ],
   "source": [
    "model = LogisticRegression(C=0.01, solver='liblinear', random_state=12345)\n",
    "model.fit(features_upsampled, target_upsampled)\n",
    "    \n",
    "probabilities_valid = model.predict_proba(features_valid)\n",
    "probabilities_one_valid = probabilities_valid[:, 1]\n",
    "\n",
    "for threshold in np.arange(0.3, 0.7, 0.01):\n",
    "    predicted_valid = probabilities_one_valid > threshold\n",
    "\n",
    "    f1 = f1_score(target_valid, predicted_valid)\n",
    "\n",
    "    print(\"Порог = {:.2f} | F1 = {:.3f}\".format(\n",
    "        threshold, f1))"
   ]
  },
  {
   "cell_type": "markdown",
   "metadata": {},
   "source": [
    "Самое высокое значение F1 получилось 0.462, что значительно меньше, чем у случайного леса. Далее будем рассматривать только его."
   ]
  },
  {
   "cell_type": "markdown",
   "metadata": {},
   "source": [
    "#### Вывод:\n",
    "Наилучший результат (F1 = 0.638), достигнут случайным лесом при использовании методов upsampling и class_weight='balanced', а также при значении порога 0.48"
   ]
  },
  {
   "cell_type": "markdown",
   "metadata": {},
   "source": [
    "# 4. Тестирование модели <a id='section4'></a>"
   ]
  },
  {
   "cell_type": "markdown",
   "metadata": {},
   "source": [
    "#### Обучим модель случайного леса на тренировочных и валидационных данных"
   ]
  },
  {
   "cell_type": "code",
   "execution_count": 26,
   "metadata": {},
   "outputs": [
    {
     "data": {
      "text/plain": [
       "0    6381\n",
       "1    1616\n",
       "Name: Exited, dtype: int64"
      ]
     },
     "execution_count": 26,
     "metadata": {},
     "output_type": "execute_result"
    }
   ],
   "source": [
    "# Объединим данные\n",
    "features = features_train.append(features_valid)\n",
    "target = target_train.append(target_valid)\n",
    "\n",
    "target.value_counts()"
   ]
  },
  {
   "cell_type": "markdown",
   "metadata": {},
   "source": [
    "Значения также отличаются почти в 4 раза "
   ]
  },
  {
   "cell_type": "markdown",
   "metadata": {},
   "source": [
    "#### Используем метод upsampling"
   ]
  },
  {
   "cell_type": "code",
   "execution_count": 27,
   "metadata": {},
   "outputs": [
    {
     "data": {
      "text/plain": [
       "1    6464\n",
       "0    6381\n",
       "Name: Exited, dtype: int64"
      ]
     },
     "execution_count": 27,
     "metadata": {},
     "output_type": "execute_result"
    }
   ],
   "source": [
    "features_upsampled, target_upsampled = upsample(features, target, 4)\n",
    "\n",
    "target_upsampled.value_counts()"
   ]
  },
  {
   "cell_type": "code",
   "execution_count": 28,
   "metadata": {},
   "outputs": [
    {
     "name": "stdout",
     "output_type": "stream",
     "text": [
      "F1 = 0.608\n"
     ]
    }
   ],
   "source": [
    "model = RandomForestClassifier(\n",
    "    n_estimators=60,\n",
    "    min_samples_split=4, \n",
    "    min_samples_leaf=1, \n",
    "    max_depth=16, \n",
    "    random_state=12345,\n",
    "    class_weight='balanced')\n",
    "\n",
    "model.fit(features, target)\n",
    "\n",
    "probabilities_test = model.predict_proba(features_test)\n",
    "probabilities_one_test = probabilities_test[:, 1]\n",
    "\n",
    "predicted_test = probabilities_one_test > 0.48\n",
    "\n",
    "f1 = f1_score(target_test, predicted_test)\n",
    "\n",
    "print(\"F1 = {:.3f}\".format(f1))"
   ]
  },
  {
   "cell_type": "markdown",
   "metadata": {},
   "source": [
    "#### Вывод:\n",
    "Модель обучена на валидационной и тренировочной выборке. Далее модель была протестированна на тестовой выборке. Значение F1 на тестовой выборке 0.608. Результат получен при устранении дисбаланса методом upsampling и выборе значения порога в 0.48. "
   ]
  },
  {
   "cell_type": "markdown",
   "metadata": {},
   "source": [
    "# 5. Проверка модели на адекватность <a id='section5'></a>"
   ]
  },
  {
   "cell_type": "markdown",
   "metadata": {},
   "source": [
    "Чтобы проверить нашу модель на адекватность, нужно сравнить ее AUC_ROC, с AUC_ROC при подстановке наиболее популярного значения (в нашем случае 0). "
   ]
  },
  {
   "cell_type": "code",
   "execution_count": 29,
   "metadata": {},
   "outputs": [],
   "source": [
    "from sklearn.metrics import roc_auc_score"
   ]
  },
  {
   "cell_type": "code",
   "execution_count": 30,
   "metadata": {},
   "outputs": [
    {
     "name": "stdout",
     "output_type": "stream",
     "text": [
      "AUC_ROC модели = 0.860\n",
      "AUC_ROC при нулях = 0.500\n"
     ]
    }
   ],
   "source": [
    "# создадим последовательность из нулей по длине равную target_test\n",
    "check = target_test * 0\n",
    "\n",
    "auc_roc = roc_auc_score(target_test, probabilities_one_test)\n",
    "print(\"AUC_ROC модели = {:.3f}\".format(auc_roc))\n",
    "\n",
    "\n",
    "auc_roc = roc_auc_score(target_test, check)\n",
    "\n",
    "print(\"AUC_ROC при нулях = {:.3f}\".format(auc_roc))"
   ]
  },
  {
   "cell_type": "markdown",
   "metadata": {},
   "source": [
    "#### Вывод:\n",
    "Проверка на адекватность показала, что предсказания модели значительно точнее подстановки популярного значения. \n",
    "\n",
    "AUC_ROC модели = 0.860\n",
    "\n",
    "AUC_ROC при нулях = 0.500"
   ]
  },
  {
   "cell_type": "markdown",
   "metadata": {},
   "source": [
    "# 6. Общий вывод <a id='section6'></a>"
   ]
  },
  {
   "cell_type": "markdown",
   "metadata": {},
   "source": [
    "При изучении данных было обнаружено, что есть пропуски в столбце Tenure (количество недвижимости). Пропуски были заполнены округленными до целых чисел медианами среди похожих клиентов (пол, возраст, страна). Также категориальные признаки были переведены в численные. \n",
    "\n",
    "Полученные данные были разделены на тренировочную, валидационную и тестовую выборки в соотношении 6/2/2 соответственно. \n",
    "\n",
    "Были протестированны следующие модели с подбором оптимальных параметров:\n",
    "* Дерево решений\n",
    "* Случайный лес\n",
    "* Логистическая регрессия\n",
    "\n",
    "Наиболее точный результат дала модель случайного леса. \n",
    "\n",
    "В целевом признаке был обнаружен дисбаланс. Он был устранен методом upsampling. Также было подобрано оптимальное пороговое значение (0.48). \n",
    "\n",
    "Модель была переобучена на валидационной и тренировочной выборке. После этого модель была протестированна на тестовой выборке.\n",
    "\n",
    "Значение F1 на тестовой выборке получилось 0.608. \n",
    "\n",
    "Модель была протестированна на адекватность, путем сравнения AUC_ROC модели с AUC_ROC при подстановке нулей. Предсказания модели получились значительно точнее подстановки популярного значения. \n",
    "\n",
    "* AUC_ROC модели = 0.860\n",
    "* AUC_ROC при нулях = 0.500"
   ]
  }
 ],
 "metadata": {
  "kernelspec": {
   "display_name": "Python 3",
   "language": "python",
   "name": "python3"
  },
  "language_info": {
   "codemirror_mode": {
    "name": "ipython",
    "version": 3
   },
   "file_extension": ".py",
   "mimetype": "text/x-python",
   "name": "python",
   "nbconvert_exporter": "python",
   "pygments_lexer": "ipython3",
   "version": "3.7.7"
  }
 },
 "nbformat": 4,
 "nbformat_minor": 2
}
